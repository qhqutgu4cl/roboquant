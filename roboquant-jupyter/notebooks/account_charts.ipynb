{
 "cells": [
  {
   "cell_type": "code",
   "execution_count": null,
   "metadata": {
    "tags": []
   },
   "outputs": [],
   "source": [
    "%use roboquant@url[https://roboquant.org/roboquant.json]\n",
    "Output.lab()\n",
    "val feed = AvroFeed.usTest()"
   ]
  },
  {
   "cell_type": "code",
   "execution_count": null,
   "metadata": {
    "tags": []
   },
   "outputs": [],
   "source": [
    "val strategy = EMACrossover(50, 200)\n",
    "val roboquant =  Roboquant(strategy, AccountSummary())\n",
    "val timeframe = Timeframe.fromYears(2019, 2020)\n",
    "roboquant.run(feed, timeframe)"
   ]
  },
  {
   "cell_type": "code",
   "execution_count": null,
   "metadata": {},
   "outputs": [],
   "source": [
    "val account = roboquant.broker.account\n",
    "AssetAllocationChart(account, includeCash = false, includeAssetClass=false)"
   ]
  },
  {
   "cell_type": "code",
   "execution_count": null,
   "metadata": {},
   "outputs": [],
   "source": [
    "AssetAllocationChart(account, includeCash = true, includeAssetClass=true)"
   ]
  },
  {
   "cell_type": "code",
   "execution_count": null,
   "metadata": {},
   "outputs": [],
   "source": [
    "val trades = account.trades.filter { it.pnl.value < -100 }\n",
    "TradeChart(account.trades)"
   ]
  },
  {
   "cell_type": "code",
   "execution_count": null,
   "metadata": {},
   "outputs": [],
   "source": [
    "val chart = TradeChartByAsset(trades)\n",
    "chart.height = 1000\n",
    "chart"
   ]
  },
  {
   "cell_type": "code",
   "execution_count": null,
   "metadata": {},
   "outputs": [],
   "source": [
    "TradeChart(trades, aspect = \"cost\") "
   ]
  },
  {
   "cell_type": "code",
   "execution_count": null,
   "metadata": {},
   "outputs": [],
   "source": [
    "val asset = account.assets.first()\n",
    "val timeframe = Timeframe.parse(\"2019-01-01\", \"2019-01-15\")\n",
    "PriceBarChart(feed, asset, account.trades, timeframe, useTime = false)"
   ]
  },
  {
   "cell_type": "code",
   "execution_count": null,
   "metadata": {},
   "outputs": [],
   "source": [
    "val orders = account.closedOrders.filter { it.asset.symbol.startsWith(\"A\") }\n",
    "OrderChart(orders) "
   ]
  },
  {
   "cell_type": "code",
   "execution_count": null,
   "metadata": {},
   "outputs": [],
   "source": []
  }
 ],
 "metadata": {
  "kernelspec": {
   "display_name": "Kotlin",
   "language": "kotlin",
   "name": "kotlin"
  },
  "language_info": {
   "codemirror_mode": "text/x-kotlin",
   "file_extension": ".kt",
   "mimetype": "text/x-kotlin",
   "name": "kotlin",
   "nbconvert_exporter": "",
   "pygments_lexer": "kotlin",
   "version": "1.7.20-dev-1299"
  }
 },
 "nbformat": 4,
 "nbformat_minor": 4
}
