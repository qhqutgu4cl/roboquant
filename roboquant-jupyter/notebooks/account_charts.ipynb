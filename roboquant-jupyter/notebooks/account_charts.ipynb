{
 "cells": [
  {
   "cell_type": "code",
   "execution_count": 1,
   "metadata": {
    "tags": []
   },
   "outputs": [
    {
     "data": {
      "text/html": [
       "            <div id=\"kotlin_out_0\"/>\n",
       "            <script type=\"text/javascript\">\n",
       "                            if(!window.kotlinQueues) {\n",
       "                window.kotlinQueues = {};\n",
       "            }\n",
       "            if(!window.kotlinQueues[\"echarts\"]) {\n",
       "                var resQueue = [];\n",
       "                window.kotlinQueues[\"echarts\"] = resQueue;\n",
       "                window[\"call_echarts\"] = function(f) {\n",
       "                    resQueue.push(f);\n",
       "                }\n",
       "            }\n",
       "            (function (){\n",
       "                var modifiers = [(function(script) {\n",
       "    script.src = \"https://cdn.jsdelivr.net/npm/echarts@5/dist/echarts.min.js\"\n",
       "    script.type = \"text/javascript\";\n",
       "})];\n",
       "                var e = document.getElementById(\"kotlin_out_0\");\n",
       "                modifiers.forEach(function (gen) {\n",
       "                    var script = document.createElement(\"script\");\n",
       "                    gen(script)\n",
       "                    script.addEventListener(\"load\", function() {\n",
       "                        window[\"call_echarts\"] = function(f) {f();};\n",
       "                        window.kotlinQueues[\"echarts\"].forEach(function(f) {f();});\n",
       "                        window.kotlinQueues[\"echarts\"] = [];\n",
       "                    }, false);\n",
       "                    script.addEventListener(\"error\", function() {\n",
       "                        window[\"call_echarts\"] = function(f) {};\n",
       "                        window.kotlinQueues[\"echarts\"] = [];\n",
       "                        var div = document.createElement(\"div\");\n",
       "                        div.style.color = 'darkred';\n",
       "                        div.textContent = 'Error loading resource echarts';\n",
       "                        document.getElementById(\"kotlin_out_0\").appendChild(div);\n",
       "                    }, false);\n",
       "                    \n",
       "                    e.appendChild(script);\n",
       "                });\n",
       "            })();\n",
       "            </script>"
      ]
     },
     "metadata": {},
     "output_type": "display_data"
    }
   ],
   "source": [
    "%use roboquant@url[https://roboquant.org/roboquant.json]\n",
    "Output.lab()\n",
    "val feed = AvroFeed.usTest()"
   ]
  },
  {
   "cell_type": "code",
   "execution_count": 2,
   "metadata": {
    "tags": []
   },
   "outputs": [
    {
     "name": "stdout",
     "output_type": "stream",
     "text": [
      "2019-01-01 - 2020-12-31 | 100% |████████████████████████████████████████| run-0 | episode=1 | phase=MAIN \n"
     ]
    }
   ],
   "source": [
    "val strategy = EMACrossover(50, 200)\n",
    "val roboquant =  Roboquant(strategy, AccountSummary())\n",
    "val timeframe = Timeframe.fromYears(2019, 2020)\n",
    "roboquant.run(feed, timeframe)"
   ]
  },
  {
   "cell_type": "code",
   "execution_count": 3,
   "metadata": {},
   "outputs": [
    {
     "data": {
      "text/html": [
       "<div style=\"width:100%;height:500px;\" class=\"rqcharts\"></div>\n",
       "<script type=\"text/javascript\">\n",
       "    (function () {\n",
       "        let elem = document.currentScript.previousElementSibling;\n",
       "        let fn = function(a) {\n",
       "            let theme = document.body.dataset.jpThemeLight == 'false' ? 'dark' : 'light';\n",
       "            let myChart = echarts.init(elem, theme);\n",
       "            let option = {\"backgroundColor\":\"rgba(0,0,0,0)\",\"title\":{\"text\":\"Asset allocation\"},\"grid\":{\"right\":\"3%\",\"left\":\"3%\",\"containLabel\":true},\"toolbox\":{\"feature\":{\"saveAsImage\":{},\"restore\":{},\"dataView\":{\"readOnly\":true}}},\"tooltip\":{},\"series\":[{\"type\":\"pie\",\"data\":[{\"name\":\"AMZN\",\"value\":35826.23,\"type\":\"STOCK\"},{\"name\":\"IBM\",\"value\":20014.95,\"type\":\"STOCK\"},{\"name\":\"JNJ\",\"value\":22403.95,\"type\":\"STOCK\"},{\"name\":\"JPM\",\"value\":22311.00,\"type\":\"STOCK\"},{\"name\":\"TSLA\",\"value\":223697.39,\"type\":\"STOCK\"}],\"radius\":\"80%\"}]};\n",
       "            myChart.setOption(option);\n",
       "            elem.ondblclick = function () { myChart.resize() }; \n",
       "        }\n",
       "        call_echarts(fn)        \n",
       "    })()\n",
       "</script>"
      ]
     },
     "execution_count": 3,
     "metadata": {},
     "output_type": "execute_result"
    }
   ],
   "source": [
    "val account = roboquant.broker.account\n",
    "AssetAllocationChart(account, includeCash = false, includeAssetClass=false)"
   ]
  },
  {
   "cell_type": "code",
   "execution_count": 4,
   "metadata": {},
   "outputs": [
    {
     "data": {
      "text/html": [
       "<div style=\"width:100%;height:500px;\" class=\"rqcharts\"></div>\n",
       "<script type=\"text/javascript\">\n",
       "    (function () {\n",
       "        let elem = document.currentScript.previousElementSibling;\n",
       "        let fn = function(a) {\n",
       "            let theme = document.body.dataset.jpThemeLight == 'false' ? 'dark' : 'light';\n",
       "            let myChart = echarts.init(elem, theme);\n",
       "            let option = {\"backgroundColor\":\"rgba(0,0,0,0)\",\"title\":{\"text\":\"Asset Allocation\"},\"grid\":{\"right\":\"3%\",\"left\":\"3%\",\"containLabel\":true},\"toolbox\":{\"feature\":{\"saveAsImage\":{},\"restore\":{},\"dataView\":{\"readOnly\":true}}},\"tooltip\":{},\"series\":[{\"type\":\"sunburst\",\"data\":[{\"name\":\"CASH\",\"children\":[{\"name\":\"USD\",\"value\":899153.00,\"type\":\"CASH\"}]},{\"name\":\"STOCK\",\"children\":[{\"name\":\"AMZN\",\"value\":35826.23,\"type\":\"STOCK\"},{\"name\":\"IBM\",\"value\":20014.95,\"type\":\"STOCK\"},{\"name\":\"JNJ\",\"value\":22403.95,\"type\":\"STOCK\"},{\"name\":\"JPM\",\"value\":22311.00,\"type\":\"STOCK\"},{\"name\":\"TSLA\",\"value\":223697.39,\"type\":\"STOCK\"}]}],\"radius\":\"80%\"}]};\n",
       "            myChart.setOption(option);\n",
       "            elem.ondblclick = function () { myChart.resize() }; \n",
       "        }\n",
       "        call_echarts(fn)        \n",
       "    })()\n",
       "</script>"
      ]
     },
     "execution_count": 4,
     "metadata": {},
     "output_type": "execute_result"
    }
   ],
   "source": [
    "AssetAllocationChart(account, includeCash = true, includeAssetClass=true)"
   ]
  },
  {
   "cell_type": "code",
   "execution_count": 5,
   "metadata": {},
   "outputs": [
    {
     "data": {
      "text/html": [
       "<div style=\"width:100%;height:500px;\" class=\"rqcharts\"></div>\n",
       "<script type=\"text/javascript\">\n",
       "    (function () {\n",
       "        let elem = document.currentScript.previousElementSibling;\n",
       "        let fn = function(a) {\n",
       "            let theme = document.body.dataset.jpThemeLight == 'false' ? 'dark' : 'light';\n",
       "            let myChart = echarts.init(elem, theme);\n",
       "            let option = {\"backgroundColor\":\"rgba(0,0,0,0)\",\"title\":{\"text\":\"Trade pnl\"},\"grid\":{\"right\":\"3%\",\"left\":\"3%\",\"containLabel\":true},\"xAxis\":[{\"type\":\"time\"}],\"yAxis\":[{\"type\":\"value\",\"scale\":true}],\"toolbox\":{\"feature\":{\"saveAsImage\":{},\"dataView\":{\"readOnly\":true},\"dataZoom\":{\"yAxisIndex\":\"none\"},\"restore\":{}}},\"tooltip\":{\"formatter\":\"return p.value[2];\"},\"dataZoom\":{},\"visualMap\":{\"top\":\"top\",\"left\":\"center\",\"min\":-911.43,\"max\":0.00,\"dimension\":1,\"orient\":\"horizontal\",\"color\":[\"#0C0\",\"#CC0\",\"#C00\"],\"calculable\":true},\"series\":[{\"type\":\"scatter\",\"data\":[[1572552000000,0.00,\"asset: TSLA\\u003cbr\\u003e\\ncurrency: USD\\u003cbr\\u003e\\ntime: 2019-10-31T20:00:00Z\\u003cbr\\u003e\\nsize: 317\\u003cbr\\u003e\\nfee: 0.00\\u003cbr\\u003e\\npnl: 0.00\\u003cbr\\u003e\\ncost: 19985.89\\u003cbr\\u003e\\norder: 0\"],[1574456400000,0.00,\"asset: JNJ\\u003cbr\\u003e\\ncurrency: USD\\u003cbr\\u003e\\ntime: 2019-11-22T21:00:00Z\\u003cbr\\u003e\\nsize: 154\\u003cbr\\u003e\\nfee: 0.00\\u003cbr\\u003e\\npnl: 0.00\\u003cbr\\u003e\\ncost: 20203.42\\u003cbr\\u003e\\norder: 1\"],[1574888400000,0.00,\"asset: AMZN\\u003cbr\\u003e\\ncurrency: USD\\u003cbr\\u003e\\ntime: 2019-11-27T21:00:00Z\\u003cbr\\u003e\\nsize: 11\\u003cbr\\u003e\\nfee: 0.00\\u003cbr\\u003e\\npnl: 0.00\\u003cbr\\u003e\\ncost: 20023.61\\u003cbr\\u003e\\norder: 2\"],[1576011600000,-911.43,\"asset: AMZN\\u003cbr\\u003e\\ncurrency: USD\\u003cbr\\u003e\\ntime: 2019-12-10T21:00:00Z\\u003cbr\\u003e\\nsize: -11\\u003cbr\\u003e\\nfee: 0.00\\u003cbr\\u003e\\npnl: -911.43\\u003cbr\\u003e\\ncost: -19112.18\\u003cbr\\u003e\\norder: 3\"],[1577221200000,0.00,\"asset: AMZN\\u003cbr\\u003e\\ncurrency: USD\\u003cbr\\u003e\\ntime: 2019-12-24T21:00:00Z\\u003cbr\\u003e\\nsize: 11\\u003cbr\\u003e\\nfee: 0.00\\u003cbr\\u003e\\npnl: 0.00\\u003cbr\\u003e\\ncost: 19700.99\\u003cbr\\u003e\\norder: 4\"],[1585857600000,-498.83,\"asset: JNJ\\u003cbr\\u003e\\ncurrency: USD\\u003cbr\\u003e\\ntime: 2020-04-02T20:00:00Z\\u003cbr\\u003e\\nsize: -154\\u003cbr\\u003e\\nfee: 0.00\\u003cbr\\u003e\\npnl: -498.83\\u003cbr\\u003e\\ncost: -19704.60\\u003cbr\\u003e\\norder: 5\"],[1586462400000,0.00,\"asset: JNJ\\u003cbr\\u003e\\ncurrency: USD\\u003cbr\\u003e\\ntime: 2020-04-09T20:00:00Z\\u003cbr\\u003e\\nsize: 145\\u003cbr\\u003e\\nfee: 0.00\\u003cbr\\u003e\\npnl: 0.00\\u003cbr\\u003e\\ncost: 19717.95\\u003cbr\\u003e\\norder: 6\"],[1605301200000,0.00,\"asset: JPM\\u003cbr\\u003e\\ncurrency: USD\\u003cbr\\u003e\\ntime: 2020-11-13T21:00:00Z\\u003cbr\\u003e\\nsize: 180\\u003cbr\\u003e\\nfee: 0.00\\u003cbr\\u003e\\npnl: 0.00\\u003cbr\\u003e\\ncost: 20050.43\\u003cbr\\u003e\\norder: 7\"],[1608238800000,0.00,\"asset: IBM\\u003cbr\\u003e\\ncurrency: USD\\u003cbr\\u003e\\ntime: 2020-12-17T21:00:00Z\\u003cbr\\u003e\\nsize: 167\\u003cbr\\u003e\\nfee: 0.00\\u003cbr\\u003e\\npnl: 0.00\\u003cbr\\u003e\\ncost: 19981.47\\u003cbr\\u003e\\norder: 8\"]],\"symbolSize\":10}]};option.tooltip.formatter = new Function(\"p\", option.tooltip.formatter);\n",
       "            myChart.setOption(option);\n",
       "            elem.ondblclick = function () { myChart.resize() }; \n",
       "        }\n",
       "        call_echarts(fn)        \n",
       "    })()\n",
       "</script>"
      ]
     },
     "execution_count": 5,
     "metadata": {},
     "output_type": "execute_result"
    }
   ],
   "source": [
    "val trades = account.trades.filter { it.pnl.value < -100 }\n",
    "TradeChart(account.trades)"
   ]
  },
  {
   "cell_type": "code",
   "execution_count": 6,
   "metadata": {},
   "outputs": [
    {
     "data": {
      "text/html": [
       "<div style=\"width:100%;height:1000px;\" class=\"rqcharts\"></div>\n",
       "<script type=\"text/javascript\">\n",
       "    (function () {\n",
       "        let elem = document.currentScript.previousElementSibling;\n",
       "        let fn = function(a) {\n",
       "            let theme = document.body.dataset.jpThemeLight == 'false' ? 'dark' : 'light';\n",
       "            let myChart = echarts.init(elem, theme);\n",
       "            let option = {\"backgroundColor\":\"rgba(0,0,0,0)\",\"title\":{\"text\":\"Trade Chart pnl\"},\"grid\":{\"right\":\"3%\",\"left\":\"3%\",\"containLabel\":true},\"xAxis\":[{\"type\":\"time\"}],\"yAxis\":[{\"type\":\"category\",\"splitArea\":{\"show\":true},\"data\":[\"AMZN\",\"JNJ\"]}],\"toolbox\":{\"feature\":{\"saveAsImage\":{},\"dataView\":{\"readOnly\":true},\"dataZoom\":{},\"restore\":{}}},\"tooltip\":{\"formatter\":\"return p.value[3];\"},\"dataZoom\":{},\"series\":[{\"type\":\"scatter\",\"data\":[[1576011600000,0,-911.43,\"asset: AMZN\\u003cbr\\u003e\\ncurrency: USD\\u003cbr\\u003e \\ntime: 2019-12-10T21:00:00Z\\u003cbr\\u003e\\nqty: -11\\u003cbr\\u003e\\nfee: 0.00\\u003cbr\\u003e\\npnl: -911.43\\u003cbr\\u003e\\ncost: -19112.18\\u003cbr\\u003e \\norder: 3\"],[1585857600000,1,-498.83,\"asset: JNJ\\u003cbr\\u003e\\ncurrency: USD\\u003cbr\\u003e \\ntime: 2020-04-02T20:00:00Z\\u003cbr\\u003e\\nqty: -154\\u003cbr\\u003e\\nfee: 0.00\\u003cbr\\u003e\\npnl: -498.83\\u003cbr\\u003e\\ncost: -19704.60\\u003cbr\\u003e \\norder: 5\"]],\"symbolSize\":10}]};option.tooltip.formatter = new Function(\"p\", option.tooltip.formatter);\n",
       "            myChart.setOption(option);\n",
       "            elem.ondblclick = function () { myChart.resize() }; \n",
       "        }\n",
       "        call_echarts(fn)        \n",
       "    })()\n",
       "</script>"
      ]
     },
     "execution_count": 6,
     "metadata": {},
     "output_type": "execute_result"
    }
   ],
   "source": [
    "val chart = TradeChartByAsset(trades)\n",
    "chart.height = 1000\n",
    "chart"
   ]
  },
  {
   "cell_type": "code",
   "execution_count": 7,
   "metadata": {},
   "outputs": [
    {
     "data": {
      "text/html": [
       "<div style=\"width:100%;height:500px;\" class=\"rqcharts\"></div>\n",
       "<script type=\"text/javascript\">\n",
       "    (function () {\n",
       "        let elem = document.currentScript.previousElementSibling;\n",
       "        let fn = function(a) {\n",
       "            let theme = document.body.dataset.jpThemeLight == 'false' ? 'dark' : 'light';\n",
       "            let myChart = echarts.init(elem, theme);\n",
       "            let option = {\"backgroundColor\":\"rgba(0,0,0,0)\",\"title\":{\"text\":\"Trade cost\"},\"grid\":{\"right\":\"3%\",\"left\":\"3%\",\"containLabel\":true},\"xAxis\":[{\"type\":\"time\"}],\"yAxis\":[{\"type\":\"value\",\"scale\":true}],\"toolbox\":{\"feature\":{\"saveAsImage\":{},\"dataView\":{\"readOnly\":true},\"dataZoom\":{\"yAxisIndex\":\"none\"},\"restore\":{}}},\"tooltip\":{\"formatter\":\"return p.value[2];\"},\"dataZoom\":{},\"visualMap\":{\"top\":\"top\",\"left\":\"center\",\"min\":-19704.60,\"max\":-19112.18,\"dimension\":1,\"orient\":\"horizontal\",\"color\":[\"#0C0\",\"#CC0\",\"#C00\"],\"calculable\":true},\"series\":[{\"type\":\"scatter\",\"data\":[[1576011600000,-19112.18,\"asset: AMZN\\u003cbr\\u003e\\ncurrency: USD\\u003cbr\\u003e\\ntime: 2019-12-10T21:00:00Z\\u003cbr\\u003e\\nsize: -11\\u003cbr\\u003e\\nfee: 0.00\\u003cbr\\u003e\\npnl: -911.43\\u003cbr\\u003e\\ncost: -19112.18\\u003cbr\\u003e\\norder: 3\"],[1585857600000,-19704.60,\"asset: JNJ\\u003cbr\\u003e\\ncurrency: USD\\u003cbr\\u003e\\ntime: 2020-04-02T20:00:00Z\\u003cbr\\u003e\\nsize: -154\\u003cbr\\u003e\\nfee: 0.00\\u003cbr\\u003e\\npnl: -498.83\\u003cbr\\u003e\\ncost: -19704.60\\u003cbr\\u003e\\norder: 5\"]],\"symbolSize\":10}]};option.tooltip.formatter = new Function(\"p\", option.tooltip.formatter);\n",
       "            myChart.setOption(option);\n",
       "            elem.ondblclick = function () { myChart.resize() }; \n",
       "        }\n",
       "        call_echarts(fn)        \n",
       "    })()\n",
       "</script>"
      ]
     },
     "execution_count": 7,
     "metadata": {},
     "output_type": "execute_result"
    }
   ],
   "source": [
    "TradeChart(trades, aspect = \"cost\") "
   ]
  },
  {
   "cell_type": "code",
   "execution_count": 8,
   "metadata": {},
   "outputs": [
    {
     "data": {
      "text/html": [
       "<div style=\"width:100%;height:700px;\" class=\"rqcharts\"></div>\n",
       "<script type=\"text/javascript\">\n",
       "    (function () {\n",
       "        let elem = document.currentScript.previousElementSibling;\n",
       "        let fn = function(a) {\n",
       "            let theme = document.body.dataset.jpThemeLight == 'false' ? 'dark' : 'light';\n",
       "            let myChart = echarts.init(elem, theme);\n",
       "            let option = {\"backgroundColor\":\"rgba(0,0,0,0)\",\"dataset\":{\"source\":[[\"2019-01-02T21:00:00Z\",61.22,63.026,59.76,62.024,5.829324E7,1],[\"2019-01-03T21:00:00Z\",61.4,61.88,59.476,60.072,3.482592E7,-1],[\"2019-01-04T21:00:00Z\",61.2,63.6,60.546,63.538,3.697058E7,1],[\"2019-01-07T21:00:00Z\",64.344,67.348,63.55,66.992,3.7756125E7,1],[\"2019-01-08T21:00:00Z\",68.392,68.802,65.404,67.07,3.504258E7,-1],[\"2019-01-09T21:00:00Z\",67.1,68.701,66.294,67.706,2.7164725E7,1],[\"2019-01-10T21:00:00Z\",66.88,69.078,66.358,68.994,3.028177E7,1],[\"2019-01-11T21:00:00Z\",68.418,69.682,67.754,69.452,2.519526E7,1],[\"2019-01-14T21:00:00Z\",68.476,68.5,66.8,66.88,2.623642E7,-1]]},\"title\":{\"text\":\"TSLA 2019-01-02 - 2019-01-14\"},\"grid\":[{\"right\":\"3%\",\"bottom\":200,\"left\":80},{\"height\":80,\"right\":\"3%\",\"bottom\":80,\"left\":80}],\"xAxis\":[{\"type\":\"category\"},{\"gridIndex\":1,\"type\":\"category\",\"axisLabel\":{\"show\":false},\"axisTick\":{\"show\":false}}],\"yAxis\":[{\"type\":\"value\",\"splitArea\":{\"show\":true},\"scale\":true},{\"gridIndex\":1,\"type\":\"value\",\"axisLabel\":{\"show\":false},\"axisLine\":{\"show\":false},\"splitLine\":{\"show\":false},\"scale\":true}],\"toolbox\":{\"feature\":{\"saveAsImage\":{},\"dataView\":{\"readOnly\":true},\"dataZoom\":{\"yAxisIndex\":\"none\"},\"magicType\":{\"type\":[\"line\",\"bar\"]},\"restore\":{}}},\"tooltip\":{\"trigger\":\"axis\"},\"dataZoom\":[{\"type\":\"inside\",\"xAxisIndex\":[0,1]},{\"type\":\"slider\",\"xAxisIndex\":[0,1]}],\"visualMap\":{\"show\":false,\"seriesIndex\":1,\"dimension\":6,\"pieces\":[{\"color\":\"#0C0\",\"value\":1},{\"color\":\"#C00\",\"value\":-1}]},\"series\":[{\"type\":\"candlestick\",\"name\":\"TSLA\",\"markPoint\":{\"data\":[],\"itemStyle\":{\"color\":\"#CC0\"}},\"itemStyle\":{\"borderColor\":\"#0C0\",\"color\":\"#0C0\",\"color0\":\"#C00\",\"borderColor0\":\"#C00\"},\"encode\":{\"x\":0,\"y\":[1,4,3,2]}},{\"type\":\"bar\",\"color\":\"#fbe9e\",\"xAxisIndex\":1,\"yAxisIndex\":1,\"large\":true,\"encode\":{\"x\":0,\"y\":5}}]};\n",
       "            myChart.setOption(option);\n",
       "            elem.ondblclick = function () { myChart.resize() }; \n",
       "        }\n",
       "        call_echarts(fn)        \n",
       "    })()\n",
       "</script>"
      ]
     },
     "execution_count": 8,
     "metadata": {},
     "output_type": "execute_result"
    }
   ],
   "source": [
    "val asset = account.assets.first()\n",
    "val timeframe = Timeframe.parse(\"2019-01-01\", \"2019-01-15\")\n",
    "PriceBarChart(feed, asset, account.trades, timeframe, useTime = false)"
   ]
  },
  {
   "cell_type": "code",
   "execution_count": 9,
   "metadata": {},
   "outputs": [
    {
     "data": {
      "text/html": [
       "<div style=\"width:100%;height:500px;\" class=\"rqcharts\"></div>\n",
       "<script type=\"text/javascript\">\n",
       "    (function () {\n",
       "        let elem = document.currentScript.previousElementSibling;\n",
       "        let fn = function(a) {\n",
       "            let theme = document.body.dataset.jpThemeLight == 'false' ? 'dark' : 'light';\n",
       "            let myChart = echarts.init(elem, theme);\n",
       "            let option = {\"backgroundColor\":\"rgba(0,0,0,0)\",\"title\":{\"text\":\"Order size\"},\"grid\":{\"right\":\"3%\",\"left\":\"3%\",\"containLabel\":true},\"xAxis\":[{\"type\":\"time\"}],\"yAxis\":[{\"type\":\"value\",\"scale\":true}],\"toolbox\":{\"feature\":{\"saveAsImage\":{},\"dataView\":{\"readOnly\":true},\"dataZoom\":{\"yAxisIndex\":\"none\"},\"restore\":{}}},\"tooltip\":{\"formatter\":\"return p.value[2];\"},\"dataZoom\":{},\"visualMap\":{\"top\":\"top\",\"left\":\"center\",\"min\":-11.00000000,\"max\":11.00000000,\"dimension\":1,\"orient\":\"horizontal\",\"color\":[\"#0C0\",\"#CC0\",\"#C00\"],\"calculable\":true},\"series\":[{\"type\":\"scatter\",\"data\":[[1574888400000,11.00000000,\"asset: AMZN\\u003cbr\\u003e\\ncurrency: USD\\u003cbr\\u003e\\nplaced: 2019-11-27T21:00:00Z\\u003cbr\\u003e\\nsize: 11\\u003cbr\\u003e \\nid: 2\\u003cbr\\u003e \\ntype: MarketOrder\\u003cbr\\u003e \\ntif: GTC\"],[1576011600000,-11.00000000,\"asset: AMZN\\u003cbr\\u003e\\ncurrency: USD\\u003cbr\\u003e\\nplaced: 2019-12-10T21:00:00Z\\u003cbr\\u003e\\nsize: -11\\u003cbr\\u003e \\nid: 3\\u003cbr\\u003e \\ntype: MarketOrder\\u003cbr\\u003e \\ntif: GTC\"],[1577221200000,11.00000000,\"asset: AMZN\\u003cbr\\u003e\\ncurrency: USD\\u003cbr\\u003e\\nplaced: 2019-12-24T21:00:00Z\\u003cbr\\u003e\\nsize: 11\\u003cbr\\u003e \\nid: 4\\u003cbr\\u003e \\ntype: MarketOrder\\u003cbr\\u003e \\ntif: GTC\"]],\"symbolSize\":10}]};option.tooltip.formatter = new Function(\"p\", option.tooltip.formatter);\n",
       "            myChart.setOption(option);\n",
       "            elem.ondblclick = function () { myChart.resize() }; \n",
       "        }\n",
       "        call_echarts(fn)        \n",
       "    })()\n",
       "</script>"
      ]
     },
     "execution_count": 9,
     "metadata": {},
     "output_type": "execute_result"
    }
   ],
   "source": [
    "val orders = account.closedOrders.filter { it.asset.symbol.startsWith(\"A\") }\n",
    "OrderChart(orders) "
   ]
  },
  {
   "cell_type": "code",
   "execution_count": null,
   "metadata": {},
   "outputs": [],
   "source": []
  }
 ],
 "metadata": {
  "kernelspec": {
   "display_name": "Kotlin",
   "language": "kotlin",
   "name": "kotlin"
  },
  "language_info": {
   "codemirror_mode": "text/x-kotlin",
   "file_extension": ".kt",
   "mimetype": "text/x-kotlin",
   "name": "kotlin",
   "nbconvert_exporter": "",
   "pygments_lexer": "kotlin",
   "version": "1.7.20-dev-1299"
  }
 },
 "nbformat": 4,
 "nbformat_minor": 4
}
