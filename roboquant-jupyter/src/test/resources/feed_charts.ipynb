{
 "cells": [
  {
   "cell_type": "code",
   "execution_count": 1,
   "metadata": {
    "execution": {
     "iopub.execute_input": "2023-03-24T11:47:51.608740Z",
     "iopub.status.busy": "2023-03-24T11:47:51.605859Z",
     "iopub.status.idle": "2023-03-24T11:47:53.859717Z",
     "shell.execute_reply": "2023-03-24T11:47:53.859383Z"
    },
    "tags": []
   },
   "outputs": [
    {
     "data": {
      "text/html": [
       "            <div id=\"kotlin_out_0\"/>\n",
       "            <script type=\"text/javascript\">\n",
       "                            if(!window.kotlinQueues) {\n",
       "                window.kotlinQueues = {};\n",
       "            }\n",
       "            if(!window.kotlinQueues[\"echarts\"]) {\n",
       "                var resQueue = [];\n",
       "                window.kotlinQueues[\"echarts\"] = resQueue;\n",
       "                window[\"call_echarts\"] = function(f) {\n",
       "                    resQueue.push(f);\n",
       "                }\n",
       "            }\n",
       "            (function (){\n",
       "                var modifiers = [(function(script) {\n",
       "    script.src = \"https://cdn.jsdelivr.net/gh/neurallayer/roboquant@3bf8cde65fe922f58063095186c6bef5846dbee9/roboquant-jupyter/src/main/resources/js/echarts.min.js\"\n",
       "    script.type = \"text/javascript\";\n",
       "})];\n",
       "                var e = document.getElementById(\"kotlin_out_0\");\n",
       "                modifiers.forEach(function (gen) {\n",
       "                    var script = document.createElement(\"script\");\n",
       "                    gen(script)\n",
       "                    script.addEventListener(\"load\", function() {\n",
       "                        window[\"call_echarts\"] = function(f) {f();};\n",
       "                        window.kotlinQueues[\"echarts\"].forEach(function(f) {f();});\n",
       "                        window.kotlinQueues[\"echarts\"] = [];\n",
       "                    }, false);\n",
       "                    script.addEventListener(\"error\", function() {\n",
       "                        window[\"call_echarts\"] = function(f) {};\n",
       "                        window.kotlinQueues[\"echarts\"] = [];\n",
       "                        var div = document.createElement(\"div\");\n",
       "                        div.style.color = 'darkred';\n",
       "                        div.textContent = 'Error loading resource echarts';\n",
       "                        document.getElementById(\"kotlin_out_0\").appendChild(div);\n",
       "                    }, false);\n",
       "                    \n",
       "                    e.appendChild(script);\n",
       "                });\n",
       "            })();\n",
       "            </script>"
      ]
     },
     "metadata": {},
     "output_type": "display_data"
    }
   ],
   "source": [
    "%use roboquant@url[https://roboquant.org/roboquant.json](1.3.0-SNAPSHOT)"
   ]
  },
  {
   "cell_type": "code",
   "execution_count": 2,
   "metadata": {
    "execution": {
     "iopub.execute_input": "2023-03-24T11:47:53.862286Z",
     "iopub.status.busy": "2023-03-24T11:47:53.861900Z",
     "iopub.status.idle": "2023-03-24T11:47:54.138102Z",
     "shell.execute_reply": "2023-03-24T11:47:54.137553Z"
    },
    "tags": []
   },
   "outputs": [
    {
     "data": {
      "text/html": [
       "<div style=\"width:100%;height:500px;\" class=\"rqcharts\" id=\"roboquant-0\">\n",
       "    <script type=\"text/javascript\">\n",
       "        (function () {\n",
       "            let parentElem = document.currentScript.parentElement;\n",
       "            if (parentElem.tagName == \"HEAD\") {\n",
       "                parentElem = document.getElementById(\"roboquant-0\");\n",
       "            }\n",
       "            console.log(\"registered new chart\");\n",
       "            let option = {\"backgroundColor\":\"rgba(0,0,0,0)\",\"useUTC\":true,\"title\":{\"text\":\"Asset Performance\"},\"grid\":{\"right\":\"3%\",\"left\":\"3%\",\"containLabel\":true},\"toolbox\":{\"feature\":{\"saveAsImage\":{},\"restore\":{},\"dataView\":{\"readOnly\":true}}},\"tooltip\":{\"formatter\":\"return \\u0027symbol: \\u0027+p.name+\\u0027\\u003cbr\\u003etrading amount: \\u0027+p.value[0].toPrecision(4)+ \\u0027\\u003cbr\\u003ereturns: \\u0027+p.value[1]  + \\u0027%\\u0027;\"},\"visualMap\":{\"top\":\"top\",\"left\":\"center\",\"min\":-17.87,\"max\":17.87,\"orient\":\"horizontal\",\"color\":[\"#0C0\",\"#C00\"],\"calculable\":true},\"series\":[{\"type\":\"treemap\",\"name\":\"assets\",\"data\":[{\"name\":\"ASSET1\",\"value\":[60439578,-17.09]},{\"name\":\"ASSET10\",\"value\":[40472571,-2.61]},{\"name\":\"ASSET2\",\"value\":[55391780,2.80]},{\"name\":\"ASSET3\",\"value\":[31915230,-1.37]},{\"name\":\"ASSET4\",\"value\":[25655168,-35.42]},{\"name\":\"ASSET5\",\"value\":[71412569,9.20]},{\"name\":\"ASSET6\",\"value\":[32368008,17.87]},{\"name\":\"ASSET7\",\"value\":[43057397,0.61]},{\"name\":\"ASSET8\",\"value\":[53851515,-6.50]},{\"name\":\"ASSET9\",\"value\":[24694622,-16.93]}],\"itemStyle\":{\"borderColor\":\"rgba(0,0,0,0)\"},\"label\":{\"formatter\":\"{b}\\n{@[1]}%\"},\"breadcrumb\":{\"show\":false}}]};option.tooltip.formatter = new Function('p', option.tooltip.formatter);\n",
       "            window.call_echarts(\n",
       "                function () {\n",
       "                    console.log(\"rendering chart\");\n",
       "                    window.renderEChart(parentElem, option);\n",
       "                }\n",
       "            );\n",
       "        })()\n",
       "    </script>\n",
       "</div>"
      ]
     },
     "execution_count": 2,
     "metadata": {},
     "output_type": "execute_result"
    }
   ],
   "source": [
    "val timeline = Timeframe.fromYears(2019, 2020).toTimeline(1.days)\n",
    "val feed = RandomWalkFeed(timeline)\n",
    "AssetPerformanceChart(feed)"
   ]
  },
  {
   "cell_type": "code",
   "execution_count": 3,
   "metadata": {
    "execution": {
     "iopub.execute_input": "2023-03-24T11:47:54.140880Z",
     "iopub.status.busy": "2023-03-24T11:47:54.140411Z",
     "iopub.status.idle": "2023-03-24T11:47:54.229537Z",
     "shell.execute_reply": "2023-03-24T11:47:54.228981Z"
    },
    "tags": []
   },
   "outputs": [
    {
     "data": {
      "text/html": [
       "<div style=\"width:100%;height:500px;\" class=\"rqcharts\" id=\"roboquant-1\">\n",
       "    <script type=\"text/javascript\">\n",
       "        (function () {\n",
       "            let parentElem = document.currentScript.parentElement;\n",
       "            if (parentElem.tagName == \"HEAD\") {\n",
       "                parentElem = document.getElementById(\"roboquant-1\");\n",
       "            }\n",
       "            console.log(\"registered new chart\");\n",
       "            let option = {\"backgroundColor\":\"rgba(0,0,0,0)\",\"useUTC\":true,\"title\":{\"text\":\"ASSET1 2019-01-01 - 2019-01-31\"},\"grid\":{\"right\":\"3%\",\"left\":\"3%\",\"containLabel\":true},\"xAxis\":[{\"type\":\"time\"}],\"yAxis\":[{\"type\":\"value\",\"scale\":true}],\"toolbox\":{\"feature\":{\"saveAsImage\":{},\"dataView\":{\"readOnly\":true},\"dataZoom\":{\"yAxisIndex\":\"none\"},\"magicType\":{\"type\":[\"line\",\"bar\"]},\"restore\":{}}},\"tooltip\":{\"trigger\":\"axis\"},\"dataZoom\":{},\"series\":[{\"type\":\"line\",\"data\":[[1546383600000,123.89380685800995],[1546470000000,124.10911703760704],[1546556400000,124.68457470827572],[1546642800000,124.68906975625401],[1546729200000,124.88327924498097],[1546815600000,125.42121192634602],[1546902000000,125.13150568313162],[1546988400000,124.93635525757234],[1547074800000,123.75516599772506],[1547161200000,126.01710831207026],[1547247600000,125.1788357590845],[1547334000000,126.29934722848228],[1547420400000,124.71198490936274],[1547506800000,124.33659467733101],[1547593200000,125.05283339055828],[1547679600000,124.59166554471571],[1547766000000,126.40547157368916],[1547852400000,126.89646345678467],[1547938800000,126.65152811145404],[1548025200000,127.89578415513361],[1548111600000,129.0014014835035],[1548198000000,127.97191215861075],[1548284400000,126.88560384806958],[1548370800000,127.51720795445598],[1548457200000,128.41057619498235],[1548543600000,127.69725544922142],[1548630000000,126.78055661955514],[1548716400000,125.84159302066449],[1548802800000,125.61391235987918],[1548889200000,124.71428885986191],[1548975600000,124.80247092228142]],\"lineStyle\":{\"width\":1},\"showSymbol\":false}]};\n",
       "            window.call_echarts(\n",
       "                function () {\n",
       "                    console.log(\"rendering chart\");\n",
       "                    window.renderEChart(parentElem, option);\n",
       "                }\n",
       "            );\n",
       "        })()\n",
       "    </script>\n",
       "</div>"
      ]
     },
     "execution_count": 3,
     "metadata": {},
     "output_type": "execute_result"
    }
   ],
   "source": [
    "val asset = feed.assets.first()\n",
    "val timeframe = Timeframe.parse(\"2019-01\", \"2019-02\")\n",
    "PriceChart(feed, asset, timeframe = timeframe)"
   ]
  },
  {
   "cell_type": "code",
   "execution_count": 4,
   "metadata": {
    "execution": {
     "iopub.execute_input": "2023-03-24T11:47:54.232275Z",
     "iopub.status.busy": "2023-03-24T11:47:54.231753Z",
     "iopub.status.idle": "2023-03-24T11:47:54.287921Z",
     "shell.execute_reply": "2023-03-24T11:47:54.287688Z"
    },
    "tags": []
   },
   "outputs": [
    {
     "data": {
      "text/html": [
       "<div style=\"width:100%;height:700px;\" class=\"rqcharts\" id=\"roboquant-2\">\n",
       "    <script type=\"text/javascript\">\n",
       "        (function () {\n",
       "            let parentElem = document.currentScript.parentElement;\n",
       "            if (parentElem.tagName == \"HEAD\") {\n",
       "                parentElem = document.getElementById(\"roboquant-2\");\n",
       "            }\n",
       "            console.log(\"registered new chart\");\n",
       "            let option = {\"backgroundColor\":\"rgba(0,0,0,0)\",\"useUTC\":true,\"dataset\":{\"source\":[[1546383600000,123.67478314242966,124.60438851245834,122.76455963797697,123.89380685800995,1810.0,1],[1546470000000,124.3927079625455,125.06463664246401,123.4900478496055,124.10911703760704,1057.0,-1],[1546556400000,124.55723617723878,125.62888675719232,124.1155483436508,124.68457470827572,1659.0,1],[1546642800000,124.6058491156021,125.12980129887549,124.14138908349342,124.68906975625401,1864.0,1],[1546729200000,124.76232815441595,125.14524316932899,123.9214459100472,124.88327924498097,1224.0,1],[1546815600000,125.57252171913623,125.79005851325968,124.95841619491964,125.42121192634602,1222.0,-1],[1546902000000,124.7650981009834,125.23649535788093,124.65832352901978,125.13150568313162,1711.0,1],[1546988400000,125.05295005702507,125.10428695138184,124.12001608017007,124.93635525757234,1431.0,-1],[1547074800000,124.01633405808602,124.32594222259696,123.69257484323231,123.75516599772506,1969.0,-1],[1547161200000,125.3041679970861,126.18968188582261,124.71790557869963,126.01710831207026,1122.0,1],[1547247600000,126.03144815250552,126.05485243699037,124.48595804230379,125.1788357590845,1533.0,-1],[1547334000000,125.43288310106212,126.30733206856655,124.7182616499656,126.29934722848228,1663.0,1],[1547420400000,124.67938061015853,124.83095125437646,124.34622318923498,124.71198490936274,1476.0,1],[1547506800000,124.42025019804665,125.15471400971046,124.10721582310057,124.33659467733101,1923.0,-1],[1547593200000,125.04274393281116,125.5822086393521,124.76048793786727,125.05283339055828,1266.0,1],[1547679600000,125.10610343573585,125.34071286461048,124.38373907814251,124.59166554471571,1847.0,-1],[1547766000000,126.37840876145955,127.01269424754409,126.02588487669442,126.40547157368916,1425.0,1],[1547852400000,126.74051823747168,126.99838577617267,125.91320069687895,126.89646345678467,1688.0,1],[1547938800000,127.60451549667351,127.9075860626571,126.64132524960189,126.65152811145404,1718.0,-1],[1548025200000,128.03114381685015,128.06450358097038,127.79317555492733,127.89578415513361,1748.0,-1],[1548111600000,129.30900894908828,129.78508934881495,128.89025664899842,129.0014014835035,1961.0,-1],[1548198000000,128.25042419678934,129.24372554444562,127.26737378543879,127.97191215861075,1740.0,-1],[1548284400000,127.60930039580822,128.54867003824864,126.71857051445872,126.88560384806958,1405.0,-1],[1548370800000,127.39254273987163,127.95439285418888,127.2778013524468,127.51720795445598,1610.0,1],[1548457200000,127.64236683572858,129.3919775246568,127.5852605602892,128.41057619498235,1296.0,1],[1548543600000,128.3198316235073,128.60590409303845,127.23870815780549,127.69725544922142,1213.0,-1],[1548630000000,126.82350019522569,127.41993788853672,125.9103751216418,126.78055661955514,1887.0,-1],[1548716400000,125.36793577241488,125.85739243667007,125.1838407453202,125.84159302066449,1886.0,1],[1548802800000,126.46723765416078,126.55918593755047,125.04294169143824,125.61391235987918,1161.0,-1],[1548889200000,125.00927256921359,125.53359500092276,124.34091271312796,124.71428885986191,1372.0,-1],[1548975600000,124.97127268880818,125.0393956761944,124.05305449167557,124.80247092228142,1533.0,-1]]},\"title\":{\"text\":\"ASSET1 2019-01-01 - 2019-01-31\"},\"grid\":[{\"right\":\"3%\",\"bottom\":200,\"left\":80},{\"height\":80,\"right\":\"3%\",\"bottom\":80,\"left\":80}],\"xAxis\":[{\"type\":\"time\"},{\"gridIndex\":1,\"type\":\"time\",\"axisLabel\":{\"show\":false},\"axisTick\":{\"show\":false}}],\"yAxis\":[{\"type\":\"value\",\"splitArea\":{\"show\":true},\"scale\":true},{\"gridIndex\":1,\"type\":\"value\",\"axisLabel\":{\"show\":false},\"axisLine\":{\"show\":false},\"splitLine\":{\"show\":false},\"scale\":true}],\"toolbox\":{\"feature\":{\"saveAsImage\":{},\"dataView\":{\"readOnly\":true},\"dataZoom\":{\"yAxisIndex\":\"none\"},\"magicType\":{\"type\":[\"line\",\"bar\"]},\"restore\":{}}},\"tooltip\":{\"trigger\":\"axis\"},\"dataZoom\":[{\"type\":\"inside\",\"xAxisIndex\":[0,1]},{\"type\":\"slider\",\"xAxisIndex\":[0,1]}],\"visualMap\":{\"show\":false,\"seriesIndex\":1,\"dimension\":6,\"pieces\":[{\"color\":\"#0C0\",\"value\":1},{\"color\":\"#C00\",\"value\":-1}]},\"series\":[{\"type\":\"candlestick\",\"name\":\"ASSET1\",\"markPoint\":{\"data\":[],\"itemStyle\":{\"color\":\"#CC0\"}},\"itemStyle\":{\"borderColor\":\"#0C0\",\"color\":\"#0C0\",\"color0\":\"#C00\",\"borderColor0\":\"#C00\"},\"encode\":{\"x\":0,\"y\":[1,4,3,2]}},{\"type\":\"bar\",\"color\":\"#fbe9e\",\"xAxisIndex\":1,\"yAxisIndex\":1,\"large\":true,\"encode\":{\"x\":0,\"y\":5}}]};\n",
       "            window.call_echarts(\n",
       "                function () {\n",
       "                    console.log(\"rendering chart\");\n",
       "                    window.renderEChart(parentElem, option);\n",
       "                }\n",
       "            );\n",
       "        })()\n",
       "    </script>\n",
       "</div>"
      ]
     },
     "execution_count": 4,
     "metadata": {},
     "output_type": "execute_result"
    }
   ],
   "source": [
    "PriceBarChart(feed, asset, timeframe = timeframe)"
   ]
  },
  {
   "cell_type": "code",
   "execution_count": 5,
   "metadata": {
    "execution": {
     "iopub.execute_input": "2023-03-24T11:47:54.290275Z",
     "iopub.status.busy": "2023-03-24T11:47:54.289953Z",
     "iopub.status.idle": "2023-03-24T11:47:54.380086Z",
     "shell.execute_reply": "2023-03-24T11:47:54.380261Z"
    },
    "tags": []
   },
   "outputs": [
    {
     "data": {
      "text/html": [
       "<div style=\"width:100%;height:500px;\" class=\"rqcharts\" id=\"roboquant-3\">\n",
       "    <script type=\"text/javascript\">\n",
       "        (function () {\n",
       "            let parentElem = document.currentScript.parentElement;\n",
       "            if (parentElem.tagName == \"HEAD\") {\n",
       "                parentElem = document.getElementById(\"roboquant-3\");\n",
       "            }\n",
       "            console.log(\"registered new chart\");\n",
       "            let option = {\"backgroundColor\":\"rgba(0,0,0,0)\",\"useUTC\":true,\"title\":{\"text\":\"Price correlations\"},\"grid\":{\"right\":\"3%\",\"left\":\"3%\",\"containLabel\":true},\"xAxis\":[{\"type\":\"category\",\"data\":[\"ASSET1\",\"ASSET10\",\"ASSET2\",\"ASSET3\"]}],\"yAxis\":[{\"type\":\"category\",\"data\":[\"ASSET1\",\"ASSET10\",\"ASSET2\",\"ASSET3\"]}],\"toolbox\":{\"feature\":{\"saveAsImage\":{},\"restore\":{},\"dataView\":{\"readOnly\":true}}},\"visualMap\":{\"top\":\"top\",\"left\":\"center\",\"min\":-1.0,\"max\":1.0,\"orient\":\"horizontal\",\"precision\":2,\"color\":[\"#0C0\",\"#CC0\",\"#C00\"],\"calculable\":true},\"series\":[{\"type\":\"heatmap\",\"data\":[[0,0,1.00],[0,1,-0.40],[1,0,-0.40],[0,2,-0.39],[2,0,-0.39],[0,3,0.15],[3,0,0.15],[1,1,1.00],[1,2,0.43],[2,1,0.43],[1,3,0.37],[3,1,0.37],[2,2,1.00],[2,3,0.00],[3,2,0.00],[3,3,1.00]],\"label\":{\"show\":true}}]};\n",
       "            window.call_echarts(\n",
       "                function () {\n",
       "                    console.log(\"rendering chart\");\n",
       "                    window.renderEChart(parentElem, option);\n",
       "                }\n",
       "            );\n",
       "        })()\n",
       "    </script>\n",
       "</div>"
      ]
     },
     "execution_count": 5,
     "metadata": {},
     "output_type": "execute_result"
    }
   ],
   "source": [
    "val assets = feed.assets.take(4)\n",
    "PriceCorrelationChart(feed, assets)"
   ]
  },
  {
   "cell_type": "code",
   "execution_count": null,
   "metadata": {},
   "outputs": [],
   "source": []
  }
 ],
 "metadata": {
  "kernelspec": {
   "display_name": "Kotlin",
   "language": "kotlin",
   "name": "kotlin"
  },
  "language_info": {
   "codemirror_mode": "text/x-kotlin",
   "file_extension": ".kt",
   "mimetype": "text/x-kotlin",
   "name": "kotlin",
   "nbconvert_exporter": "",
   "pygments_lexer": "kotlin",
   "version": "1.8.20-Beta"
  }
 },
 "nbformat": 4,
 "nbformat_minor": 4
}
