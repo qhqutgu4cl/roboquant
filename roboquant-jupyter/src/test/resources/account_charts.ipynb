{
 "cells": [
  {
   "cell_type": "code",
   "execution_count": 1,
   "metadata": {
    "execution": {
     "iopub.execute_input": "2023-02-24T16:13:18.087566Z",
     "iopub.status.busy": "2023-02-24T16:13:18.084658Z",
     "iopub.status.idle": "2023-02-24T16:13:20.439513Z",
     "shell.execute_reply": "2023-02-24T16:13:20.439702Z"
    },
    "pycharm": {
     "name": "#%%\n"
    },
    "tags": []
   },
   "outputs": [
    {
     "data": {
      "text/html": [
       "            <div id=\"kotlin_out_0\"/>\n",
       "            <script type=\"text/javascript\">\n",
       "                            if(!window.kotlinQueues) {\n",
       "                window.kotlinQueues = {};\n",
       "            }\n",
       "            if(!window.kotlinQueues[\"echarts\"]) {\n",
       "                var resQueue = [];\n",
       "                window.kotlinQueues[\"echarts\"] = resQueue;\n",
       "                window[\"call_echarts\"] = function(f) {\n",
       "                    resQueue.push(f);\n",
       "                }\n",
       "            }\n",
       "            (function (){\n",
       "                var modifiers = [(function(script) {\n",
       "    script.textContent = \"// removed\"\n",
       "    script.type = \"text/javascript\";\n",
       "})];\n",
       "                var e = document.getElementById(\"kotlin_out_0\");\n",
       "                modifiers.forEach(function (gen) {\n",
       "                    var script = document.createElement(\"script\");\n",
       "                    gen(script)\n",
       "                    script.addEventListener(\"load\", function() {\n",
       "                        window[\"call_echarts\"] = function(f) {f();};\n",
       "                        window.kotlinQueues[\"echarts\"].forEach(function(f) {f();});\n",
       "                        window.kotlinQueues[\"echarts\"] = [];\n",
       "                    }, false);\n",
       "                    script.addEventListener(\"error\", function() {\n",
       "                        window[\"call_echarts\"] = function(f) {};\n",
       "                        window.kotlinQueues[\"echarts\"] = [];\n",
       "                        var div = document.createElement(\"div\");\n",
       "                        div.style.color = 'darkred';\n",
       "                        div.textContent = 'Error loading resource echarts';\n",
       "                        document.getElementById(\"kotlin_out_0\").appendChild(div);\n",
       "                    }, false);\n",
       "                    \n",
       "                    e.appendChild(script);\n",
       "                });\n",
       "            })();\n",
       "            </script>"
      ]
     },
     "metadata": {},
     "output_type": "display_data"
    }
   ],
   "source": [
    "%use roboquant@url[https://roboquant.org/roboquant.json](1.2.0-SNAPSHOT)            "
   ]
  },
  {
   "cell_type": "code",
   "execution_count": 2,
   "metadata": {
    "execution": {
     "iopub.execute_input": "2023-02-24T16:13:20.442639Z",
     "iopub.status.busy": "2023-02-24T16:13:20.442095Z",
     "iopub.status.idle": "2023-02-24T16:13:20.723795Z",
     "shell.execute_reply": "2023-02-24T16:13:20.723485Z"
    },
    "pycharm": {
     "name": "#%%\n"
    },
    "tags": []
   },
   "outputs": [
    {
     "name": "stdout",
     "output_type": "stream",
     "text": [
      "2018-12-31 - 2019-12-30 | 100% |████████████████████████████████████| run-0 | phase=MAIN\n"
     ]
    }
   ],
   "source": [
    "val timeline = Timeframe.fromYears(2019, 2020).toTimeline(1.days)\n",
    "val feed = RandomWalkFeed(timeline)\n",
    "val strategy = EMAStrategy(50, 200)\n",
    "val roboquant =  Roboquant(strategy)\n",
    "roboquant.run(feed)"
   ]
  },
  {
   "cell_type": "code",
   "execution_count": 3,
   "metadata": {
    "execution": {
     "iopub.execute_input": "2023-02-24T16:13:20.726042Z",
     "iopub.status.busy": "2023-02-24T16:13:20.725681Z",
     "iopub.status.idle": "2023-02-24T16:13:20.785647Z",
     "shell.execute_reply": "2023-02-24T16:13:20.785301Z"
    },
    "pycharm": {
     "name": "#%%\n"
    },
    "tags": []
   },
   "outputs": [
    {
     "data": {
      "text/plain": [
       "account\n",
       "├── last update: 2019-12-30T23:00:00Z\n",
       "├── base currency: USD\n",
       "├── cash: USD 968,563.22\n",
       "├── buying power: USD 968,563.22\n",
       "├── equity: USD 998,577.64\n",
       "├── position summary\n",
       "│   ├── open: 3\n",
       "│   ├── long: 3\n",
       "│   ├── short: 0\n",
       "│   ├── total value: USD 30,014.42\n",
       "│   ├── long value: USD 30,014.42\n",
       "│   ├── short value: USD 0.00\n",
       "│   └── unrealized p&l: USD 179.25\n",
       "├── trade summary\n",
       "│   ├── total: 9\n",
       "│   ├── realized p&l: USD -1,601.61\n",
       "│   ├── fee: \n",
       "│   ├── first: 2019-08-14T22:00:00Z\n",
       "│   ├── last: 2019-12-24T23:00:00Z\n",
       "│   ├── winners: 0\n",
       "│   └── loosers: 3\n",
       "└── order summary\n",
       "    ├── open: 0\n",
       "    ├── closed: 9\n",
       "    ├── completed: 9\n",
       "    ├── cancelled: 0\n",
       "    ├── expired: 0\n",
       "    └── rejected: 0\n"
      ]
     },
     "execution_count": 3,
     "metadata": {},
     "output_type": "execute_result"
    }
   ],
   "source": [
    "val account = roboquant.broker.account\n",
    "account.summary()"
   ]
  },
  {
   "cell_type": "code",
   "execution_count": 4,
   "metadata": {
    "execution": {
     "iopub.execute_input": "2023-02-24T16:13:20.787919Z",
     "iopub.status.busy": "2023-02-24T16:13:20.787531Z",
     "iopub.status.idle": "2023-02-24T16:13:20.872867Z",
     "shell.execute_reply": "2023-02-24T16:13:20.872627Z"
    },
    "tags": []
   },
   "outputs": [
    {
     "data": {
      "text/html": [
       "<div style=\"width:100%;height:500px;\" class=\"rqcharts\" id=\"7411467c-a8b4-4071-a975-0fa37fed8647\"></div>\n",
       "<script type=\"text/javascript\">    \n",
       "    (function () {  \n",
       "        let option = {\"backgroundColor\":\"rgba(0,0,0,0)\",\"useUTC\":true,\"title\":{\"text\":\"Asset allocation\"},\"grid\":{\"right\":\"3%\",\"left\":\"3%\",\"containLabel\":true},\"toolbox\":{\"feature\":{\"saveAsImage\":{},\"restore\":{},\"dataView\":{\"readOnly\":true}}},\"tooltip\":{},\"series\":[{\"type\":\"pie\",\"data\":[{\"name\":\"ASSET3\",\"value\":9540.30,\"type\":\"STOCK\"},{\"name\":\"ASSET5\",\"value\":10751.81,\"type\":\"STOCK\"},{\"name\":\"ASSET7\",\"value\":9722.31,\"type\":\"STOCK\"}],\"radius\":\"80%\"}]};\n",
       "        renderEChart(\"7411467c-a8b4-4071-a975-0fa37fed8647\", option, false);\n",
       "    })()\n",
       "</script>"
      ]
     },
     "execution_count": 4,
     "metadata": {},
     "output_type": "execute_result"
    }
   ],
   "source": [
    "AssetAllocationChart(account.positions, includeAssetClass=false)"
   ]
  },
  {
   "cell_type": "code",
   "execution_count": 5,
   "metadata": {
    "execution": {
     "iopub.execute_input": "2023-02-24T16:13:20.875189Z",
     "iopub.status.busy": "2023-02-24T16:13:20.874877Z",
     "iopub.status.idle": "2023-02-24T16:13:20.922076Z",
     "shell.execute_reply": "2023-02-24T16:13:20.922270Z"
    },
    "pycharm": {
     "name": "#%%\n"
    },
    "tags": []
   },
   "outputs": [
    {
     "data": {
      "text/html": [
       "<div style=\"width:100%;height:500px;\" class=\"rqcharts\" id=\"e67b1017-3f56-405e-a449-75f4b0499874\"></div>\n",
       "<script type=\"text/javascript\">    \n",
       "    (function () {  \n",
       "        let option = {\"backgroundColor\":\"rgba(0,0,0,0)\",\"useUTC\":true,\"title\":{\"text\":\"Asset Allocation\"},\"grid\":{\"right\":\"3%\",\"left\":\"3%\",\"containLabel\":true},\"toolbox\":{\"feature\":{\"saveAsImage\":{},\"restore\":{},\"dataView\":{\"readOnly\":true}}},\"tooltip\":{},\"series\":[{\"type\":\"sunburst\",\"data\":[{\"name\":\"STOCK\",\"children\":[{\"name\":\"ASSET3\",\"value\":9540.30,\"type\":\"STOCK\"},{\"name\":\"ASSET5\",\"value\":10751.81,\"type\":\"STOCK\"},{\"name\":\"ASSET7\",\"value\":9722.31,\"type\":\"STOCK\"}]}],\"radius\":\"80%\"}]};\n",
       "        renderEChart(\"e67b1017-3f56-405e-a449-75f4b0499874\", option, false);\n",
       "    })()\n",
       "</script>"
      ]
     },
     "execution_count": 5,
     "metadata": {},
     "output_type": "execute_result"
    }
   ],
   "source": [
    "AssetAllocationChart(account.positions, includeAssetClass=true)"
   ]
  },
  {
   "cell_type": "code",
   "execution_count": 6,
   "metadata": {
    "execution": {
     "iopub.execute_input": "2023-02-24T16:13:20.924811Z",
     "iopub.status.busy": "2023-02-24T16:13:20.924361Z",
     "iopub.status.idle": "2023-02-24T16:13:21.175478Z",
     "shell.execute_reply": "2023-02-24T16:13:21.175243Z"
    },
    "pycharm": {
     "name": "#%%\n"
    },
    "tags": []
   },
   "outputs": [
    {
     "data": {
      "text/html": [
       "<div style=\"width:100%;height:500px;\" class=\"rqcharts\" id=\"e4b55d2a-7b40-4c6b-8a1b-b7d5597c34c0\"></div>\n",
       "<script type=\"text/javascript\">    \n",
       "    (function () {  \n",
       "        let option = {\"backgroundColor\":\"rgba(0,0,0,0)\",\"useUTC\":true,\"title\":{\"text\":\"Trade pnl\"},\"grid\":{\"right\":\"3%\",\"left\":\"3%\",\"containLabel\":true},\"xAxis\":[{\"type\":\"time\"}],\"yAxis\":[{\"type\":\"value\",\"scale\":true}],\"toolbox\":{\"feature\":{\"saveAsImage\":{},\"dataView\":{\"readOnly\":true},\"dataZoom\":{\"yAxisIndex\":\"none\"},\"restore\":{}}},\"tooltip\":{\"formatter\":\"return p.value[2];\"},\"dataZoom\":{},\"visualMap\":{\"top\":\"top\",\"left\":\"center\",\"min\":-822.23,\"max\":0.00,\"dimension\":1,\"orient\":\"horizontal\",\"color\":[\"#0C0\",\"#CC0\",\"#C00\"],\"calculable\":true},\"series\":[{\"type\":\"scatter\",\"data\":[[1565820000000,0.00,\"asset: ASSET7\\u003cbr\\u003e\\ncurrency: USD\\u003cbr\\u003e\\ntime: 2019-08-14T22:00:00Z\\u003cbr\\u003e\\nsize: 125\\u003cbr\\u003e\\nfee: 0.00\\u003cbr\\u003e\\npnl: 0.00\\u003cbr\\u003e\\ncost: 10071.13\\u003cbr\\u003e\\norder: 0\"],[1569448800000,0.00,\"asset: ASSET2\\u003cbr\\u003e\\ncurrency: USD\\u003cbr\\u003e\\ntime: 2019-09-25T22:00:00Z\\u003cbr\\u003e\\nsize: 97\\u003cbr\\u003e\\nfee: 0.00\\u003cbr\\u003e\\npnl: 0.00\\u003cbr\\u003e\\ncost: 10012.00\\u003cbr\\u003e\\norder: 1\"],[1570572000000,0.00,\"asset: ASSET10\\u003cbr\\u003e\\ncurrency: USD\\u003cbr\\u003e\\ntime: 2019-10-08T22:00:00Z\\u003cbr\\u003e\\nsize: 129\\u003cbr\\u003e\\nfee: 0.00\\u003cbr\\u003e\\npnl: 0.00\\u003cbr\\u003e\\ncost: 9878.85\\u003cbr\\u003e\\norder: 2\"],[1571176800000,0.00,\"asset: ASSET5\\u003cbr\\u003e\\ncurrency: USD\\u003cbr\\u003e\\ntime: 2019-10-15T22:00:00Z\\u003cbr\\u003e\\nsize: 76\\u003cbr\\u003e\\nfee: 0.00\\u003cbr\\u003e\\npnl: 0.00\\u003cbr\\u003e\\ncost: 9884.66\\u003cbr\\u003e\\norder: 3\"],[1571522400000,0.00,\"asset: ASSET3\\u003cbr\\u003e\\ncurrency: USD\\u003cbr\\u003e\\ntime: 2019-10-19T22:00:00Z\\u003cbr\\u003e\\nsize: 164\\u003cbr\\u003e\\nfee: 0.00\\u003cbr\\u003e\\npnl: 0.00\\u003cbr\\u003e\\ncost: 9890.93\\u003cbr\\u003e\\norder: 4\"],[1573167600000,-377.94,\"asset: ASSET3\\u003cbr\\u003e\\ncurrency: USD\\u003cbr\\u003e\\ntime: 2019-11-07T23:00:00Z\\u003cbr\\u003e\\nsize: -164\\u003cbr\\u003e\\nfee: 0.00\\u003cbr\\u003e\\npnl: -377.94\\u003cbr\\u003e\\ncost: -9512.99\\u003cbr\\u003e\\norder: 5\"],[1576623600000,0.00,\"asset: ASSET3\\u003cbr\\u003e\\ncurrency: USD\\u003cbr\\u003e\\ntime: 2019-12-17T23:00:00Z\\u003cbr\\u003e\\nsize: 163\\u003cbr\\u003e\\nfee: 0.00\\u003cbr\\u003e\\npnl: 0.00\\u003cbr\\u003e\\ncost: 9879.38\\u003cbr\\u003e\\norder: 6\"],[1576710000000,-401.45,\"asset: ASSET2\\u003cbr\\u003e\\ncurrency: USD\\u003cbr\\u003e\\ntime: 2019-12-18T23:00:00Z\\u003cbr\\u003e\\nsize: -97\\u003cbr\\u003e\\nfee: 0.00\\u003cbr\\u003e\\npnl: -401.45\\u003cbr\\u003e\\ncost: -9610.55\\u003cbr\\u003e\\norder: 7\"],[1577228400000,-822.23,\"asset: ASSET10\\u003cbr\\u003e\\ncurrency: USD\\u003cbr\\u003e\\ntime: 2019-12-24T23:00:00Z\\u003cbr\\u003e\\nsize: -129\\u003cbr\\u003e\\nfee: 0.00\\u003cbr\\u003e\\npnl: -822.23\\u003cbr\\u003e\\ncost: -9056.62\\u003cbr\\u003e\\norder: 8\"]],\"symbolSize\":10}]};\n",
       "        renderEChart(\"e4b55d2a-7b40-4c6b-8a1b-b7d5597c34c0\", option, true);\n",
       "    })()\n",
       "</script>"
      ]
     },
     "execution_count": 6,
     "metadata": {},
     "output_type": "execute_result"
    }
   ],
   "source": [
    "val trades = account.trades.filter { it.pnl.value < -100 }\n",
    "TradeChart(account.trades)"
   ]
  },
  {
   "cell_type": "code",
   "execution_count": 7,
   "metadata": {
    "execution": {
     "iopub.execute_input": "2023-02-24T16:13:21.178585Z",
     "iopub.status.busy": "2023-02-24T16:13:21.178137Z",
     "iopub.status.idle": "2023-02-24T16:13:21.233975Z",
     "shell.execute_reply": "2023-02-24T16:13:21.234152Z"
    },
    "pycharm": {
     "name": "#%%\n"
    },
    "tags": []
   },
   "outputs": [
    {
     "data": {
      "text/html": [
       "<div style=\"width:100%;height:1000px;\" class=\"rqcharts\" id=\"fb635951-b77e-4557-b505-d34ef476c434\"></div>\n",
       "<script type=\"text/javascript\">    \n",
       "    (function () {  \n",
       "        let option = {\"backgroundColor\":\"rgba(0,0,0,0)\",\"useUTC\":true,\"title\":{\"text\":\"Trade Chart pnl\"},\"grid\":{\"right\":\"3%\",\"left\":\"3%\",\"containLabel\":true},\"xAxis\":[{\"type\":\"time\"}],\"yAxis\":[{\"type\":\"category\",\"splitArea\":{\"show\":true},\"data\":[\"ASSET10\",\"ASSET2\",\"ASSET3\"]}],\"toolbox\":{\"feature\":{\"saveAsImage\":{},\"dataView\":{\"readOnly\":true},\"dataZoom\":{},\"restore\":{}}},\"tooltip\":{\"formatter\":\"return p.value[3];\"},\"dataZoom\":{},\"series\":[{\"type\":\"scatter\",\"data\":[[1573167600000,2,-377.94,\"asset: ASSET3\\u003cbr\\u003e\\ncurrency: USD\\u003cbr\\u003e\\ntime: 2019-11-07T23:00:00Z\\u003cbr\\u003e\\nsize: -164\\u003cbr\\u003e\\nfee: 0.00\\u003cbr\\u003e\\npnl: -377.94\\u003cbr\\u003e\\ncost: -9512.99\\u003cbr\\u003e\\norder: 5\"],[1576710000000,1,-401.45,\"asset: ASSET2\\u003cbr\\u003e\\ncurrency: USD\\u003cbr\\u003e\\ntime: 2019-12-18T23:00:00Z\\u003cbr\\u003e\\nsize: -97\\u003cbr\\u003e\\nfee: 0.00\\u003cbr\\u003e\\npnl: -401.45\\u003cbr\\u003e\\ncost: -9610.55\\u003cbr\\u003e\\norder: 7\"],[1577228400000,0,-822.23,\"asset: ASSET10\\u003cbr\\u003e\\ncurrency: USD\\u003cbr\\u003e\\ntime: 2019-12-24T23:00:00Z\\u003cbr\\u003e\\nsize: -129\\u003cbr\\u003e\\nfee: 0.00\\u003cbr\\u003e\\npnl: -822.23\\u003cbr\\u003e\\ncost: -9056.62\\u003cbr\\u003e\\norder: 8\"]],\"symbolSize\":10}]};\n",
       "        renderEChart(\"fb635951-b77e-4557-b505-d34ef476c434\", option, true);\n",
       "    })()\n",
       "</script>"
      ]
     },
     "execution_count": 7,
     "metadata": {},
     "output_type": "execute_result"
    }
   ],
   "source": [
    "val chart = TradeAssetChart(trades)\n",
    "chart.height = 1000\n",
    "chart"
   ]
  },
  {
   "cell_type": "code",
   "execution_count": 8,
   "metadata": {
    "execution": {
     "iopub.execute_input": "2023-02-24T16:13:21.236301Z",
     "iopub.status.busy": "2023-02-24T16:13:21.235999Z",
     "iopub.status.idle": "2023-02-24T16:13:21.272698Z",
     "shell.execute_reply": "2023-02-24T16:13:21.272468Z"
    },
    "pycharm": {
     "name": "#%%\n"
    },
    "tags": []
   },
   "outputs": [
    {
     "data": {
      "text/html": [
       "<div style=\"width:100%;height:500px;\" class=\"rqcharts\" id=\"8166a031-37cc-4294-8842-6f26b15c79f6\"></div>\n",
       "<script type=\"text/javascript\">    \n",
       "    (function () {  \n",
       "        let option = {\"backgroundColor\":\"rgba(0,0,0,0)\",\"useUTC\":true,\"title\":{\"text\":\"Trade cost\"},\"grid\":{\"right\":\"3%\",\"left\":\"3%\",\"containLabel\":true},\"xAxis\":[{\"type\":\"time\"}],\"yAxis\":[{\"type\":\"value\",\"scale\":true}],\"toolbox\":{\"feature\":{\"saveAsImage\":{},\"dataView\":{\"readOnly\":true},\"dataZoom\":{\"yAxisIndex\":\"none\"},\"restore\":{}}},\"tooltip\":{\"formatter\":\"return p.value[2];\"},\"dataZoom\":{},\"visualMap\":{\"top\":\"top\",\"left\":\"center\",\"min\":-9610.55,\"max\":-9056.62,\"dimension\":1,\"orient\":\"horizontal\",\"color\":[\"#0C0\",\"#CC0\",\"#C00\"],\"calculable\":true},\"series\":[{\"type\":\"scatter\",\"data\":[[1573167600000,-9512.99,\"asset: ASSET3\\u003cbr\\u003e\\ncurrency: USD\\u003cbr\\u003e\\ntime: 2019-11-07T23:00:00Z\\u003cbr\\u003e\\nsize: -164\\u003cbr\\u003e\\nfee: 0.00\\u003cbr\\u003e\\npnl: -377.94\\u003cbr\\u003e\\ncost: -9512.99\\u003cbr\\u003e\\norder: 5\"],[1576710000000,-9610.55,\"asset: ASSET2\\u003cbr\\u003e\\ncurrency: USD\\u003cbr\\u003e\\ntime: 2019-12-18T23:00:00Z\\u003cbr\\u003e\\nsize: -97\\u003cbr\\u003e\\nfee: 0.00\\u003cbr\\u003e\\npnl: -401.45\\u003cbr\\u003e\\ncost: -9610.55\\u003cbr\\u003e\\norder: 7\"],[1577228400000,-9056.62,\"asset: ASSET10\\u003cbr\\u003e\\ncurrency: USD\\u003cbr\\u003e\\ntime: 2019-12-24T23:00:00Z\\u003cbr\\u003e\\nsize: -129\\u003cbr\\u003e\\nfee: 0.00\\u003cbr\\u003e\\npnl: -822.23\\u003cbr\\u003e\\ncost: -9056.62\\u003cbr\\u003e\\norder: 8\"]],\"symbolSize\":10}]};\n",
       "        renderEChart(\"8166a031-37cc-4294-8842-6f26b15c79f6\", option, true);\n",
       "    })()\n",
       "</script>"
      ]
     },
     "execution_count": 8,
     "metadata": {},
     "output_type": "execute_result"
    }
   ],
   "source": [
    "TradeChart(trades, aspect = \"cost\") "
   ]
  },
  {
   "cell_type": "code",
   "execution_count": 9,
   "metadata": {
    "execution": {
     "iopub.execute_input": "2023-02-24T16:13:21.274846Z",
     "iopub.status.busy": "2023-02-24T16:13:21.274296Z",
     "iopub.status.idle": "2023-02-24T16:13:21.357126Z",
     "shell.execute_reply": "2023-02-24T16:13:21.357333Z"
    },
    "pycharm": {
     "name": "#%%\n"
    },
    "tags": []
   },
   "outputs": [
    {
     "data": {
      "text/html": [
       "<div style=\"width:100%;height:700px;\" class=\"rqcharts\" id=\"425912f2-e6cf-4132-9830-343f14203416\"></div>\n",
       "<script type=\"text/javascript\">    \n",
       "    (function () {  \n",
       "        let option = {\"backgroundColor\":\"rgba(0,0,0,0)\",\"useUTC\":true,\"dataset\":{\"source\":[[\"2019-01-01T23:00:00Z\",77.86046739407348,78.47888584452393,76.91713175297525,78.30547901111507,1152.0,1],[\"2019-01-02T23:00:00Z\",78.93123549466316,79.36089474770488,78.73316560295595,78.76334630300468,1868.0,-1],[\"2019-01-03T23:00:00Z\",79.68303497850829,79.95095580477526,78.90213546236558,79.60183153051396,1154.0,-1],[\"2019-01-04T23:00:00Z\",80.4539003531049,81.34640398300115,80.19338660363567,80.50891496523187,1496.0,1],[\"2019-01-05T23:00:00Z\",80.76937197819424,81.02143117175689,80.60257273882328,80.90247578459008,1490.0,1],[\"2019-01-06T23:00:00Z\",80.66095120626399,80.80608307785477,79.8158836408039,80.3255836396583,1209.0,-1],[\"2019-01-07T23:00:00Z\",81.61221227222119,81.89073552112048,81.11630335000996,81.46650724660095,1156.0,-1],[\"2019-01-08T23:00:00Z\",81.4139505469124,82.25677649346291,81.36602768562742,81.40279432979814,1836.0,-1],[\"2019-01-09T23:00:00Z\",81.87603893548237,82.71849834420216,81.73547827273525,81.86676221509919,1911.0,-1],[\"2019-01-10T23:00:00Z\",81.29368150095704,81.58448144030973,79.98049790185902,80.8891803250049,1329.0,-1],[\"2019-01-11T23:00:00Z\",79.94696425138856,80.86942769498732,79.94579760095519,80.59935893286547,1702.0,1],[\"2019-01-12T23:00:00Z\",80.68488521150654,80.74858360707753,79.89678236634539,80.08766299743742,1554.0,-1],[\"2019-01-13T23:00:00Z\",81.1986337438811,81.20687352345968,80.38547529971055,81.08824912874951,1732.0,-1],[\"2019-01-14T23:00:00Z\",80.58106126477354,81.38666654381845,79.89907273714662,80.15012826859862,1961.0,-1]]},\"title\":{\"text\":\"ASSET7 2019-01-01 - 2019-01-14\"},\"grid\":[{\"right\":\"3%\",\"bottom\":200,\"left\":80},{\"height\":80,\"right\":\"3%\",\"bottom\":80,\"left\":80}],\"xAxis\":[{\"type\":\"category\"},{\"gridIndex\":1,\"type\":\"category\",\"axisLabel\":{\"show\":false},\"axisTick\":{\"show\":false}}],\"yAxis\":[{\"type\":\"value\",\"splitArea\":{\"show\":true},\"scale\":true},{\"gridIndex\":1,\"type\":\"value\",\"axisLabel\":{\"show\":false},\"axisLine\":{\"show\":false},\"splitLine\":{\"show\":false},\"scale\":true}],\"toolbox\":{\"feature\":{\"saveAsImage\":{},\"dataView\":{\"readOnly\":true},\"dataZoom\":{\"yAxisIndex\":\"none\"},\"magicType\":{\"type\":[\"line\",\"bar\"]},\"restore\":{}}},\"tooltip\":{\"trigger\":\"axis\"},\"dataZoom\":[{\"type\":\"inside\",\"xAxisIndex\":[0,1]},{\"type\":\"slider\",\"xAxisIndex\":[0,1]}],\"visualMap\":{\"show\":false,\"seriesIndex\":1,\"dimension\":6,\"pieces\":[{\"color\":\"#0C0\",\"value\":1},{\"color\":\"#C00\",\"value\":-1}]},\"series\":[{\"type\":\"candlestick\",\"name\":\"ASSET7\",\"markPoint\":{\"data\":[],\"itemStyle\":{\"color\":\"#CC0\"}},\"itemStyle\":{\"borderColor\":\"#0C0\",\"color\":\"#0C0\",\"color0\":\"#C00\",\"borderColor0\":\"#C00\"},\"encode\":{\"x\":0,\"y\":[1,4,3,2]}},{\"type\":\"bar\",\"color\":\"#fbe9e\",\"xAxisIndex\":1,\"yAxisIndex\":1,\"large\":true,\"encode\":{\"x\":0,\"y\":5}}]};\n",
       "        renderEChart(\"425912f2-e6cf-4132-9830-343f14203416\", option, false);\n",
       "    })()\n",
       "</script>"
      ]
     },
     "execution_count": 9,
     "metadata": {},
     "output_type": "execute_result"
    }
   ],
   "source": [
    "val asset = account.assets.first()\n",
    "val timeframe = Timeframe.parse(\"2019-01-01\", \"2019-01-15\")\n",
    "PriceBarChart(feed, asset, account.trades, timeframe, useTime = false)"
   ]
  },
  {
   "cell_type": "code",
   "execution_count": 10,
   "metadata": {
    "execution": {
     "iopub.execute_input": "2023-02-24T16:13:21.359424Z",
     "iopub.status.busy": "2023-02-24T16:13:21.359113Z",
     "iopub.status.idle": "2023-02-24T16:13:21.431311Z",
     "shell.execute_reply": "2023-02-24T16:13:21.431131Z"
    },
    "pycharm": {
     "name": "#%%\n"
    },
    "tags": []
   },
   "outputs": [
    {
     "data": {
      "text/html": [
       "<div style=\"width:100%;height:500px;\" class=\"rqcharts\" id=\"1e5b8223-fe66-4f2d-b7cb-6ad386db76f7\"></div>\n",
       "<script type=\"text/javascript\">    \n",
       "    (function () {  \n",
       "        let option = {\"backgroundColor\":\"rgba(0,0,0,0)\",\"useUTC\":true,\"title\":{\"text\":\"Order size\"},\"grid\":{\"right\":\"3%\",\"left\":\"3%\",\"containLabel\":true},\"xAxis\":[{\"type\":\"time\"}],\"yAxis\":[{\"type\":\"value\",\"scale\":true}],\"toolbox\":{\"feature\":{\"saveAsImage\":{},\"dataView\":{\"readOnly\":true},\"dataZoom\":{\"yAxisIndex\":\"none\"},\"restore\":{}}},\"tooltip\":{\"formatter\":\"return p.value[2];\"},\"dataZoom\":{},\"visualMap\":{\"top\":\"top\",\"left\":\"center\",\"min\":-164.00000000,\"max\":164.00000000,\"dimension\":1,\"orient\":\"horizontal\",\"color\":[\"#0C0\",\"#CC0\",\"#C00\"],\"calculable\":true},\"series\":[{\"type\":\"scatter\",\"data\":[[1565820000000,125.00000000,\"asset: ASSET7\\u003cbr\\u003e\\ncurrency: USD\\u003cbr\\u003e\\nplaced: 2019-08-14T22:00:00Z\\u003cbr\\u003e\\nsize: 125\\u003cbr\\u003e \\nid: 0\\u003cbr\\u003e \\ntype: MarketOrder\\u003cbr\\u003e \\ntif: GTC\"],[1569448800000,97.00000000,\"asset: ASSET2\\u003cbr\\u003e\\ncurrency: USD\\u003cbr\\u003e\\nplaced: 2019-09-25T22:00:00Z\\u003cbr\\u003e\\nsize: 97\\u003cbr\\u003e \\nid: 1\\u003cbr\\u003e \\ntype: MarketOrder\\u003cbr\\u003e \\ntif: GTC\"],[1570572000000,129.00000000,\"asset: ASSET10\\u003cbr\\u003e\\ncurrency: USD\\u003cbr\\u003e\\nplaced: 2019-10-08T22:00:00Z\\u003cbr\\u003e\\nsize: 129\\u003cbr\\u003e \\nid: 2\\u003cbr\\u003e \\ntype: MarketOrder\\u003cbr\\u003e \\ntif: GTC\"],[1571176800000,76.00000000,\"asset: ASSET5\\u003cbr\\u003e\\ncurrency: USD\\u003cbr\\u003e\\nplaced: 2019-10-15T22:00:00Z\\u003cbr\\u003e\\nsize: 76\\u003cbr\\u003e \\nid: 3\\u003cbr\\u003e \\ntype: MarketOrder\\u003cbr\\u003e \\ntif: GTC\"],[1571522400000,164.00000000,\"asset: ASSET3\\u003cbr\\u003e\\ncurrency: USD\\u003cbr\\u003e\\nplaced: 2019-10-19T22:00:00Z\\u003cbr\\u003e\\nsize: 164\\u003cbr\\u003e \\nid: 4\\u003cbr\\u003e \\ntype: MarketOrder\\u003cbr\\u003e \\ntif: GTC\"],[1573167600000,-164.00000000,\"asset: ASSET3\\u003cbr\\u003e\\ncurrency: USD\\u003cbr\\u003e\\nplaced: 2019-11-07T23:00:00Z\\u003cbr\\u003e\\nsize: -164\\u003cbr\\u003e \\nid: 5\\u003cbr\\u003e \\ntype: MarketOrder\\u003cbr\\u003e \\ntif: GTC\"],[1576623600000,163.00000000,\"asset: ASSET3\\u003cbr\\u003e\\ncurrency: USD\\u003cbr\\u003e\\nplaced: 2019-12-17T23:00:00Z\\u003cbr\\u003e\\nsize: 163\\u003cbr\\u003e \\nid: 6\\u003cbr\\u003e \\ntype: MarketOrder\\u003cbr\\u003e \\ntif: GTC\"],[1576710000000,-97.00000000,\"asset: ASSET2\\u003cbr\\u003e\\ncurrency: USD\\u003cbr\\u003e\\nplaced: 2019-12-18T23:00:00Z\\u003cbr\\u003e\\nsize: -97\\u003cbr\\u003e \\nid: 7\\u003cbr\\u003e \\ntype: MarketOrder\\u003cbr\\u003e \\ntif: GTC\"],[1577228400000,-129.00000000,\"asset: ASSET10\\u003cbr\\u003e\\ncurrency: USD\\u003cbr\\u003e\\nplaced: 2019-12-24T23:00:00Z\\u003cbr\\u003e\\nsize: -129\\u003cbr\\u003e \\nid: 8\\u003cbr\\u003e \\ntype: MarketOrder\\u003cbr\\u003e \\ntif: GTC\"]],\"symbolSize\":10}]};\n",
       "        renderEChart(\"1e5b8223-fe66-4f2d-b7cb-6ad386db76f7\", option, true);\n",
       "    })()\n",
       "</script>"
      ]
     },
     "execution_count": 10,
     "metadata": {},
     "output_type": "execute_result"
    }
   ],
   "source": [
    "val orders = account.closedOrders.filter { it.asset.symbol.startsWith(\"A\") }\n",
    "OrderChart(orders) "
   ]
  },
  {
   "cell_type": "code",
   "execution_count": null,
   "metadata": {},
   "outputs": [],
   "source": []
  }
 ],
 "metadata": {
  "kernelspec": {
   "display_name": "Kotlin",
   "language": "kotlin",
   "name": "kotlin"
  },
  "language_info": {
   "codemirror_mode": "text/x-kotlin",
   "file_extension": ".kt",
   "mimetype": "text/x-kotlin",
   "name": "kotlin",
   "nbconvert_exporter": "",
   "pygments_lexer": "kotlin",
   "version": "1.8.0-RC"
  }
 },
 "nbformat": 4,
 "nbformat_minor": 4
}
