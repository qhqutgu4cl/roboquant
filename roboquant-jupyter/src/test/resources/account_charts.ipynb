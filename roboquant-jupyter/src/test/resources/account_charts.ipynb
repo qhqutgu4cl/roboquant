{
 "cells": [
  {
   "cell_type": "code",
   "execution_count": 1,
   "metadata": {
    "execution": {
     "iopub.execute_input": "2023-03-15T15:14:45.874786Z",
     "iopub.status.busy": "2023-03-15T15:14:45.872206Z",
     "iopub.status.idle": "2023-03-15T15:14:48.351562Z",
     "shell.execute_reply": "2023-03-15T15:14:48.351755Z"
    },
    "pycharm": {
     "name": "#%%\n"
    },
    "tags": []
   },
   "outputs": [
    {
     "data": {
      "text/html": [
       "            <div id=\"kotlin_out_0\"/>\n",
       "            <script type=\"text/javascript\">\n",
       "                            if(!window.kotlinQueues) {\n",
       "                window.kotlinQueues = {};\n",
       "            }\n",
       "            if(!window.kotlinQueues[\"echarts\"]) {\n",
       "                var resQueue = [];\n",
       "                window.kotlinQueues[\"echarts\"] = resQueue;\n",
       "                window[\"call_echarts\"] = function(f) {\n",
       "                    resQueue.push(f);\n",
       "                }\n",
       "            }\n",
       "            (function (){\n",
       "                var modifiers = [(function(script) {\n",
       "    script.src = \"https://cdn.jsdelivr.net/gh/neurallayer/roboquant/roboquant-jupyter/src/main/resources/js/echarts.min.js\"\n",
       "    script.type = \"text/javascript\";\n",
       "})];\n",
       "                var e = document.getElementById(\"kotlin_out_0\");\n",
       "                modifiers.forEach(function (gen) {\n",
       "                    var script = document.createElement(\"script\");\n",
       "                    gen(script)\n",
       "                    script.addEventListener(\"load\", function() {\n",
       "                        window[\"call_echarts\"] = function(f) {f();};\n",
       "                        window.kotlinQueues[\"echarts\"].forEach(function(f) {f();});\n",
       "                        window.kotlinQueues[\"echarts\"] = [];\n",
       "                    }, false);\n",
       "                    script.addEventListener(\"error\", function() {\n",
       "                        window[\"call_echarts\"] = function(f) {};\n",
       "                        window.kotlinQueues[\"echarts\"] = [];\n",
       "                        var div = document.createElement(\"div\");\n",
       "                        div.style.color = 'darkred';\n",
       "                        div.textContent = 'Error loading resource echarts';\n",
       "                        document.getElementById(\"kotlin_out_0\").appendChild(div);\n",
       "                    }, false);\n",
       "                    \n",
       "                    e.appendChild(script);\n",
       "                });\n",
       "            })();\n",
       "            </script>"
      ]
     },
     "metadata": {},
     "output_type": "display_data"
    }
   ],
   "source": [
    "%use roboquant@url[https://roboquant.org/roboquant.json](1.2.0-SNAPSHOT)            "
   ]
  },
  {
   "cell_type": "code",
   "execution_count": 2,
   "metadata": {
    "execution": {
     "iopub.execute_input": "2023-03-15T15:14:48.354941Z",
     "iopub.status.busy": "2023-03-15T15:14:48.354628Z",
     "iopub.status.idle": "2023-03-15T15:14:48.622169Z",
     "shell.execute_reply": "2023-03-15T15:14:48.621621Z"
    },
    "pycharm": {
     "name": "#%%\n"
    },
    "tags": []
   },
   "outputs": [
    {
     "name": "stdout",
     "output_type": "stream",
     "text": [
      "2018-12-31 - 2019-12-30 | 100% |████████████████████████████████████| run-0 | phase=MAIN\n"
     ]
    }
   ],
   "source": [
    "val timeline = Timeframe.fromYears(2019, 2020).toTimeline(1.days)\n",
    "val feed = RandomWalkFeed(timeline)\n",
    "val strategy = EMAStrategy(50, 200)\n",
    "val roboquant =  Roboquant(strategy)\n",
    "roboquant.run(feed)"
   ]
  },
  {
   "cell_type": "code",
   "execution_count": 3,
   "metadata": {
    "execution": {
     "iopub.execute_input": "2023-03-15T15:14:48.624512Z",
     "iopub.status.busy": "2023-03-15T15:14:48.623771Z",
     "iopub.status.idle": "2023-03-15T15:14:48.674388Z",
     "shell.execute_reply": "2023-03-15T15:14:48.674579Z"
    },
    "pycharm": {
     "name": "#%%\n"
    },
    "tags": []
   },
   "outputs": [
    {
     "data": {
      "text/plain": [
       "account\n",
       "├── last update: 2019-12-30T23:00:00Z\n",
       "├── base currency: USD\n",
       "├── cash: USD 968,563.22\n",
       "├── buying power: USD 968,563.22\n",
       "├── equity: USD 998,577.64\n",
       "├── position summary\n",
       "│   ├── open: 3\n",
       "│   ├── long: 3\n",
       "│   ├── short: 0\n",
       "│   ├── total value: USD 30,014.42\n",
       "│   ├── long value: USD 30,014.42\n",
       "│   ├── short value: USD 0.00\n",
       "│   └── unrealized p&l: USD 179.25\n",
       "├── trade summary\n",
       "│   ├── total: 9\n",
       "│   ├── realized p&l: USD -1,601.61\n",
       "│   ├── fee: \n",
       "│   ├── first: 2019-08-14T22:00:00Z\n",
       "│   ├── last: 2019-12-24T23:00:00Z\n",
       "│   ├── winners: 0\n",
       "│   └── losers: 3\n",
       "└── order summary\n",
       "    ├── open: 0\n",
       "    ├── closed: 9\n",
       "    ├── completed: 9\n",
       "    ├── cancelled: 0\n",
       "    ├── expired: 0\n",
       "    └── rejected: 0\n"
      ]
     },
     "execution_count": 3,
     "metadata": {},
     "output_type": "execute_result"
    }
   ],
   "source": [
    "val account = roboquant.broker.account\n",
    "account.summary()"
   ]
  },
  {
   "cell_type": "code",
   "execution_count": 4,
   "metadata": {
    "execution": {
     "iopub.execute_input": "2023-03-15T15:14:48.676810Z",
     "iopub.status.busy": "2023-03-15T15:14:48.676470Z",
     "iopub.status.idle": "2023-03-15T15:14:48.766169Z",
     "shell.execute_reply": "2023-03-15T15:14:48.765982Z"
    },
    "tags": []
   },
   "outputs": [
    {
     "data": {
      "text/html": [
       "<div style=\"width:100%;height:500px;\" class=\"rqcharts\" id=\"6db091e5-d013-46c5-8f84-7da3bda5d4c5\"></div>\n",
       "<script type=\"text/javascript\">    \n",
       "    (function () {\n",
       "        console.log(\"registered chart 6db091e5-d013-46c5-8f84-7da3bda5d4c5\");\n",
       "        let option = {\"backgroundColor\":\"rgba(0,0,0,0)\",\"useUTC\":true,\"title\":{\"text\":\"Asset allocation\"},\"grid\":{\"right\":\"3%\",\"left\":\"3%\",\"containLabel\":true},\"toolbox\":{\"feature\":{\"saveAsImage\":{},\"restore\":{},\"dataView\":{\"readOnly\":true}}},\"tooltip\":{},\"series\":[{\"type\":\"pie\",\"data\":[{\"name\":\"ASSET3\",\"value\":9540.30,\"type\":\"STOCK\"},{\"name\":\"ASSET5\",\"value\":10751.81,\"type\":\"STOCK\"},{\"name\":\"ASSET7\",\"value\":9722.31,\"type\":\"STOCK\"}],\"radius\":\"80%\"}]};\n",
       "        window.call_echarts(\n",
       "            function () {\n",
       "                console.log(\"rendering chart 6db091e5-d013-46c5-8f84-7da3bda5d4c5\");\n",
       "                window.renderEChart(\"6db091e5-d013-46c5-8f84-7da3bda5d4c5\", option);\n",
       "            }\n",
       "        );\n",
       "    })()\n",
       "</script>"
      ]
     },
     "execution_count": 4,
     "metadata": {},
     "output_type": "execute_result"
    }
   ],
   "source": [
    "AssetAllocationChart(account.positions, includeAssetClass=false)"
   ]
  },
  {
   "cell_type": "code",
   "execution_count": 5,
   "metadata": {
    "execution": {
     "iopub.execute_input": "2023-03-15T15:14:48.768378Z",
     "iopub.status.busy": "2023-03-15T15:14:48.767829Z",
     "iopub.status.idle": "2023-03-15T15:14:48.809866Z",
     "shell.execute_reply": "2023-03-15T15:14:48.809507Z"
    },
    "pycharm": {
     "name": "#%%\n"
    },
    "tags": []
   },
   "outputs": [
    {
     "data": {
      "text/html": [
       "<div style=\"width:100%;height:500px;\" class=\"rqcharts\" id=\"fed29ca6-bebb-4dcc-99f3-3b47a4be4e79\"></div>\n",
       "<script type=\"text/javascript\">    \n",
       "    (function () {\n",
       "        console.log(\"registered chart fed29ca6-bebb-4dcc-99f3-3b47a4be4e79\");\n",
       "        let option = {\"backgroundColor\":\"rgba(0,0,0,0)\",\"useUTC\":true,\"title\":{\"text\":\"Asset Allocation\"},\"grid\":{\"right\":\"3%\",\"left\":\"3%\",\"containLabel\":true},\"toolbox\":{\"feature\":{\"saveAsImage\":{},\"restore\":{},\"dataView\":{\"readOnly\":true}}},\"tooltip\":{},\"series\":[{\"type\":\"sunburst\",\"data\":[{\"name\":\"STOCK\",\"children\":[{\"name\":\"ASSET3\",\"value\":9540.30,\"type\":\"STOCK\"},{\"name\":\"ASSET5\",\"value\":10751.81,\"type\":\"STOCK\"},{\"name\":\"ASSET7\",\"value\":9722.31,\"type\":\"STOCK\"}]}],\"radius\":\"80%\"}]};\n",
       "        window.call_echarts(\n",
       "            function () {\n",
       "                console.log(\"rendering chart fed29ca6-bebb-4dcc-99f3-3b47a4be4e79\");\n",
       "                window.renderEChart(\"fed29ca6-bebb-4dcc-99f3-3b47a4be4e79\", option);\n",
       "            }\n",
       "        );\n",
       "    })()\n",
       "</script>"
      ]
     },
     "execution_count": 5,
     "metadata": {},
     "output_type": "execute_result"
    }
   ],
   "source": [
    "AssetAllocationChart(account.positions, includeAssetClass=true)"
   ]
  },
  {
   "cell_type": "code",
   "execution_count": 6,
   "metadata": {
    "execution": {
     "iopub.execute_input": "2023-03-15T15:14:48.811766Z",
     "iopub.status.busy": "2023-03-15T15:14:48.811456Z",
     "iopub.status.idle": "2023-03-15T15:14:49.022693Z",
     "shell.execute_reply": "2023-03-15T15:14:49.022859Z"
    },
    "pycharm": {
     "name": "#%%\n"
    },
    "tags": []
   },
   "outputs": [
    {
     "data": {
      "text/html": [
       "<div style=\"width:100%;height:500px;\" class=\"rqcharts\" id=\"e285a99b-0335-4a6a-9a4a-0ab3471e59cf\"></div>\n",
       "<script type=\"text/javascript\">    \n",
       "    (function () {\n",
       "        console.log(\"registered chart e285a99b-0335-4a6a-9a4a-0ab3471e59cf\");\n",
       "        let option = {\"backgroundColor\":\"rgba(0,0,0,0)\",\"useUTC\":true,\"title\":{\"text\":\"Trade pnl\"},\"grid\":{\"right\":\"3%\",\"left\":\"3%\",\"containLabel\":true},\"xAxis\":[{\"type\":\"time\"}],\"yAxis\":[{\"type\":\"value\",\"scale\":true}],\"toolbox\":{\"feature\":{\"saveAsImage\":{},\"dataView\":{\"readOnly\":true},\"dataZoom\":{\"yAxisIndex\":\"none\"},\"restore\":{}}},\"tooltip\":{\"formatter\":\"return p.value[2];\"},\"dataZoom\":{},\"visualMap\":{\"top\":\"top\",\"left\":\"center\",\"min\":-822.23,\"max\":0.00,\"dimension\":1,\"orient\":\"horizontal\",\"color\":[\"#0C0\",\"#CC0\",\"#C00\"],\"calculable\":true},\"series\":[{\"type\":\"scatter\",\"data\":[[1565820000000,0.00,\"asset: ASSET7\\u003cbr\\u003e\\ncurrency: USD\\u003cbr\\u003e\\ntime: 2019-08-14T22:00:00Z\\u003cbr\\u003e\\nsize: 125\\u003cbr\\u003e\\nfee: 0.00\\u003cbr\\u003e\\npnl: 0.00\\u003cbr\\u003e\\ncost: 10071.13\\u003cbr\\u003e\\norder: 0\"],[1569448800000,0.00,\"asset: ASSET2\\u003cbr\\u003e\\ncurrency: USD\\u003cbr\\u003e\\ntime: 2019-09-25T22:00:00Z\\u003cbr\\u003e\\nsize: 97\\u003cbr\\u003e\\nfee: 0.00\\u003cbr\\u003e\\npnl: 0.00\\u003cbr\\u003e\\ncost: 10012.00\\u003cbr\\u003e\\norder: 1\"],[1570572000000,0.00,\"asset: ASSET10\\u003cbr\\u003e\\ncurrency: USD\\u003cbr\\u003e\\ntime: 2019-10-08T22:00:00Z\\u003cbr\\u003e\\nsize: 129\\u003cbr\\u003e\\nfee: 0.00\\u003cbr\\u003e\\npnl: 0.00\\u003cbr\\u003e\\ncost: 9878.85\\u003cbr\\u003e\\norder: 2\"],[1571176800000,0.00,\"asset: ASSET5\\u003cbr\\u003e\\ncurrency: USD\\u003cbr\\u003e\\ntime: 2019-10-15T22:00:00Z\\u003cbr\\u003e\\nsize: 76\\u003cbr\\u003e\\nfee: 0.00\\u003cbr\\u003e\\npnl: 0.00\\u003cbr\\u003e\\ncost: 9884.66\\u003cbr\\u003e\\norder: 3\"],[1571522400000,0.00,\"asset: ASSET3\\u003cbr\\u003e\\ncurrency: USD\\u003cbr\\u003e\\ntime: 2019-10-19T22:00:00Z\\u003cbr\\u003e\\nsize: 164\\u003cbr\\u003e\\nfee: 0.00\\u003cbr\\u003e\\npnl: 0.00\\u003cbr\\u003e\\ncost: 9890.93\\u003cbr\\u003e\\norder: 4\"],[1573167600000,-377.94,\"asset: ASSET3\\u003cbr\\u003e\\ncurrency: USD\\u003cbr\\u003e\\ntime: 2019-11-07T23:00:00Z\\u003cbr\\u003e\\nsize: -164\\u003cbr\\u003e\\nfee: 0.00\\u003cbr\\u003e\\npnl: -377.94\\u003cbr\\u003e\\ncost: -9512.99\\u003cbr\\u003e\\norder: 5\"],[1576623600000,0.00,\"asset: ASSET3\\u003cbr\\u003e\\ncurrency: USD\\u003cbr\\u003e\\ntime: 2019-12-17T23:00:00Z\\u003cbr\\u003e\\nsize: 163\\u003cbr\\u003e\\nfee: 0.00\\u003cbr\\u003e\\npnl: 0.00\\u003cbr\\u003e\\ncost: 9879.38\\u003cbr\\u003e\\norder: 6\"],[1576710000000,-401.45,\"asset: ASSET2\\u003cbr\\u003e\\ncurrency: USD\\u003cbr\\u003e\\ntime: 2019-12-18T23:00:00Z\\u003cbr\\u003e\\nsize: -97\\u003cbr\\u003e\\nfee: 0.00\\u003cbr\\u003e\\npnl: -401.45\\u003cbr\\u003e\\ncost: -9610.55\\u003cbr\\u003e\\norder: 7\"],[1577228400000,-822.23,\"asset: ASSET10\\u003cbr\\u003e\\ncurrency: USD\\u003cbr\\u003e\\ntime: 2019-12-24T23:00:00Z\\u003cbr\\u003e\\nsize: -129\\u003cbr\\u003e\\nfee: 0.00\\u003cbr\\u003e\\npnl: -822.23\\u003cbr\\u003e\\ncost: -9056.62\\u003cbr\\u003e\\norder: 8\"]],\"symbolSize\":10}]};option.tooltip.formatter = new Function('p', option.tooltip.formatter);\n",
       "        window.call_echarts(\n",
       "            function () {\n",
       "                console.log(\"rendering chart e285a99b-0335-4a6a-9a4a-0ab3471e59cf\");\n",
       "                window.renderEChart(\"e285a99b-0335-4a6a-9a4a-0ab3471e59cf\", option);\n",
       "            }\n",
       "        );\n",
       "    })()\n",
       "</script>"
      ]
     },
     "execution_count": 6,
     "metadata": {},
     "output_type": "execute_result"
    }
   ],
   "source": [
    "val trades = account.trades.filter { it.pnl.value < -100 }\n",
    "TradeChart(account.trades)"
   ]
  },
  {
   "cell_type": "code",
   "execution_count": 7,
   "metadata": {
    "execution": {
     "iopub.execute_input": "2023-03-15T15:14:49.024853Z",
     "iopub.status.busy": "2023-03-15T15:14:49.024307Z",
     "iopub.status.idle": "2023-03-15T15:14:49.076634Z",
     "shell.execute_reply": "2023-03-15T15:14:49.076799Z"
    },
    "pycharm": {
     "name": "#%%\n"
    },
    "tags": []
   },
   "outputs": [
    {
     "data": {
      "text/html": [
       "<div style=\"width:100%;height:1000px;\" class=\"rqcharts\" id=\"e6dae8a3-7164-4b41-af87-922c8b30b5b4\"></div>\n",
       "<script type=\"text/javascript\">    \n",
       "    (function () {\n",
       "        console.log(\"registered chart e6dae8a3-7164-4b41-af87-922c8b30b5b4\");\n",
       "        let option = {\"backgroundColor\":\"rgba(0,0,0,0)\",\"useUTC\":true,\"title\":{\"text\":\"Trade Chart pnl\"},\"grid\":{\"right\":\"3%\",\"left\":\"3%\",\"containLabel\":true},\"xAxis\":[{\"type\":\"time\"}],\"yAxis\":[{\"type\":\"category\",\"splitArea\":{\"show\":true},\"data\":[\"ASSET10\",\"ASSET2\",\"ASSET3\"]}],\"toolbox\":{\"feature\":{\"saveAsImage\":{},\"dataView\":{\"readOnly\":true},\"dataZoom\":{},\"restore\":{}}},\"tooltip\":{\"formatter\":\"return p.value[3];\"},\"dataZoom\":{},\"series\":[{\"type\":\"scatter\",\"data\":[[1573167600000,2,-377.94,\"asset: ASSET3\\u003cbr\\u003e\\ncurrency: USD\\u003cbr\\u003e\\ntime: 2019-11-07T23:00:00Z\\u003cbr\\u003e\\nsize: -164\\u003cbr\\u003e\\nfee: 0.00\\u003cbr\\u003e\\npnl: -377.94\\u003cbr\\u003e\\ncost: -9512.99\\u003cbr\\u003e\\norder: 5\"],[1576710000000,1,-401.45,\"asset: ASSET2\\u003cbr\\u003e\\ncurrency: USD\\u003cbr\\u003e\\ntime: 2019-12-18T23:00:00Z\\u003cbr\\u003e\\nsize: -97\\u003cbr\\u003e\\nfee: 0.00\\u003cbr\\u003e\\npnl: -401.45\\u003cbr\\u003e\\ncost: -9610.55\\u003cbr\\u003e\\norder: 7\"],[1577228400000,0,-822.23,\"asset: ASSET10\\u003cbr\\u003e\\ncurrency: USD\\u003cbr\\u003e\\ntime: 2019-12-24T23:00:00Z\\u003cbr\\u003e\\nsize: -129\\u003cbr\\u003e\\nfee: 0.00\\u003cbr\\u003e\\npnl: -822.23\\u003cbr\\u003e\\ncost: -9056.62\\u003cbr\\u003e\\norder: 8\"]],\"symbolSize\":10}]};option.tooltip.formatter = new Function('p', option.tooltip.formatter);\n",
       "        window.call_echarts(\n",
       "            function () {\n",
       "                console.log(\"rendering chart e6dae8a3-7164-4b41-af87-922c8b30b5b4\");\n",
       "                window.renderEChart(\"e6dae8a3-7164-4b41-af87-922c8b30b5b4\", option);\n",
       "            }\n",
       "        );\n",
       "    })()\n",
       "</script>"
      ]
     },
     "execution_count": 7,
     "metadata": {},
     "output_type": "execute_result"
    }
   ],
   "source": [
    "val chart = TradeAssetChart(trades)\n",
    "chart.height = 1000\n",
    "chart"
   ]
  },
  {
   "cell_type": "code",
   "execution_count": 8,
   "metadata": {
    "execution": {
     "iopub.execute_input": "2023-03-15T15:14:49.079223Z",
     "iopub.status.busy": "2023-03-15T15:14:49.078675Z",
     "iopub.status.idle": "2023-03-15T15:14:49.118561Z",
     "shell.execute_reply": "2023-03-15T15:14:49.118749Z"
    },
    "pycharm": {
     "name": "#%%\n"
    },
    "tags": []
   },
   "outputs": [
    {
     "data": {
      "text/html": [
       "<div style=\"width:100%;height:500px;\" class=\"rqcharts\" id=\"387053c2-cbce-48ec-a46d-5c1cab9222f9\"></div>\n",
       "<script type=\"text/javascript\">    \n",
       "    (function () {\n",
       "        console.log(\"registered chart 387053c2-cbce-48ec-a46d-5c1cab9222f9\");\n",
       "        let option = {\"backgroundColor\":\"rgba(0,0,0,0)\",\"useUTC\":true,\"title\":{\"text\":\"Trade cost\"},\"grid\":{\"right\":\"3%\",\"left\":\"3%\",\"containLabel\":true},\"xAxis\":[{\"type\":\"time\"}],\"yAxis\":[{\"type\":\"value\",\"scale\":true}],\"toolbox\":{\"feature\":{\"saveAsImage\":{},\"dataView\":{\"readOnly\":true},\"dataZoom\":{\"yAxisIndex\":\"none\"},\"restore\":{}}},\"tooltip\":{\"formatter\":\"return p.value[2];\"},\"dataZoom\":{},\"visualMap\":{\"top\":\"top\",\"left\":\"center\",\"min\":-9610.55,\"max\":-9056.62,\"dimension\":1,\"orient\":\"horizontal\",\"color\":[\"#0C0\",\"#CC0\",\"#C00\"],\"calculable\":true},\"series\":[{\"type\":\"scatter\",\"data\":[[1573167600000,-9512.99,\"asset: ASSET3\\u003cbr\\u003e\\ncurrency: USD\\u003cbr\\u003e\\ntime: 2019-11-07T23:00:00Z\\u003cbr\\u003e\\nsize: -164\\u003cbr\\u003e\\nfee: 0.00\\u003cbr\\u003e\\npnl: -377.94\\u003cbr\\u003e\\ncost: -9512.99\\u003cbr\\u003e\\norder: 5\"],[1576710000000,-9610.55,\"asset: ASSET2\\u003cbr\\u003e\\ncurrency: USD\\u003cbr\\u003e\\ntime: 2019-12-18T23:00:00Z\\u003cbr\\u003e\\nsize: -97\\u003cbr\\u003e\\nfee: 0.00\\u003cbr\\u003e\\npnl: -401.45\\u003cbr\\u003e\\ncost: -9610.55\\u003cbr\\u003e\\norder: 7\"],[1577228400000,-9056.62,\"asset: ASSET10\\u003cbr\\u003e\\ncurrency: USD\\u003cbr\\u003e\\ntime: 2019-12-24T23:00:00Z\\u003cbr\\u003e\\nsize: -129\\u003cbr\\u003e\\nfee: 0.00\\u003cbr\\u003e\\npnl: -822.23\\u003cbr\\u003e\\ncost: -9056.62\\u003cbr\\u003e\\norder: 8\"]],\"symbolSize\":10}]};option.tooltip.formatter = new Function('p', option.tooltip.formatter);\n",
       "        window.call_echarts(\n",
       "            function () {\n",
       "                console.log(\"rendering chart 387053c2-cbce-48ec-a46d-5c1cab9222f9\");\n",
       "                window.renderEChart(\"387053c2-cbce-48ec-a46d-5c1cab9222f9\", option);\n",
       "            }\n",
       "        );\n",
       "    })()\n",
       "</script>"
      ]
     },
     "execution_count": 8,
     "metadata": {},
     "output_type": "execute_result"
    }
   ],
   "source": [
    "TradeChart(trades, aspect = \"cost\") "
   ]
  },
  {
   "cell_type": "code",
   "execution_count": 9,
   "metadata": {
    "execution": {
     "iopub.execute_input": "2023-03-15T15:14:49.121697Z",
     "iopub.status.busy": "2023-03-15T15:14:49.121264Z",
     "iopub.status.idle": "2023-03-15T15:14:49.209872Z",
     "shell.execute_reply": "2023-03-15T15:14:49.209667Z"
    },
    "pycharm": {
     "name": "#%%\n"
    },
    "tags": []
   },
   "outputs": [
    {
     "data": {
      "text/html": [
       "<div style=\"width:100%;height:700px;\" class=\"rqcharts\" id=\"22296ab6-c41b-4b6f-84c4-65a8fda4d505\"></div>\n",
       "<script type=\"text/javascript\">    \n",
       "    (function () {\n",
       "        console.log(\"registered chart 22296ab6-c41b-4b6f-84c4-65a8fda4d505\");\n",
       "        let option = {\"backgroundColor\":\"rgba(0,0,0,0)\",\"useUTC\":true,\"dataset\":{\"source\":[[\"2019-01-01T23:00:00Z\",77.86046739407348,78.47888584452393,76.91713175297525,78.30547901111507,1152.0,1],[\"2019-01-02T23:00:00Z\",78.93123549466316,79.36089474770488,78.73316560295595,78.76334630300468,1868.0,-1],[\"2019-01-03T23:00:00Z\",79.68303497850829,79.95095580477526,78.90213546236558,79.60183153051396,1154.0,-1],[\"2019-01-04T23:00:00Z\",80.4539003531049,81.34640398300115,80.19338660363567,80.50891496523187,1496.0,1],[\"2019-01-05T23:00:00Z\",80.76937197819424,81.02143117175689,80.60257273882328,80.90247578459008,1490.0,1],[\"2019-01-06T23:00:00Z\",80.66095120626399,80.80608307785477,79.8158836408039,80.3255836396583,1209.0,-1],[\"2019-01-07T23:00:00Z\",81.61221227222119,81.89073552112048,81.11630335000996,81.46650724660095,1156.0,-1],[\"2019-01-08T23:00:00Z\",81.4139505469124,82.25677649346291,81.36602768562742,81.40279432979814,1836.0,-1],[\"2019-01-09T23:00:00Z\",81.87603893548237,82.71849834420216,81.73547827273525,81.86676221509919,1911.0,-1],[\"2019-01-10T23:00:00Z\",81.29368150095704,81.58448144030973,79.98049790185902,80.8891803250049,1329.0,-1],[\"2019-01-11T23:00:00Z\",79.94696425138856,80.86942769498732,79.94579760095519,80.59935893286547,1702.0,1],[\"2019-01-12T23:00:00Z\",80.68488521150654,80.74858360707753,79.89678236634539,80.08766299743742,1554.0,-1],[\"2019-01-13T23:00:00Z\",81.1986337438811,81.20687352345968,80.38547529971055,81.08824912874951,1732.0,-1],[\"2019-01-14T23:00:00Z\",80.58106126477354,81.38666654381845,79.89907273714662,80.15012826859862,1961.0,-1]]},\"title\":{\"text\":\"ASSET7 2019-01-01 - 2019-01-14\"},\"grid\":[{\"right\":\"3%\",\"bottom\":200,\"left\":80},{\"height\":80,\"right\":\"3%\",\"bottom\":80,\"left\":80}],\"xAxis\":[{\"type\":\"category\"},{\"gridIndex\":1,\"type\":\"category\",\"axisLabel\":{\"show\":false},\"axisTick\":{\"show\":false}}],\"yAxis\":[{\"type\":\"value\",\"splitArea\":{\"show\":true},\"scale\":true},{\"gridIndex\":1,\"type\":\"value\",\"axisLabel\":{\"show\":false},\"axisLine\":{\"show\":false},\"splitLine\":{\"show\":false},\"scale\":true}],\"toolbox\":{\"feature\":{\"saveAsImage\":{},\"dataView\":{\"readOnly\":true},\"dataZoom\":{\"yAxisIndex\":\"none\"},\"magicType\":{\"type\":[\"line\",\"bar\"]},\"restore\":{}}},\"tooltip\":{\"trigger\":\"axis\"},\"dataZoom\":[{\"type\":\"inside\",\"xAxisIndex\":[0,1]},{\"type\":\"slider\",\"xAxisIndex\":[0,1]}],\"visualMap\":{\"show\":false,\"seriesIndex\":1,\"dimension\":6,\"pieces\":[{\"color\":\"#0C0\",\"value\":1},{\"color\":\"#C00\",\"value\":-1}]},\"series\":[{\"type\":\"candlestick\",\"name\":\"ASSET7\",\"markPoint\":{\"data\":[],\"itemStyle\":{\"color\":\"#CC0\"}},\"itemStyle\":{\"borderColor\":\"#0C0\",\"color\":\"#0C0\",\"color0\":\"#C00\",\"borderColor0\":\"#C00\"},\"encode\":{\"x\":0,\"y\":[1,4,3,2]}},{\"type\":\"bar\",\"color\":\"#fbe9e\",\"xAxisIndex\":1,\"yAxisIndex\":1,\"large\":true,\"encode\":{\"x\":0,\"y\":5}}]};\n",
       "        window.call_echarts(\n",
       "            function () {\n",
       "                console.log(\"rendering chart 22296ab6-c41b-4b6f-84c4-65a8fda4d505\");\n",
       "                window.renderEChart(\"22296ab6-c41b-4b6f-84c4-65a8fda4d505\", option);\n",
       "            }\n",
       "        );\n",
       "    })()\n",
       "</script>"
      ]
     },
     "execution_count": 9,
     "metadata": {},
     "output_type": "execute_result"
    }
   ],
   "source": [
    "val asset = account.assets.first()\n",
    "val timeframe = Timeframe.parse(\"2019-01-01\", \"2019-01-15\")\n",
    "PriceBarChart(feed, asset, account.trades, timeframe, useTime = false)"
   ]
  },
  {
   "cell_type": "code",
   "execution_count": 10,
   "metadata": {
    "execution": {
     "iopub.execute_input": "2023-03-15T15:14:49.212102Z",
     "iopub.status.busy": "2023-03-15T15:14:49.211662Z",
     "iopub.status.idle": "2023-03-15T15:14:49.283492Z",
     "shell.execute_reply": "2023-03-15T15:14:49.283686Z"
    },
    "pycharm": {
     "name": "#%%\n"
    },
    "tags": []
   },
   "outputs": [
    {
     "data": {
      "text/html": [
       "<div style=\"width:100%;height:500px;\" class=\"rqcharts\" id=\"18b03ec3-3d33-4624-bb2d-c110d7a947ba\"></div>\n",
       "<script type=\"text/javascript\">    \n",
       "    (function () {\n",
       "        console.log(\"registered chart 18b03ec3-3d33-4624-bb2d-c110d7a947ba\");\n",
       "        let option = {\"backgroundColor\":\"rgba(0,0,0,0)\",\"useUTC\":true,\"title\":{\"text\":\"Order size\"},\"grid\":{\"right\":\"3%\",\"left\":\"3%\",\"containLabel\":true},\"xAxis\":[{\"type\":\"time\"}],\"yAxis\":[{\"type\":\"value\",\"scale\":true}],\"toolbox\":{\"feature\":{\"saveAsImage\":{},\"dataView\":{\"readOnly\":true},\"dataZoom\":{\"yAxisIndex\":\"none\"},\"restore\":{}}},\"tooltip\":{\"formatter\":\"return p.value[2];\"},\"dataZoom\":{},\"visualMap\":{\"top\":\"top\",\"left\":\"center\",\"min\":-164.00000000,\"max\":164.00000000,\"dimension\":1,\"orient\":\"horizontal\",\"color\":[\"#0C0\",\"#CC0\",\"#C00\"],\"calculable\":true},\"series\":[{\"type\":\"scatter\",\"data\":[[1565820000000,125.00000000,\"asset: ASSET7\\u003cbr\\u003e\\ncurrency: USD\\u003cbr\\u003e\\nplaced: 2019-08-14T22:00:00Z\\u003cbr\\u003e\\nsize: 125\\u003cbr\\u003e \\nid: 0\\u003cbr\\u003e \\ntype: MarketOrder\\u003cbr\\u003e \\ntif: GTC\"],[1569448800000,97.00000000,\"asset: ASSET2\\u003cbr\\u003e\\ncurrency: USD\\u003cbr\\u003e\\nplaced: 2019-09-25T22:00:00Z\\u003cbr\\u003e\\nsize: 97\\u003cbr\\u003e \\nid: 1\\u003cbr\\u003e \\ntype: MarketOrder\\u003cbr\\u003e \\ntif: GTC\"],[1570572000000,129.00000000,\"asset: ASSET10\\u003cbr\\u003e\\ncurrency: USD\\u003cbr\\u003e\\nplaced: 2019-10-08T22:00:00Z\\u003cbr\\u003e\\nsize: 129\\u003cbr\\u003e \\nid: 2\\u003cbr\\u003e \\ntype: MarketOrder\\u003cbr\\u003e \\ntif: GTC\"],[1571176800000,76.00000000,\"asset: ASSET5\\u003cbr\\u003e\\ncurrency: USD\\u003cbr\\u003e\\nplaced: 2019-10-15T22:00:00Z\\u003cbr\\u003e\\nsize: 76\\u003cbr\\u003e \\nid: 3\\u003cbr\\u003e \\ntype: MarketOrder\\u003cbr\\u003e \\ntif: GTC\"],[1571522400000,164.00000000,\"asset: ASSET3\\u003cbr\\u003e\\ncurrency: USD\\u003cbr\\u003e\\nplaced: 2019-10-19T22:00:00Z\\u003cbr\\u003e\\nsize: 164\\u003cbr\\u003e \\nid: 4\\u003cbr\\u003e \\ntype: MarketOrder\\u003cbr\\u003e \\ntif: GTC\"],[1573167600000,-164.00000000,\"asset: ASSET3\\u003cbr\\u003e\\ncurrency: USD\\u003cbr\\u003e\\nplaced: 2019-11-07T23:00:00Z\\u003cbr\\u003e\\nsize: -164\\u003cbr\\u003e \\nid: 5\\u003cbr\\u003e \\ntype: MarketOrder\\u003cbr\\u003e \\ntif: GTC\"],[1576623600000,163.00000000,\"asset: ASSET3\\u003cbr\\u003e\\ncurrency: USD\\u003cbr\\u003e\\nplaced: 2019-12-17T23:00:00Z\\u003cbr\\u003e\\nsize: 163\\u003cbr\\u003e \\nid: 6\\u003cbr\\u003e \\ntype: MarketOrder\\u003cbr\\u003e \\ntif: GTC\"],[1576710000000,-97.00000000,\"asset: ASSET2\\u003cbr\\u003e\\ncurrency: USD\\u003cbr\\u003e\\nplaced: 2019-12-18T23:00:00Z\\u003cbr\\u003e\\nsize: -97\\u003cbr\\u003e \\nid: 7\\u003cbr\\u003e \\ntype: MarketOrder\\u003cbr\\u003e \\ntif: GTC\"],[1577228400000,-129.00000000,\"asset: ASSET10\\u003cbr\\u003e\\ncurrency: USD\\u003cbr\\u003e\\nplaced: 2019-12-24T23:00:00Z\\u003cbr\\u003e\\nsize: -129\\u003cbr\\u003e \\nid: 8\\u003cbr\\u003e \\ntype: MarketOrder\\u003cbr\\u003e \\ntif: GTC\"]],\"symbolSize\":10}]};option.tooltip.formatter = new Function('p', option.tooltip.formatter);\n",
       "        window.call_echarts(\n",
       "            function () {\n",
       "                console.log(\"rendering chart 18b03ec3-3d33-4624-bb2d-c110d7a947ba\");\n",
       "                window.renderEChart(\"18b03ec3-3d33-4624-bb2d-c110d7a947ba\", option);\n",
       "            }\n",
       "        );\n",
       "    })()\n",
       "</script>"
      ]
     },
     "execution_count": 10,
     "metadata": {},
     "output_type": "execute_result"
    }
   ],
   "source": [
    "val orders = account.closedOrders.filter { it.asset.symbol.startsWith(\"A\") }\n",
    "OrderChart(orders) "
   ]
  },
  {
   "cell_type": "code",
   "execution_count": null,
   "metadata": {},
   "outputs": [],
   "source": []
  }
 ],
 "metadata": {
  "kernelspec": {
   "display_name": "Kotlin",
   "language": "kotlin",
   "name": "kotlin"
  },
  "language_info": {
   "codemirror_mode": "text/x-kotlin",
   "file_extension": ".kt",
   "mimetype": "text/x-kotlin",
   "name": "kotlin",
   "nbconvert_exporter": "",
   "pygments_lexer": "kotlin",
   "version": "1.8.20-Beta"
  }
 },
 "nbformat": 4,
 "nbformat_minor": 4
}
