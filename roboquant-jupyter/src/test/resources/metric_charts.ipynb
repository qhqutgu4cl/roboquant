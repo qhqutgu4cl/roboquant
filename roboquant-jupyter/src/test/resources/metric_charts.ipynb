{
 "cells": [
  {
   "cell_type": "code",
   "execution_count": 1,
   "metadata": {
    "execution": {
     "iopub.execute_input": "2023-01-26T11:26:45.576281Z",
     "iopub.status.busy": "2023-01-26T11:26:45.573062Z",
     "iopub.status.idle": "2023-01-26T11:26:48.116553Z",
     "shell.execute_reply": "2023-01-26T11:26:48.116263Z"
    },
    "tags": []
   },
   "outputs": [
    {
     "data": {
      "text/html": [
       "            <div id=\"kotlin_out_0\"/>\n",
       "            <script type=\"text/javascript\">\n",
       "                            if(!window.replace(script);\n",
       "                });\n",
       "            })();\n",
       "            </script>"
      ]
     },
     "metadata": {},
     "output_type": "display_data"
    }
   ],
   "source": [
    "%use roboquant@url[https://roboquant.org/roboquant.json](1.1.0-SNAPSHOT)\n",
    "val timeline = Timeframe.parse(\"2020-01\", \"2020-03\").toTimeline(1.days)\n",
    "val feed = RandomWalkFeed(timeline)"
   ]
  },
  {
   "cell_type": "code",
   "execution_count": 2,
   "metadata": {
    "execution": {
     "iopub.execute_input": "2023-01-26T11:26:48.119316Z",
     "iopub.status.busy": "2023-01-26T11:26:48.118682Z",
     "iopub.status.idle": "2023-01-26T11:26:48.259309Z",
     "shell.execute_reply": "2023-01-26T11:26:48.258968Z"
    },
    "tags": []
   },
   "outputs": [
    {
     "name": "stdout",
     "output_type": "stream",
     "text": [
      "2020-01-01 - 2020-02-29 | 100% |████████████████████████████████████| run-0 | phase=MAIN\n"
     ]
    }
   ],
   "source": [
    "val strategy = EMAStrategy()\n",
    "val roboquant =  Roboquant(strategy, AccountMetric())\n",
    "roboquant.run(feed)\n",
    "val logger = roboquant.logger"
   ]
  },
  {
   "cell_type": "code",
   "execution_count": 3,
   "metadata": {
    "execution": {
     "iopub.execute_input": "2023-01-26T11:26:48.261946Z",
     "iopub.status.busy": "2023-01-26T11:26:48.261655Z",
     "iopub.status.idle": "2023-01-26T11:26:48.374672Z",
     "shell.execute_reply": "2023-01-26T11:26:48.375009Z"
    },
    "tags": []
   },
   "outputs": [
    {
     "data": {
      "text/html": [
       "<div style=\"width:100%;height:500px;\" class=\"rqcharts\" id=\"a2b8c3f8-02ca-4d0c-8fd9-7ddfa0d9cf86\"></div>\n",
       "<script type=\"text/javascript\">    \n",
       "    (function () {  \n",
       "        let option = {\"backgroundColor\":\"rgba(0,0,0,0)\",\"title\":{\"text\":\"Metric: account equity\"},\"grid\":{\"right\":\"3%\",\"left\":\"3%\",\"containLabel\":true},\"xAxis\":[{\"type\":\"time\"}],\"yAxis\":[{\"type\":\"value\",\"scale\":true}],\"toolbox\":{\"feature\":{\"saveAsImage\":{},\"dataView\":{\"readOnly\":true},\"dataZoom\":{\"yAxisIndex\":\"none\"},\"magicType\":{\"type\":[\"line\",\"bar\"]},\"restore\":{}}},\"tooltip\":{\"trigger\":\"axis\"},\"dataZoom\":{},\"series\":[{\"type\":\"line\",\"name\":\"account.equity/run-0\",\"data\":[[1577836800000,1000000.00],[1577923200000,1000000.00],[1578009600000,1000000.00],[1578096000000,1000000.00],[1578182400000,1000000.00],[1578268800000,1000000.00],[1578355200000,1000000.00],[1578441600000,1000000.00],[1578528000000,1000000.00],[1578614400000,1000000.00],[1578700800000,1000000.00],[1578787200000,1000000.00],[1578873600000,1000000.00],[1578960000000,1000000.00],[1579046400000,1000000.00],[1579132800000,1000000.00],[1579219200000,1000000.00],[1579305600000,1000000.00],[1579392000000,1000000.00],[1579478400000,1000000.00],[1579564800000,1000000.00],[1579651200000,1000000.00],[1579737600000,1000000.00],[1579824000000,1000000.00],[1579910400000,1000000.00],[1579996800000,1000000.00],[1580083200000,999990.19],[1580169600000,1000032.76],[1580256000000,1000001.35],[1580342400000,999931.42],[1580428800000,999956.25],[1580515200000,999905.64],[1580601600000,999859.48],[1580688000000,999914.39],[1580774400000,999859.79],[1580860800000,999859.28],[1580947200000,999763.27],[1581033600000,999795.30],[1581120000000,999495.63],[1581206400000,999467.84],[1581292800000,999557.29],[1581379200000,999505.23],[1581465600000,999340.81],[1581552000000,999344.87],[1581638400000,999606.95],[1581724800000,999583.85],[1581811200000,1000118.56],[1581897600000,999820.60],[1581984000000,1000031.29],[1582070400000,1000085.59],[1582156800000,1000057.02],[1582243200000,1000213.91],[1582329600000,999991.73],[1582416000000,1000384.76],[1582502400000,1000293.07],[1582588800000,1000192.34],[1582675200000,1000616.62],[1582761600000,1000882.97],[1582848000000,1000989.42],[1582934400000,1000971.63]],\"lineStyle\":{\"width\":1},\"showSymbol\":false}]};\n",
       "        renderEChart(\"a2b8c3f8-02ca-4d0c-8fd9-7ddfa0d9cf86\", option, false);\n",
       "    })()\n",
       "</script>"
      ]
     },
     "execution_count": 3,
     "metadata": {},
     "output_type": "execute_result"
    }
   ],
   "source": [
    "val data = logger.getMetric(\"account.equity\")\n",
    "MetricChart(data)"
   ]
  },
  {
   "cell_type": "code",
   "execution_count": 4,
   "metadata": {
    "execution": {
     "iopub.execute_input": "2023-01-26T11:26:48.377807Z",
     "iopub.status.busy": "2023-01-26T11:26:48.377488Z",
     "iopub.status.idle": "2023-01-26T11:26:48.446939Z",
     "shell.execute_reply": "2023-01-26T11:26:48.447137Z"
    },
    "tags": []
   },
   "outputs": [
    {
     "data": {
      "text/html": [
       "<div style=\"width:100%;height:500px;\" class=\"rqcharts\" id=\"6539e9d5-0d93-455c-8e68-e028de376b08\"></div>\n",
       "<script type=\"text/javascript\">    \n",
       "    (function () {  \n",
       "        let option = {\"backgroundColor\":\"rgba(0,0,0,0)\",\"title\":{\"text\":\"Metric: account equity\"},\"grid\":{\"right\":\"3%\",\"left\":\"3%\",\"containLabel\":true},\"xAxis\":[{\"type\":\"category\",\"data\":[\"2020-01\",\"2020-02\"]}],\"yAxis\":[{\"type\":\"value\"}],\"toolbox\":{\"feature\":{\"saveAsImage\":{},\"dataView\":{\"readOnly\":true},\"dataZoom\":{\"yAxisIndex\":\"none\"},\"restore\":{}}},\"tooltip\":{\"trigger\":\"axis\"},\"dataZoom\":{},\"series\":[{\"type\":\"boxplot\",\"name\":\"account equity\",\"data\":[[-0.0069939216,0.0,0.0,0.0,0.0042570720],[-0.029973567,-0.0073131057,-0.0017770287,0.013161775,0.053493871]]}]};\n",
       "        renderEChart(\"6539e9d5-0d93-455c-8e68-e028de376b08\", option, false);\n",
       "    })()\n",
       "</script>"
      ]
     },
     "execution_count": 4,
     "metadata": {},
     "output_type": "execute_result"
    }
   ],
   "source": [
    "MetricBoxChart(data.perc())"
   ]
  },
  {
   "cell_type": "code",
   "execution_count": 5,
   "metadata": {
    "execution": {
     "iopub.execute_input": "2023-01-26T11:26:48.449479Z",
     "iopub.status.busy": "2023-01-26T11:26:48.448756Z",
     "iopub.status.idle": "2023-01-26T11:26:48.570166Z",
     "shell.execute_reply": "2023-01-26T11:26:48.569946Z"
    },
    "tags": []
   },
   "outputs": [
    {
     "data": {
      "text/html": [
       "<div style=\"width:100%;height:500px;\" class=\"rqcharts\" id=\"f5ad65a9-d59f-4388-8252-a4a9a8c502a1\"></div>\n",
       "<script type=\"text/javascript\">    \n",
       "    (function () {  \n",
       "        let option = {\"backgroundColor\":\"rgba(0,0,0,0)\",\"title\":{\"text\":\"Metric: account equity\"},\"grid\":{\"right\":\"3%\",\"left\":\"3%\",\"containLabel\":true},\"xAxis\":[{\"type\":\"category\",\"data\":[\"2020\"]}],\"yAxis\":[{\"type\":\"value\"}],\"toolbox\":{\"feature\":{\"saveAsImage\":{},\"dataView\":{\"readOnly\":true},\"dataZoom\":{\"yAxisIndex\":\"none\"},\"restore\":{}}},\"tooltip\":{\"trigger\":\"axis\"},\"dataZoom\":{},\"series\":[{\"type\":\"boxplot\",\"name\":\"account equity\",\"data\":[[-299.67432,-96.009932,0.0,210.69689,534.71609]]}]};\n",
       "        renderEChart(\"f5ad65a9-d59f-4388-8252-a4a9a8c502a1\", option, false);\n",
       "    })()\n",
       "</script>"
      ]
     },
     "execution_count": 5,
     "metadata": {},
     "output_type": "execute_result"
    }
   ],
   "source": [
    "MetricBoxChart(data.diff(), period=ChronoUnit.YEARS, lowPercentile = 10.0, highPercentile = 90.0)"
   ]
  },
  {
   "cell_type": "code",
   "execution_count": 6,
   "metadata": {
    "execution": {
     "iopub.execute_input": "2023-01-26T11:26:48.574337Z",
     "iopub.status.busy": "2023-01-26T11:26:48.573003Z",
     "iopub.status.idle": "2023-01-26T11:26:48.635258Z",
     "shell.execute_reply": "2023-01-26T11:26:48.635459Z"
    },
    "tags": []
   },
   "outputs": [
    {
     "data": {
      "text/html": [
       "<div style=\"width:100%;height:500px;\" class=\"rqcharts\" id=\"7b7942d4-495a-4af0-96e2-06067ec44d77\"></div>\n",
       "<script type=\"text/javascript\">    \n",
       "    (function () {  \n",
       "        let option = {\"backgroundColor\":\"rgba(0,0,0,0)\",\"title\":{\"text\":\"Metric: account equity\"},\"grid\":{\"right\":\"3%\",\"left\":\"3%\",\"containLabel\":true},\"xAxis\":[{\"type\":\"category\",\"axisTick\":{\"alignWithLabel\":true},\"data\":[\"-244.05\",\"-188.42\",\"-132.80\",\"-77.17\",\"-21.54\",\"34.08\",\"89.71\",\"145.33\",\"200.96\",\"256.59\",\"312.21\",\"367.84\",\"423.46\",\"479.09\",\"534.72\"]}],\"yAxis\":[{\"type\":\"value\",\"scale\":true}],\"toolbox\":{\"feature\":{\"saveAsImage\":{},\"dataView\":{\"readOnly\":true},\"dataZoom\":{\"yAxisIndex\":\"none\"},\"magicType\":{\"type\":[\"line\",\"bar\"]},\"restore\":{}}},\"tooltip\":{\"trigger\":\"axis\"},\"dataZoom\":{},\"series\":[{\"type\":\"bar\",\"name\":\"account equity\",\"data\":[2,1,1,3,9,31,4,1,1,1,2,0,1,1,1],\"barWidth\":\"70%\",\"label\":{\"show\":true}}]};\n",
       "        renderEChart(\"7b7942d4-495a-4af0-96e2-06067ec44d77\", option, false);\n",
       "    })()\n",
       "</script>"
      ]
     },
     "execution_count": 6,
     "metadata": {},
     "output_type": "execute_result"
    }
   ],
   "source": [
    "MetricHistogramChart(data.diff(), 15)"
   ]
  },
  {
   "cell_type": "code",
   "execution_count": 7,
   "metadata": {
    "execution": {
     "iopub.execute_input": "2023-01-26T11:26:48.637526Z",
     "iopub.status.busy": "2023-01-26T11:26:48.637137Z",
     "iopub.status.idle": "2023-01-26T11:26:48.691745Z",
     "shell.execute_reply": "2023-01-26T11:26:48.691172Z"
    },
    "tags": []
   },
   "outputs": [
    {
     "data": {
      "text/html": [
       "<div style=\"width:100%;height:300px;\" class=\"rqcharts\" id=\"615ef38f-4828-4a0b-997d-1b1217ec9194\"></div>\n",
       "<script type=\"text/javascript\">    \n",
       "    (function () {  \n",
       "        let option = {\"backgroundColor\":\"rgba(0,0,0,0)\",\"title\":{\"text\":\"Daily results account equity\"},\"grid\":{\"right\":\"3%\",\"left\":\"3%\",\"containLabel\":true},\"calendar\":[{\"top\":100,\"range\":2020,\"cellSize\":[\"auto\",20],\"right\":10}],\"toolbox\":{\"feature\":{\"saveAsImage\":{},\"restore\":{},\"dataView\":{\"readOnly\":true}}},\"tooltip\":{\"formatter\":\"var f \\u003d echarts.format.formatTime(\\u0027yyyy-MM-dd\\u0027, p.data[0]);return f + \\u0027: \\u0027 + p.data[1];\",\"position\":\"top\"},\"visualMap\":{\"top\":\"top\",\"left\":\"center\",\"min\":-299.6743150004186,\"max\":534.7160909362137,\"orient\":\"horizontal\",\"color\":[\"#0C0\",\"#CC0\",\"#C00\"],\"calculable\":true},\"series\":[{\"type\":\"heatmap\",\"data\":[[\"2020-01-02\",0.00],[\"2020-01-03\",0.00],[\"2020-01-04\",0.00],[\"2020-01-05\",0.00],[\"2020-01-06\",0.00],[\"2020-01-07\",0.00],[\"2020-01-08\",0.00],[\"2020-01-09\",0.00],[\"2020-01-10\",0.00],[\"2020-01-11\",0.00],[\"2020-01-12\",0.00],[\"2020-01-13\",0.00],[\"2020-01-14\",0.00],[\"2020-01-15\",0.00],[\"2020-01-16\",0.00],[\"2020-01-17\",0.00],[\"2020-01-18\",0.00],[\"2020-01-19\",0.00],[\"2020-01-20\",0.00],[\"2020-01-21\",0.00],[\"2020-01-22\",0.00],[\"2020-01-23\",0.00],[\"2020-01-24\",0.00],[\"2020-01-25\",0.00],[\"2020-01-26\",0.00],[\"2020-01-27\",-9.81],[\"2020-01-28\",42.57],[\"2020-01-29\",-31.40],[\"2020-01-30\",-69.94],[\"2020-01-31\",24.84],[\"2020-02-01\",-50.61],[\"2020-02-02\",-46.16],[\"2020-02-03\",54.91],[\"2020-02-04\",-54.60],[\"2020-02-05\",-0.51],[\"2020-02-06\",-96.01],[\"2020-02-07\",32.03],[\"2020-02-08\",-299.67],[\"2020-02-09\",-27.78],[\"2020-02-10\",89.45],[\"2020-02-11\",-52.06],[\"2020-02-12\",-164.42],[\"2020-02-13\",4.06],[\"2020-02-14\",262.08],[\"2020-02-15\",-23.10],[\"2020-02-16\",534.72],[\"2020-02-17\",-297.97],[\"2020-02-18\",210.70],[\"2020-02-19\",54.30],[\"2020-02-20\",-28.58],[\"2020-02-21\",156.89],[\"2020-02-22\",-222.18],[\"2020-02-23\",393.03],[\"2020-02-24\",-91.69],[\"2020-02-25\",-100.73],[\"2020-02-26\",424.28],[\"2020-02-27\",266.36],[\"2020-02-28\",106.45],[\"2020-02-29\",-17.79]],\"coordinateSystem\":\"calendar\",\"calendarIndex\":0}]};\n",
       "        renderEChart(\"615ef38f-4828-4a0b-997d-1b1217ec9194\", option, true);\n",
       "    })()\n",
       "</script>"
      ]
     },
     "execution_count": 7,
     "metadata": {},
     "output_type": "execute_result"
    }
   ],
   "source": [
    "MetricCalendarChart(data.diff())"
   ]
  },
  {
   "cell_type": "code",
   "execution_count": null,
   "metadata": {},
   "outputs": [],
   "source": []
  }
 ],
 "metadata": {
  "kernelspec": {
   "display_name": "Kotlin",
   "language": "kotlin",
   "name": "kotlin"
  },
  "language_info": {
   "codemirror_mode": "text/x-kotlin",
   "file_extension": ".kt",
   "mimetype": "text/x-kotlin",
   "name": "kotlin",
   "nbconvert_exporter": "",
   "pygments_lexer": "kotlin",
   "version": "1.8.0-RC"
  }
 },
 "nbformat": 4,
 "nbformat_minor": 4
}
