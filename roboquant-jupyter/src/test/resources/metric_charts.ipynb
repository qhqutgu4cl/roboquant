{
 "cells": [
  {
   "cell_type": "code",
   "execution_count": 1,
   "metadata": {
    "execution": {
     "iopub.execute_input": "2023-02-24T16:13:27.984593Z",
     "iopub.status.busy": "2023-02-24T16:13:27.980815Z",
     "iopub.status.idle": "2023-02-24T16:13:30.496778Z",
     "shell.execute_reply": "2023-02-24T16:13:30.496328Z"
    },
    "tags": []
   },
   "outputs": [
    {
     "data": {
      "text/html": [
       "            <div id=\"kotlin_out_0\"/>\n",
       "            <script type=\"text/javascript\">\n",
       "                            if(!window.kotlinQueues) {\n",
       "                window.kotlinQueues = {};\n",
       "            }\n",
       "            if(!window.kotlinQueues[\"echarts\"]) {\n",
       "                var resQueue = [];\n",
       "                window.kotlinQueues[\"echarts\"] = resQueue;\n",
       "                window[\"call_echarts\"] = function(f) {\n",
       "                    resQueue.push(f);\n",
       "                }\n",
       "            }\n",
       "            (function (){\n",
       "                var modifiers = [(function(script) {\n",
       "    script.textContent = \"// removed\"\n",
       "    script.type = \"text/javascript\";\n",
       "})];\n",
       "                var e = document.getElementById(\"kotlin_out_0\");\n",
       "                modifiers.forEach(function (gen) {\n",
       "                    var script = document.createElement(\"script\");\n",
       "                    gen(script)\n",
       "                    script.addEventListener(\"load\", function() {\n",
       "                        window[\"call_echarts\"] = function(f) {f();};\n",
       "                        window.kotlinQueues[\"echarts\"].forEach(function(f) {f();});\n",
       "                        window.kotlinQueues[\"echarts\"] = [];\n",
       "                    }, false);\n",
       "                    script.addEventListener(\"error\", function() {\n",
       "                        window[\"call_echarts\"] = function(f) {};\n",
       "                        window.kotlinQueues[\"echarts\"] = [];\n",
       "                        var div = document.createElement(\"div\");\n",
       "                        div.style.color = 'darkred';\n",
       "                        div.textContent = 'Error loading resource echarts';\n",
       "                        document.getElementById(\"kotlin_out_0\").appendChild(div);\n",
       "                    }, false);\n",
       "                    \n",
       "                    e.appendChild(script);\n",
       "                });\n",
       "            })();\n",
       "            </script>"
      ]
     },
     "metadata": {},
     "output_type": "display_data"
    }
   ],
   "source": [
    "%use roboquant@url[https://roboquant.org/roboquant.json](1.2.0-SNAPSHOT)\n",
    "val timeline = Timeframe.parse(\"2020-01\", \"2020-03\").toTimeline(1.days)\n",
    "val feed = RandomWalkFeed(timeline)"
   ]
  },
  {
   "cell_type": "code",
   "execution_count": 2,
   "metadata": {
    "execution": {
     "iopub.execute_input": "2023-02-24T16:13:30.499317Z",
     "iopub.status.busy": "2023-02-24T16:13:30.498803Z",
     "iopub.status.idle": "2023-02-24T16:13:30.637937Z",
     "shell.execute_reply": "2023-02-24T16:13:30.637353Z"
    },
    "tags": []
   },
   "outputs": [
    {
     "name": "stdout",
     "output_type": "stream",
     "text": [
      "2020-01-01 - 2020-02-29 | 100% |████████████████████████████████████| run-0 | phase=MAIN\n"
     ]
    }
   ],
   "source": [
    "val strategy = EMAStrategy()\n",
    "val roboquant =  Roboquant(strategy, AccountMetric())\n",
    "roboquant.run(feed)\n",
    "val logger = roboquant.logger"
   ]
  },
  {
   "cell_type": "code",
   "execution_count": 3,
   "metadata": {
    "execution": {
     "iopub.execute_input": "2023-02-24T16:13:30.640459Z",
     "iopub.status.busy": "2023-02-24T16:13:30.640061Z",
     "iopub.status.idle": "2023-02-24T16:13:30.744421Z",
     "shell.execute_reply": "2023-02-24T16:13:30.744594Z"
    },
    "tags": []
   },
   "outputs": [
    {
     "data": {
      "text/html": [
       "<div style=\"width:100%;height:500px;\" class=\"rqcharts\" id=\"7894966e-6465-47c8-b3c6-fbf2f67e7c2a\"></div>\n",
       "<script type=\"text/javascript\">    \n",
       "    (function () {  \n",
       "        let option = {\"backgroundColor\":\"rgba(0,0,0,0)\",\"useUTC\":true,\"title\":{\"text\":\"account equity\"},\"grid\":{\"right\":\"3%\",\"left\":\"3%\",\"containLabel\":true},\"xAxis\":[{\"type\":\"time\"}],\"yAxis\":[{\"type\":\"value\",\"scale\":true}],\"toolbox\":{\"feature\":{\"saveAsImage\":{},\"dataView\":{\"readOnly\":true},\"dataZoom\":{\"yAxisIndex\":\"none\"},\"magicType\":{\"type\":[\"line\",\"bar\"]},\"restore\":{}}},\"tooltip\":{\"trigger\":\"axis\"},\"dataZoom\":{},\"series\":[{\"type\":\"line\",\"name\":\"account.equity\",\"data\":[[1577836800000,1000000.00],[1577923200000,1000000.00],[1578009600000,1000000.00],[1578096000000,1000000.00],[1578182400000,1000000.00],[1578268800000,1000000.00],[1578355200000,1000000.00],[1578441600000,1000000.00],[1578528000000,1000000.00],[1578614400000,1000000.00],[1578700800000,1000000.00],[1578787200000,1000000.00],[1578873600000,1000000.00],[1578960000000,1000000.00],[1579046400000,1000000.00],[1579132800000,1000000.00],[1579219200000,1000000.00],[1579305600000,1000000.00],[1579392000000,1000000.00],[1579478400000,1000000.00],[1579564800000,1000000.00],[1579651200000,1000000.00],[1579737600000,1000000.00],[1579824000000,1000000.00],[1579910400000,1000000.00],[1579996800000,1000000.00],[1580083200000,999995.09],[1580169600000,1000037.66],[1580256000000,1000006.26],[1580342400000,999936.32],[1580428800000,999961.16],[1580515200000,999910.55],[1580601600000,999864.39],[1580688000000,999919.30],[1580774400000,999864.70],[1580860800000,999874.04],[1580947200000,999778.03],[1581033600000,999810.06],[1581120000000,999515.10],[1581206400000,999487.32],[1581292800000,999576.76],[1581379200000,999529.73],[1581465600000,999365.31],[1581552000000,999374.31],[1581638400000,999636.38],[1581724800000,999618.14],[1581811200000,1000157.84],[1581897600000,999864.81],[1581984000000,1000080.37],[1582070400000,1000134.67],[1582156800000,1000106.09],[1582243200000,1000262.98],[1582329600000,1000040.80],[1582416000000,1000443.74],[1582502400000,1000357.00],[1582588800000,1000256.27],[1582675200000,1000685.44],[1582761600000,1000951.80],[1582848000000,1001058.25],[1582934400000,1001040.46]],\"lineStyle\":{\"width\":1},\"showSymbol\":false}]};\n",
       "        renderEChart(\"7894966e-6465-47c8-b3c6-fbf2f67e7c2a\", option, false);\n",
       "    })()\n",
       "</script>"
      ]
     },
     "execution_count": 3,
     "metadata": {},
     "output_type": "execute_result"
    }
   ],
   "source": [
    "val data = logger.getMetric(\"account.equity\")\n",
    "MetricChart(data)"
   ]
  },
  {
   "cell_type": "code",
   "execution_count": 4,
   "metadata": {
    "execution": {
     "iopub.execute_input": "2023-02-24T16:13:30.746793Z",
     "iopub.status.busy": "2023-02-24T16:13:30.746364Z",
     "iopub.status.idle": "2023-02-24T16:13:30.814432Z",
     "shell.execute_reply": "2023-02-24T16:13:30.814217Z"
    },
    "tags": []
   },
   "outputs": [
    {
     "data": {
      "text/html": [
       "<div style=\"width:100%;height:500px;\" class=\"rqcharts\" id=\"55b5dd3d-a677-4c36-b417-16950f2f69af\"></div>\n",
       "<script type=\"text/javascript\">    \n",
       "    (function () {  \n",
       "        let option = {\"backgroundColor\":\"rgba(0,0,0,0)\",\"useUTC\":true,\"title\":{\"text\":\"account equity perc\"},\"grid\":{\"right\":\"3%\",\"left\":\"3%\",\"containLabel\":true},\"xAxis\":[{\"type\":\"category\",\"data\":[\"2020-01\",\"2020-02\"]}],\"yAxis\":[{\"type\":\"value\"}],\"toolbox\":{\"feature\":{\"saveAsImage\":{},\"dataView\":{\"readOnly\":true},\"dataZoom\":{\"yAxisIndex\":\"none\"},\"restore\":{}}},\"tooltip\":{\"trigger\":\"axis\"},\"dataZoom\":{},\"series\":[{\"type\":\"boxplot\",\"name\":\"account equity perc\",\"data\":[[-0.0069938873,0.0,0.0,0.0,0.0042570512],[-0.029501638,-0.0070655883,-0.0017769065,0.013161025,0.053991185]]}]};\n",
       "        renderEChart(\"55b5dd3d-a677-4c36-b417-16950f2f69af\", option, false);\n",
       "    })()\n",
       "</script>"
      ]
     },
     "execution_count": 4,
     "metadata": {},
     "output_type": "execute_result"
    }
   ],
   "source": [
    "MetricBoxChart(data.perc())"
   ]
  },
  {
   "cell_type": "code",
   "execution_count": 5,
   "metadata": {
    "execution": {
     "iopub.execute_input": "2023-02-24T16:13:30.816478Z",
     "iopub.status.busy": "2023-02-24T16:13:30.816087Z",
     "iopub.status.idle": "2023-02-24T16:13:30.871503Z",
     "shell.execute_reply": "2023-02-24T16:13:30.870894Z"
    },
    "tags": []
   },
   "outputs": [
    {
     "data": {
      "text/html": [
       "<div style=\"width:100%;height:500px;\" class=\"rqcharts\" id=\"1bd63535-ade0-4205-aef4-5d36baa8770b\"></div>\n",
       "<script type=\"text/javascript\">    \n",
       "    (function () {  \n",
       "        let option = {\"backgroundColor\":\"rgba(0,0,0,0)\",\"useUTC\":true,\"title\":{\"text\":\"account equity diff\"},\"grid\":{\"right\":\"3%\",\"left\":\"3%\",\"containLabel\":true},\"xAxis\":[{\"type\":\"category\",\"data\":[\"2020\"]}],\"yAxis\":[{\"type\":\"value\"}],\"toolbox\":{\"feature\":{\"saveAsImage\":{},\"dataView\":{\"readOnly\":true},\"dataZoom\":{\"yAxisIndex\":\"none\"},\"restore\":{}}},\"tooltip\":{\"trigger\":\"axis\"},\"dataZoom\":{},\"series\":[{\"type\":\"boxplot\",\"name\":\"account equity diff\",\"data\":[[-294.96035,-96.009932,0.0,215.55998,539.70568]]}]};\n",
       "        renderEChart(\"1bd63535-ade0-4205-aef4-5d36baa8770b\", option, false);\n",
       "    })()\n",
       "</script>"
      ]
     },
     "execution_count": 5,
     "metadata": {},
     "output_type": "execute_result"
    }
   ],
   "source": [
    "MetricBoxChart(data.diff(), period=ChronoUnit.YEARS, lowPercentile = 10.0, highPercentile = 90.0)"
   ]
  },
  {
   "cell_type": "code",
   "execution_count": 6,
   "metadata": {
    "execution": {
     "iopub.execute_input": "2023-02-24T16:13:30.873837Z",
     "iopub.status.busy": "2023-02-24T16:13:30.873379Z",
     "iopub.status.idle": "2023-02-24T16:13:30.927677Z",
     "shell.execute_reply": "2023-02-24T16:13:30.926812Z"
    },
    "tags": []
   },
   "outputs": [
    {
     "data": {
      "text/html": [
       "<div style=\"width:100%;height:500px;\" class=\"rqcharts\" id=\"458e8d72-057d-4eeb-92ed-be29a225b610\"></div>\n",
       "<script type=\"text/javascript\">    \n",
       "    (function () {  \n",
       "        let option = {\"backgroundColor\":\"rgba(0,0,0,0)\",\"useUTC\":true,\"title\":{\"text\":\"account equity diff\"},\"grid\":{\"right\":\"3%\",\"left\":\"3%\",\"containLabel\":true},\"xAxis\":[{\"type\":\"category\",\"axisTick\":{\"alignWithLabel\":true},\"data\":[\"-239.32\",\"-183.67\",\"-128.03\",\"-72.38\",\"-16.74\",\"38.91\",\"94.55\",\"150.19\",\"205.84\",\"261.48\",\"317.13\",\"372.77\",\"428.42\",\"484.06\",\"539.71\"]}],\"yAxis\":[{\"type\":\"value\",\"scale\":true}],\"toolbox\":{\"feature\":{\"saveAsImage\":{},\"dataView\":{\"readOnly\":true},\"dataZoom\":{\"yAxisIndex\":\"none\"},\"magicType\":{\"type\":[\"line\",\"bar\"]},\"restore\":{}}},\"tooltip\":{\"trigger\":\"axis\"},\"dataZoom\":{},\"series\":[{\"type\":\"bar\",\"name\":\"account equity diff\",\"data\":[2,1,1,3,10,30,4,1,1,1,2,0,1,1,1],\"barWidth\":\"70%\",\"label\":{\"show\":true}}]};\n",
       "        renderEChart(\"458e8d72-057d-4eeb-92ed-be29a225b610\", option, false);\n",
       "    })()\n",
       "</script>"
      ]
     },
     "execution_count": 6,
     "metadata": {},
     "output_type": "execute_result"
    }
   ],
   "source": [
    "MetricHistogramChart(data.diff(), 15)"
   ]
  },
  {
   "cell_type": "code",
   "execution_count": 7,
   "metadata": {
    "execution": {
     "iopub.execute_input": "2023-02-24T16:13:30.929810Z",
     "iopub.status.busy": "2023-02-24T16:13:30.929382Z",
     "iopub.status.idle": "2023-02-24T16:13:30.973811Z",
     "shell.execute_reply": "2023-02-24T16:13:30.974011Z"
    },
    "tags": []
   },
   "outputs": [
    {
     "data": {
      "text/html": [
       "<div style=\"width:100%;height:300px;\" class=\"rqcharts\" id=\"4e279a94-6376-4b39-9a84-394a3920d927\"></div>\n",
       "<script type=\"text/javascript\">    \n",
       "    (function () {  \n",
       "        let option = {\"backgroundColor\":\"rgba(0,0,0,0)\",\"useUTC\":true,\"title\":{\"text\":\"account equity diff\"},\"grid\":{\"right\":\"3%\",\"left\":\"3%\",\"containLabel\":true},\"calendar\":[{\"top\":100,\"range\":2020,\"cellSize\":[\"auto\",20],\"right\":10}],\"toolbox\":{\"feature\":{\"saveAsImage\":{},\"restore\":{},\"dataView\":{\"readOnly\":true}}},\"tooltip\":{\"formatter\":\"var f \\u003d echarts.format.formatTime(\\u0027yyyy-MM-dd\\u0027, p.data[0]);return f + \\u0027: \\u0027 + p.data[1];\",\"position\":\"top\"},\"visualMap\":{\"top\":\"top\",\"left\":\"center\",\"min\":-294.96034900366794,\"max\":539.7056804692838,\"orient\":\"horizontal\",\"color\":[\"#0C0\",\"#CC0\",\"#C00\"],\"calculable\":true},\"series\":[{\"type\":\"heatmap\",\"data\":[[\"2020-01-02\",0.00],[\"2020-01-03\",0.00],[\"2020-01-04\",0.00],[\"2020-01-05\",0.00],[\"2020-01-06\",0.00],[\"2020-01-07\",0.00],[\"2020-01-08\",0.00],[\"2020-01-09\",0.00],[\"2020-01-10\",0.00],[\"2020-01-11\",0.00],[\"2020-01-12\",0.00],[\"2020-01-13\",0.00],[\"2020-01-14\",0.00],[\"2020-01-15\",0.00],[\"2020-01-16\",0.00],[\"2020-01-17\",0.00],[\"2020-01-18\",0.00],[\"2020-01-19\",0.00],[\"2020-01-20\",0.00],[\"2020-01-21\",0.00],[\"2020-01-22\",0.00],[\"2020-01-23\",0.00],[\"2020-01-24\",0.00],[\"2020-01-25\",0.00],[\"2020-01-26\",0.00],[\"2020-01-27\",-4.91],[\"2020-01-28\",42.57],[\"2020-01-29\",-31.40],[\"2020-01-30\",-69.94],[\"2020-01-31\",24.84],[\"2020-02-01\",-50.61],[\"2020-02-02\",-46.16],[\"2020-02-03\",54.91],[\"2020-02-04\",-54.60],[\"2020-02-05\",9.35],[\"2020-02-06\",-96.01],[\"2020-02-07\",32.03],[\"2020-02-08\",-294.96],[\"2020-02-09\",-27.78],[\"2020-02-10\",89.45],[\"2020-02-11\",-47.03],[\"2020-02-12\",-164.42],[\"2020-02-13\",8.99],[\"2020-02-14\",262.08],[\"2020-02-15\",-18.25],[\"2020-02-16\",539.71],[\"2020-02-17\",-293.04],[\"2020-02-18\",215.56],[\"2020-02-19\",54.30],[\"2020-02-20\",-28.58],[\"2020-02-21\",156.89],[\"2020-02-22\",-222.18],[\"2020-02-23\",402.94],[\"2020-02-24\",-86.74],[\"2020-02-25\",-100.73],[\"2020-02-26\",429.17],[\"2020-02-27\",266.36],[\"2020-02-28\",106.45],[\"2020-02-29\",-17.79]],\"coordinateSystem\":\"calendar\",\"calendarIndex\":0}]};\n",
       "        renderEChart(\"4e279a94-6376-4b39-9a84-394a3920d927\", option, true);\n",
       "    })()\n",
       "</script>"
      ]
     },
     "execution_count": 7,
     "metadata": {},
     "output_type": "execute_result"
    }
   ],
   "source": [
    "MetricCalendarChart(data.diff())"
   ]
  },
  {
   "cell_type": "code",
   "execution_count": null,
   "metadata": {},
   "outputs": [],
   "source": []
  }
 ],
 "metadata": {
  "kernelspec": {
   "display_name": "Kotlin",
   "language": "kotlin",
   "name": "kotlin"
  },
  "language_info": {
   "codemirror_mode": "text/x-kotlin",
   "file_extension": ".kt",
   "mimetype": "text/x-kotlin",
   "name": "kotlin",
   "nbconvert_exporter": "",
   "pygments_lexer": "kotlin",
   "version": "1.8.0-RC"
  }
 },
 "nbformat": 4,
 "nbformat_minor": 4
}
