{
 "cells": [
  {
   "cell_type": "code",
   "execution_count": 1,
   "metadata": {
    "tags": []
   },
   "outputs": [
    {
     "data": {
      "text/html": [
       "            <div id=\"kotlin_out_0\"/>\n",
       "            <script type=\"text/javascript\">\n",
       "                            if(!window.kotlinQueues) {\n",
       "                window.kotlinQueues = {};\n",
       "            }\n",
       "            if(!window.kotlinQueues[\"echarts\"]) {\n",
       "                var resQueue = [];\n",
       "                window.kotlinQueues[\"echarts\"] = resQueue;\n",
       "                window[\"call_echarts\"] = function(f) {\n",
       "                    resQueue.push(f);\n",
       "                }\n",
       "            }\n",
       "            (function (){\n",
       "                var modifiers = [(function(script) {\n",
       "    script.src = \"https://cdn.jsdelivr.net/npm/echarts@5/dist/echarts.min.js\"\n",
       "    script.type = \"text/javascript\";\n",
       "})];\n",
       "                var e = document.getElementById(\"kotlin_out_0\");\n",
       "                modifiers.forEach(function (gen) {\n",
       "                    var script = document.createElement(\"script\");\n",
       "                    gen(script)\n",
       "                    script.addEventListener(\"load\", function() {\n",
       "                        window[\"call_echarts\"] = function(f) {f();};\n",
       "                        window.kotlinQueues[\"echarts\"].forEach(function(f) {f();});\n",
       "                        window.kotlinQueues[\"echarts\"] = [];\n",
       "                    }, false);\n",
       "                    script.addEventListener(\"error\", function() {\n",
       "                        window[\"call_echarts\"] = function(f) {};\n",
       "                        window.kotlinQueues[\"echarts\"] = [];\n",
       "                        var div = document.createElement(\"div\");\n",
       "                        div.style.color = 'darkred';\n",
       "                        div.textContent = 'Error loading resource echarts';\n",
       "                        document.getElementById(\"kotlin_out_0\").appendChild(div);\n",
       "                    }, false);\n",
       "                    \n",
       "                    e.appendChild(script);\n",
       "                });\n",
       "            })();\n",
       "            </script>"
      ]
     },
     "metadata": {},
     "output_type": "display_data"
    }
   ],
   "source": [
    "%use roboquant@url[https://roboquant.org/roboquant.json]\n",
    "Output.lab()\n",
    "val feed = AvroFeed.usTest()"
   ]
  },
  {
   "cell_type": "code",
   "execution_count": 2,
   "metadata": {},
   "outputs": [
    {
     "name": "stdout",
     "output_type": "stream",
     "text": [
      "2021-08-01 - 2022-03-01 | 100% |████████████████████████████████████████| run-0 | episode=1 | phase=MAIN \n"
     ]
    }
   ],
   "source": [
    "val strategy = EMACrossover()\n",
    "val roboquant =  Roboquant(strategy, AccountSummary())\n",
    "val tf = Timeframe.parse(\"2021-08-01\", \"2022-03-01\")\n",
    "roboquant.run(feed, tf)\n",
    "val logger = roboquant.logger"
   ]
  },
  {
   "cell_type": "code",
   "execution_count": 3,
   "metadata": {
    "tags": []
   },
   "outputs": [
    {
     "data": {
      "text/html": [
       "<div style=\"width:100%;height:500px;\" class=\"rqcharts\"></div>\n",
       "\n",
       "<script type=\"text/javascript\">\n",
       "    (function () {\n",
       "        let elem = document.currentScript.previousElementSibling;\n",
       "        let fn = function(a) {\n",
       "            let theme = document.body.dataset.jpThemeLight == 'false' ? 'dark' : 'light';\n",
       "            let myChart = echarts.init(elem, theme);\n",
       "            let option = {\"backgroundColor\":\"rgba(0,0,0,0)\",\"title\":{\"text\":\"Metric: account equity\"},\"grid\":{\"right\":\"3%\",\"left\":\"3%\",\"containLabel\":true},\"xAxis\":[{\"type\":\"time\"}],\"yAxis\":[{\"type\":\"value\",\"scale\":true}],\"toolbox\":{\"feature\":{\"saveAsImage\":{},\"dataView\":{\"readOnly\":true},\"dataZoom\":{\"yAxisIndex\":\"none\"},\"magicType\":{\"type\":[\"line\",\"bar\"]},\"restore\":{}}},\"tooltip\":{\"trigger\":\"axis\"},\"dataZoom\":{},\"series\":[{\"type\":\"line\",\"name\":\"account.equity/run-0/1\",\"data\":[[1627934400000,1000000.00],[1628020800000,1000000.00],[1628107200000,1000000.00],[1628193600000,1000000.00],[1628280000000,1000000.00],[1628539200000,1000000.00],[1628625600000,1000000.00],[1628712000000,1000000.00],[1628798400000,1000000.00],[1628884800000,1000000.00],[1629144000000,1000000.00],[1629230400000,1000000.00],[1629316800000,1000000.00],[1629403200000,1000000.00],[1629489600000,1000000.00],[1629748800000,1000000.00],[1629835200000,1000000.00],[1629921600000,1000000.00],[1630008000000,1000000.00],[1630094400000,1000000.00],[1630353600000,1000000.00],[1630440000000,1000000.00],[1630526400000,1000000.00],[1630612800000,1000000.00],[1630699200000,1000000.00],[1631044800000,1000000.00],[1631131200000,1000000.00],[1631217600000,1000000.00],[1631304000000,1000000.00],[1631563200000,1000000.00],[1631649600000,1000000.00],[1631736000000,1000000.00],[1631822400000,1000000.00],[1631908800000,1000000.00],[1632168000000,1000000.00],[1632254400000,1000000.00],[1632340800000,1000000.00],[1632427200000,1000000.00],[1632513600000,1000000.00],[1632772800000,999979.58],[1632859200000,999870.11],[1632945600000,999854.12],[1633032000000,999577.37],[1633118400000,999998.03],[1633377600000,999955.84],[1633464000000,1000155.22],[1633550400000,1000090.93],[1633636800000,1000144.99],[1633723200000,1000356.97],[1633982400000,999806.65],[1634068800000,999377.08],[1634155200000,998881.69],[1634241600000,999550.69],[1634328000000,1000107.52],[1634587200000,999781.48],[1634673600000,999982.00],[1634760000000,1000232.86],[1634846400000,998279.80],[1634932800000,997963.36],[1635192000000,997777.49],[1635278400000,998203.01],[1635364800000,997783.49],[1635451200000,998859.84],[1635537600000,998062.92],[1635796800000,997668.53],[1635883200000,997865.12],[1635969600000,998424.26],[1636056000000,998523.33],[1636142400000,998634.01],[1636405200000,998428.71],[1636491600000,998713.17],[1636578000000,998031.30],[1636664400000,997955.94],[1636750800000,998624.89],[1637010000000,998672.18],[1637096400000,998529.83],[1637182800000,998847.08],[1637269200000,999970.21],[1637355600000,1000229.20],[1637614800000,999771.71],[1637701200000,999860.93],[1637787600000,999933.27],[1637960400000,998871.73],[1638219600000,999612.97],[1638306000000,1000013.45],[1638392400000,999626.21],[1638478800000,999460.08],[1638565200000,998966.87],[1638824400000,999617.61],[1638910800000,1000876.59],[1638997200000,1001394.64],[1639083600000,1001126.78],[1639170000000,1001561.39],[1639429200000,1001158.71],[1639515600000,1001127.47],[1639602000000,1001890.48],[1639688400000,1001158.16],[1639774800000,1000673.74],[1640034000000,1000376.19],[1640120400000,1001051.73],[1640206800000,1001616.94],[1640293200000,1001883.02],[1640638800000,1002752.45],[1640725200000,1002859.35],[1640811600000,1003131.96],[1640898000000,1003137.67],[1640984400000,1002620.50],[1641243600000,1006226.98],[1641330000000,1005281.89],[1641416400000,1003708.89],[1641502800000,1002341.42],[1641589200000,1002080.57],[1641848400000,1002592.83],[1641934800000,1002540.26],[1642021200000,1003410.21],[1642107600000,1001662.43],[1642194000000,1000643.39],[1642539600000,998762.50],[1642626000000,997092.01],[1642712400000,996400.80],[1642798800000,995816.16],[1643058000000,995482.75],[1643144400000,996662.11],[1643230800000,996364.03],[1643317200000,996082.15],[1643403600000,996402.91],[1643662800000,996232.26],[1643749200000,996386.22],[1643835600000,996884.10],[1643922000000,996968.80],[1644008400000,996715.84],[1644267600000,996580.35],[1644354000000,996961.46],[1644440400000,997250.63],[1644526800000,995840.37],[1644613200000,995107.35],[1644872400000,994478.71],[1644958800000,995092.70],[1645045200000,994910.98],[1645131600000,993786.66],[1645218000000,993604.96],[1645563600000,993243.37],[1645650000000,993243.37],[1645736400000,993243.37],[1645822800000,993243.37],[1646082000000,993243.37]],\"lineStyle\":{\"width\":1},\"showSymbol\":false}]};;\n",
       "            option && myChart.setOption(option);\n",
       "            elem.ondblclick = function () { myChart.resize() }; \n",
       "        }\n",
       "        call_echarts(fn)        \n",
       "    })()\n",
       "</script>"
      ]
     },
     "execution_count": 3,
     "metadata": {},
     "output_type": "execute_result"
    }
   ],
   "source": [
    "val data = logger.getMetric(\"account.equity\")\n",
    "MetricChart(data)"
   ]
  },
  {
   "cell_type": "code",
   "execution_count": 4,
   "metadata": {},
   "outputs": [
    {
     "data": {
      "text/html": [
       "<div style=\"width:100%;height:500px;\" class=\"rqcharts\"></div>\n",
       "\n",
       "<script type=\"text/javascript\">\n",
       "    (function () {\n",
       "        let elem = document.currentScript.previousElementSibling;\n",
       "        let fn = function(a) {\n",
       "            let theme = document.body.dataset.jpThemeLight == 'false' ? 'dark' : 'light';\n",
       "            let myChart = echarts.init(elem, theme);\n",
       "            let option = {\"backgroundColor\":\"rgba(0,0,0,0)\",\"title\":{\"text\":\"Metric: account equity\"},\"grid\":{\"right\":\"3%\",\"left\":\"3%\",\"containLabel\":true},\"xAxis\":[{\"type\":\"category\",\"data\":[\"2021-08\",\"2021-09\",\"2021-10\",\"2021-11\",\"2021-12\",\"2022-01\",\"2022-02\"]}],\"yAxis\":[{\"type\":\"value\"}],\"toolbox\":{\"feature\":{\"saveAsImage\":{},\"dataView\":{\"readOnly\":true},\"dataZoom\":{\"yAxisIndex\":\"none\"},\"restore\":{}}},\"tooltip\":{\"trigger\":\"axis\"},\"dataZoom\":{},\"series\":[{\"type\":\"boxplot\",\"name\":\"account equity\",\"data\":[[0.0,0.0,0.0,0.0,0.0],[-0.027679038,0.0,0.0,0.0,0.0],[-0.19526053,-0.042496415,-0.0042191693,0.033584854,0.10787410],[-0.10616108,-0.017406004,0.0099229761,0.035917764,0.11244212],[-0.073093883,-0.039093915,0.0056151305,0.058631538,0.12594616],[-0.18796806,-0.12761525,-0.031694776,0.022840771,0.35970539],[-0.14141480,-0.036392411,0.0,0.015454227,0.061739884]]}]};;\n",
       "            option && myChart.setOption(option);\n",
       "            elem.ondblclick = function () { myChart.resize() }; \n",
       "        }\n",
       "        call_echarts(fn)        \n",
       "    })()\n",
       "</script>"
      ]
     },
     "execution_count": 4,
     "metadata": {},
     "output_type": "execute_result"
    }
   ],
   "source": [
    "MetricBoxChart(data.perc())"
   ]
  },
  {
   "cell_type": "code",
   "execution_count": 5,
   "metadata": {},
   "outputs": [
    {
     "data": {
      "text/html": [
       "<div style=\"width:100%;height:500px;\" class=\"rqcharts\"></div>\n",
       "\n",
       "<script type=\"text/javascript\">\n",
       "    (function () {\n",
       "        let elem = document.currentScript.previousElementSibling;\n",
       "        let fn = function(a) {\n",
       "            let theme = document.body.dataset.jpThemeLight == 'false' ? 'dark' : 'light';\n",
       "            let myChart = echarts.init(elem, theme);\n",
       "            let option = {\"backgroundColor\":\"rgba(0,0,0,0)\",\"title\":{\"text\":\"Metric: account equity\"},\"grid\":{\"right\":\"3%\",\"left\":\"3%\",\"containLabel\":true},\"xAxis\":[{\"type\":\"category\",\"data\":[\"2021\",\"2022\"]}],\"yAxis\":[{\"type\":\"value\"}],\"toolbox\":{\"feature\":{\"saveAsImage\":{},\"dataView\":{\"readOnly\":true},\"dataZoom\":{\"yAxisIndex\":\"none\"},\"restore\":{}}},\"tooltip\":{\"trigger\":\"axis\"},\"dataZoom\":{},\"series\":[{\"type\":\"boxplot\",\"name\":\"account equity\",\"data\":[[-1953.0600,-465.56900,0.0,590.86900,1258.9800],[-1880.8900,-1573.0,-181.71636,613.99000,3606.4800]]}]};;\n",
       "            option && myChart.setOption(option);\n",
       "            elem.ondblclick = function () { myChart.resize() }; \n",
       "        }\n",
       "        call_echarts(fn)        \n",
       "    })()\n",
       "</script>"
      ]
     },
     "execution_count": 5,
     "metadata": {},
     "output_type": "execute_result"
    }
   ],
   "source": [
    "MetricBoxChart(data.diff(), period=ChronoUnit.YEARS, lowPercentile = 10.0, highPercentile = 90.0)"
   ]
  },
  {
   "cell_type": "code",
   "execution_count": 6,
   "metadata": {},
   "outputs": [
    {
     "data": {
      "text/html": [
       "<div style=\"width:100%;height:500px;\" class=\"rqcharts\"></div>\n",
       "\n",
       "<script type=\"text/javascript\">\n",
       "    (function () {\n",
       "        let elem = document.currentScript.previousElementSibling;\n",
       "        let fn = function(a) {\n",
       "            let theme = document.body.dataset.jpThemeLight == 'false' ? 'dark' : 'light';\n",
       "            let myChart = echarts.init(elem, theme);\n",
       "            let option = {\"backgroundColor\":\"rgba(0,0,0,0)\",\"title\":{\"text\":\"Metric: account equity\"},\"grid\":{\"right\":\"3%\",\"left\":\"3%\",\"containLabel\":true},\"xAxis\":[{\"type\":\"category\",\"axisTick\":{\"alignWithLabel\":true},\"data\":[\"-1582.42\",\"-1211.79\",\"-841.15\",\"-470.52\",\"-99.88\",\"270.76\",\"641.39\",\"1012.03\",\"1382.66\",\"1753.30\",\"2123.94\",\"2494.57\",\"2865.21\",\"3235.84\",\"3606.48\"]}],\"yAxis\":[{\"type\":\"value\",\"scale\":true}],\"toolbox\":{\"feature\":{\"saveAsImage\":{},\"dataView\":{\"readOnly\":true},\"dataZoom\":{\"yAxisIndex\":\"none\"},\"magicType\":{\"type\":[\"line\",\"bar\"]},\"restore\":{}}},\"tooltip\":{\"trigger\":\"axis\"},\"dataZoom\":{},\"series\":[{\"type\":\"bar\",\"name\":\"account equity\",\"data\":[4,3,4,12,26,66,17,8,4,0,0,0,0,0,1],\"barWidth\":\"70%\",\"label\":{\"show\":true}}]};;\n",
       "            option && myChart.setOption(option);\n",
       "            elem.ondblclick = function () { myChart.resize() }; \n",
       "        }\n",
       "        call_echarts(fn)        \n",
       "    })()\n",
       "</script>"
      ]
     },
     "execution_count": 6,
     "metadata": {},
     "output_type": "execute_result"
    }
   ],
   "source": [
    "MetricHistogram(data.diff(), 15)"
   ]
  },
  {
   "cell_type": "code",
   "execution_count": 7,
   "metadata": {
    "tags": []
   },
   "outputs": [
    {
     "data": {
      "text/html": [
       "<div style=\"width:100%;height:500px;\" class=\"rqcharts\"></div>\n",
       "\n",
       "<script type=\"text/javascript\">\n",
       "    (function () {\n",
       "        let elem = document.currentScript.previousElementSibling;\n",
       "        let fn = function(a) {\n",
       "            let theme = document.body.dataset.jpThemeLight == 'false' ? 'dark' : 'light';\n",
       "            let myChart = echarts.init(elem, theme);\n",
       "            let option = {\"backgroundColor\":\"rgba(0,0,0,0)\",\"title\":{\"text\":\"Daily results account equity\"},\"grid\":{\"right\":\"3%\",\"left\":\"3%\",\"containLabel\":true},\"calendar\":[{\"top\":100,\"range\":2021,\"cellSize\":[\"auto\",20],\"right\":10},{\"top\":300,\"range\":2022,\"cellSize\":[\"auto\",20],\"right\":10}],\"toolbox\":{\"feature\":{\"saveAsImage\":{},\"restore\":{},\"dataView\":{\"readOnly\":true}}},\"tooltip\":{\"formatter\":\"var f \\u003d echarts.format.formatTime(\\u0027yyyy-MM-dd\\u0027, p.data[0]);return f + \\u0027: \\u0027 + p.data[1];\",\"position\":\"top\"},\"visualMap\":{\"top\":\"top\",\"left\":\"center\",\"min\":-1953.0599999999395,\"max\":3606.4799999999814,\"orient\":\"horizontal\",\"color\":[\"#0C0\",\"#CC0\",\"#C00\"],\"calculable\":true},\"series\":[{\"type\":\"heatmap\",\"data\":[[\"2021-08-03\",0.00],[\"2021-08-04\",0.00],[\"2021-08-05\",0.00],[\"2021-08-06\",0.00],[\"2021-08-09\",0.00],[\"2021-08-10\",0.00],[\"2021-08-11\",0.00],[\"2021-08-12\",0.00],[\"2021-08-13\",0.00],[\"2021-08-16\",0.00],[\"2021-08-17\",0.00],[\"2021-08-18\",0.00],[\"2021-08-19\",0.00],[\"2021-08-20\",0.00],[\"2021-08-23\",0.00],[\"2021-08-24\",0.00],[\"2021-08-25\",0.00],[\"2021-08-26\",0.00],[\"2021-08-27\",0.00],[\"2021-08-30\",0.00],[\"2021-08-31\",0.00],[\"2021-09-01\",0.00],[\"2021-09-02\",0.00],[\"2021-09-03\",0.00],[\"2021-09-07\",0.00],[\"2021-09-08\",0.00],[\"2021-09-09\",0.00],[\"2021-09-10\",0.00],[\"2021-09-13\",0.00],[\"2021-09-14\",0.00],[\"2021-09-15\",0.00],[\"2021-09-16\",0.00],[\"2021-09-17\",0.00],[\"2021-09-20\",0.00],[\"2021-09-21\",0.00],[\"2021-09-22\",0.00],[\"2021-09-23\",0.00],[\"2021-09-24\",0.00],[\"2021-09-27\",-20.42],[\"2021-09-28\",-109.47],[\"2021-09-29\",-15.99],[\"2021-09-30\",-276.75],[\"2021-10-01\",420.66],[\"2021-10-04\",-42.19],[\"2021-10-05\",199.38],[\"2021-10-06\",-64.29],[\"2021-10-07\",54.06],[\"2021-10-08\",211.98],[\"2021-10-11\",-550.32],[\"2021-10-12\",-429.57],[\"2021-10-13\",-495.39],[\"2021-10-14\",669.00],[\"2021-10-15\",556.83],[\"2021-10-18\",-326.04],[\"2021-10-19\",200.52],[\"2021-10-20\",250.85],[\"2021-10-21\",-1953.06],[\"2021-10-22\",-316.44],[\"2021-10-25\",-185.87],[\"2021-10-26\",425.52],[\"2021-10-27\",-419.52],[\"2021-10-28\",1076.35],[\"2021-10-29\",-796.92],[\"2021-11-01\",-394.39],[\"2021-11-02\",196.59],[\"2021-11-03\",559.14],[\"2021-11-04\",99.07],[\"2021-11-05\",110.68],[\"2021-11-08\",-205.30],[\"2021-11-09\",284.46],[\"2021-11-10\",-681.87],[\"2021-11-11\",-75.36],[\"2021-11-12\",668.94],[\"2021-11-15\",47.29],[\"2021-11-16\",-142.35],[\"2021-11-17\",317.25],[\"2021-11-18\",1123.12],[\"2021-11-19\",258.99],[\"2021-11-22\",-457.49],[\"2021-11-23\",89.22],[\"2021-11-24\",72.34],[\"2021-11-26\",-1061.54],[\"2021-11-29\",741.24],[\"2021-11-30\",400.48],[\"2021-12-01\",-387.24],[\"2021-12-02\",-166.13],[\"2021-12-03\",-493.21],[\"2021-12-06\",650.74],[\"2021-12-07\",1258.98],[\"2021-12-08\",518.05],[\"2021-12-09\",-267.86],[\"2021-12-10\",434.61],[\"2021-12-13\",-402.68],[\"2021-12-14\",-31.24],[\"2021-12-15\",763.01],[\"2021-12-16\",-732.32],[\"2021-12-17\",-484.42],[\"2021-12-20\",-297.55],[\"2021-12-21\",675.54],[\"2021-12-22\",565.21],[\"2021-12-23\",266.08],[\"2021-12-27\",869.43],[\"2021-12-28\",106.90],[\"2021-12-29\",272.61],[\"2021-12-30\",5.71],[\"2021-12-31\",-517.17]],\"coordinateSystem\":\"calendar\",\"calendarIndex\":0},{\"type\":\"heatmap\",\"data\":[[\"2022-01-03\",3606.48],[\"2022-01-04\",-945.09],[\"2022-01-05\",-1573.00],[\"2022-01-06\",-1367.47],[\"2022-01-07\",-260.85],[\"2022-01-10\",512.26],[\"2022-01-11\",-52.57],[\"2022-01-12\",869.95],[\"2022-01-13\",-1747.78],[\"2022-01-14\",-1019.04],[\"2022-01-18\",-1880.89],[\"2022-01-19\",-1670.49],[\"2022-01-20\",-691.21],[\"2022-01-21\",-584.64],[\"2022-01-24\",-333.42],[\"2022-01-25\",1179.36],[\"2022-01-26\",-298.08],[\"2022-01-27\",-281.88],[\"2022-01-28\",320.76],[\"2022-01-31\",-170.65],[\"2022-02-01\",153.96],[\"2022-02-02\",497.88],[\"2022-02-03\",84.70],[\"2022-02-04\",-252.96],[\"2022-02-07\",-135.49],[\"2022-02-08\",381.11],[\"2022-02-09\",289.17],[\"2022-02-10\",-1410.26],[\"2022-02-11\",-733.02],[\"2022-02-14\",-628.64],[\"2022-02-15\",613.99],[\"2022-02-16\",-181.72],[\"2022-02-17\",-1124.32],[\"2022-02-18\",-181.70],[\"2022-02-22\",-361.60],[\"2022-02-23\",0.00],[\"2022-02-24\",0.00],[\"2022-02-25\",0.00],[\"2022-02-28\",0.00]],\"coordinateSystem\":\"calendar\",\"calendarIndex\":1}]};option && (option.tooltip.formatter = new Function(\"p\", option.tooltip.formatter));;\n",
       "            option && myChart.setOption(option);\n",
       "            elem.ondblclick = function () { myChart.resize() }; \n",
       "        }\n",
       "        call_echarts(fn)        \n",
       "    })()\n",
       "</script>"
      ]
     },
     "execution_count": 7,
     "metadata": {},
     "output_type": "execute_result"
    }
   ],
   "source": [
    "CalendarChart(data.diff())"
   ]
  },
  {
   "cell_type": "code",
   "execution_count": null,
   "metadata": {},
   "outputs": [],
   "source": []
  }
 ],
 "metadata": {
  "kernelspec": {
   "display_name": "Kotlin",
   "language": "kotlin",
   "name": "kotlin"
  },
  "language_info": {
   "codemirror_mode": "text/x-kotlin",
   "file_extension": ".kt",
   "mimetype": "text/x-kotlin",
   "name": "kotlin",
   "nbconvert_exporter": "",
   "pygments_lexer": "kotlin",
   "version": "1.7.20-dev-1299"
  }
 },
 "nbformat": 4,
 "nbformat_minor": 4
}
