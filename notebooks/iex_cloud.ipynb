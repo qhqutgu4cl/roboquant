{
 "cells": [
  {
   "cell_type": "code",
   "execution_count": null,
   "id": "0d8f5bdd-4f73-426c-96fc-59e82c1659b8",
   "metadata": {},
   "outputs": [],
   "source": [
    "%use roboquant\n",
    "Welcome()"
   ]
  },
  {
   "cell_type": "markdown",
   "id": "0e081d58-4b0c-4a1f-87db-db3bc8391674",
   "metadata": {},
   "source": [
    "# Roboquant\n",
    "\n",
    "Roboquant is framework for algoritmic trading written in Kotlin. It is fast, flexible and tries to be easy to use. It is aimed at serious retail traders as well as smaller prop shops. Some key features include:\n",
    "\n",
    "...\n",
    "\n",
    "\n",
    "\n",
    "**Warning**: right now roboquant is still in beta phase. So we recommend to be carefull when using the IEX Cloud real data API if you treasure your credits. A small bug in roboquant or your own code can quickly burn a lot of credits.\n",
    "\n"
   ]
  },
  {
   "cell_type": "markdown",
   "id": "fecc8475-e846-4c3d-8d24-c43e29974b77",
   "metadata": {},
   "source": [
    "# Feed\n",
    "We start with setting up the data we want to use for our back-test. In this case we are going to use historic price data from IEX Cloud. By default the IEXFeed uses the sandbox environment. This is a good option for testing if the setup works as expected since any API calls don't cost you credits. However the data returned is randomized, so not very useful for real use-cases. But for this sample notebook it is sufficient.\n"
   ]
  },
  {
   "cell_type": "code",
   "execution_count": null,
   "id": "34b411f5-13f1-4abb-b2ce-5a341a610a85",
   "metadata": {},
   "outputs": [],
   "source": [
    "import org.roboquant.feeds.iex.*"
   ]
  },
  {
   "cell_type": "code",
   "execution_count": null,
   "id": "6bebf578-0517-4934-99d2-ac041093f33c",
   "metadata": {},
   "outputs": [],
   "source": [
    "val publishableToken = Config.getProperty(\"IEX_PUBLISHABLE_TOKEN\")!!\n",
    "val feed = IEXFeed(publishableToken)\n",
    "\n",
    "// If you want to use the real data API, make sure that you use the correct token and then invoke\n",
    "// val feed = IEXFeed(publishableToken, sandbox=false)"
   ]
  },
  {
   "cell_type": "markdown",
   "id": "6dda3cc1-70a5-4955-8184-29112132fc0c",
   "metadata": {},
   "source": [
    "# Getting the data\n",
    "Now we are going to retrieve the prices for the assets we are interested in for our back-test.  The retrievePriceBar method also allows specify a time range you want to get the data from. Options include: max, today, 1d, 5d, 5dm, 1m, 1mm, 3m, 6m, ytd, 1y, 2y, 5y. But we go with the default that is 5 years of historic data.\n",
    "\n",
    "After we have called the retreivePriceBar method the resulting pricebars are stored in local memory. So there remaining code doesn't call the API again and no additional credits are wasted."
   ]
  },
  {
   "cell_type": "code",
   "execution_count": null,
   "id": "cd94f910-6105-4f33-b20a-895dd0dd3b8d",
   "metadata": {},
   "outputs": [],
   "source": [
    "feed.retrievePriceBar(\"AAPL\", \"IBM\", \"FB\")"
   ]
  },
  {
   "cell_type": "markdown",
   "id": "86e783d2-3cdf-40ad-80d3-7858091c3da4",
   "metadata": {},
   "source": [
    "# Lets inspect what prices we retrieved.\n",
    "Please note that if you used the sandbox environment this won't be the real prices for the last five years.  "
   ]
  },
  {
   "cell_type": "code",
   "execution_count": null,
   "id": "1789fe5a-386a-42b4-bf82-1a7584ed180b",
   "metadata": {},
   "outputs": [],
   "source": [
    "CandlestickChart.fromFeed(feed, feed.assets.first())"
   ]
  },
  {
   "cell_type": "markdown",
   "id": "c334ddec-c3af-4cac-b79f-2c6e910e1a87",
   "metadata": {},
   "source": [
    "# Run the Back Test\n",
    "We are now ready to run the back test. Roboquant is optimized to process large amount of data, so 5 year of data for just two assets doesn't take long. On a modern CPU the test is run in less than 1 second."
   ]
  },
  {
   "cell_type": "code",
   "execution_count": null,
   "id": "336285c4-8e06-4a08-bb59-765fa1b4baf1",
   "metadata": {},
   "outputs": [],
   "source": [
    "val strategy = EMACrossover(10, 30)\n",
    "val metric = AccountSummary()\n",
    "val roboquant =  Roboquant(strategy, metric)"
   ]
  },
  {
   "cell_type": "code",
   "execution_count": null,
   "id": "34b22ee8-71f4-453b-a08a-5dd4178ce954",
   "metadata": {},
   "outputs": [],
   "source": [
    "roboquant.run(feed)"
   ]
  },
  {
   "cell_type": "code",
   "execution_count": null,
   "id": "b643a4d3-ca95-4adb-85c1-1427f7a9dcf6",
   "metadata": {},
   "outputs": [],
   "source": [
    "val account = roboquant.broker.account\n",
    "account.summary()"
   ]
  },
  {
   "cell_type": "code",
   "execution_count": null,
   "id": "1145e0bc-4ac0-4bfd-915b-8b62b0f09cbe",
   "metadata": {},
   "outputs": [],
   "source": [
    "account.trades.summary()"
   ]
  },
  {
   "cell_type": "code",
   "execution_count": null,
   "id": "d6314f02-fe19-4af1-be80-3d1b33237190",
   "metadata": {},
   "outputs": [],
   "source": [
    "TradeChart(account.trades)"
   ]
  },
  {
   "cell_type": "markdown",
   "id": "48c8507e-807c-49a0-9596-0c100d681e60",
   "metadata": {},
   "source": [
    "# Saving API calls (and credits)\n",
    "\n",
    "If you want to continue at a later time and call it a day, you can save the feed to an Avro file and later use this file to re-create the feed. This will save you credits since you don't have to call the APIs again and even enable you to work offline if desired.\n",
    "\n",
    "Alternatively you could also use [Cloud Cache](https://iexcloud.io/cloud-cache/) that is offered as a service by IEX Cloud."
   ]
  },
  {
   "cell_type": "code",
   "execution_count": null,
   "id": "100d0380-dd1e-427e-b0b1-130ce01f5085",
   "metadata": {},
   "outputs": [],
   "source": [
    "val gen = AvroGenerator()\n",
    "gen.capture(feed, \"iexcloud.avro\")"
   ]
  },
  {
   "cell_type": "markdown",
   "id": "28ae1d75-13c4-4835-be22-7d1a7c4bb40a",
   "metadata": {},
   "source": [
    "Then at a later stage you can easily re-create the feed by using the AvroFeed with the saved file "
   ]
  },
  {
   "cell_type": "code",
   "execution_count": null,
   "id": "6808bd0e-1a88-40e9-b507-0b7417e05375",
   "metadata": {},
   "outputs": [],
   "source": [
    "val feed = AvroFeed(\"iexcloud.avro\")"
   ]
  },
  {
   "cell_type": "code",
   "execution_count": null,
   "id": "d80bbcbb-948d-4a02-9d24-616cc0574216",
   "metadata": {},
   "outputs": [],
   "source": [
    "feed.assets"
   ]
  },
  {
   "cell_type": "markdown",
   "id": "2bd88ce7-e47e-4c3d-b50c-06c24d681652",
   "metadata": {},
   "source": [
    "# Thanks\n",
    "Under the hood roboquant uses the [IEXTrading4J](https://github.com/WojciechZankowski/iextrading4j) library to interact with IEX Cloud. This is a great and solid library with many features and I highly recommend to check it out. "
   ]
  },
  {
   "cell_type": "code",
   "execution_count": null,
   "id": "a2815507-66a8-492b-8c85-d97775b1747f",
   "metadata": {},
   "outputs": [],
   "source": []
  }
 ],
 "metadata": {
  "kernelspec": {
   "display_name": "Kotlin",
   "language": "kotlin",
   "name": "kotlin"
  },
  "language_info": {
   "codemirror_mode": "text/x-kotlin",
   "file_extension": ".kt",
   "mimetype": "text/x-kotlin",
   "name": "kotlin",
   "nbconvert_exporter": "",
   "pygments_lexer": "kotlin",
   "version": "1.6.0-dev-3567"
  }
 },
 "nbformat": 4,
 "nbformat_minor": 5
}
