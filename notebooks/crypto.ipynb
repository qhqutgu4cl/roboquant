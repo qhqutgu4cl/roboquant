{
 "cells": [
  {
   "cell_type": "markdown",
   "metadata": {},
   "source": [
    "# Introduction\n",
    "This notebook shows how to connect to a crypto exchange and receive a trade feed from it. We then start the run using this trade feed. This notebook use the XChange feed, which based on the nice XChange Java library that contains connectivity to many of crypto exchanges.\n",
    "\n",
    "Besides this generic feed, roboquant also has dedicated support for binance. For that please check binance notebook."
   ]
  },
  {
   "cell_type": "code",
   "execution_count": null,
   "metadata": {},
   "outputs": [],
   "source": [
    "%use roboquant\n",
    "Welcome()"
   ]
  },
  {
   "cell_type": "markdown",
   "metadata": {},
   "source": [
    "# Extra libraries\n",
    "Roboquant includes the base classes for crypto exchange feeds and trading. So if we want to connect to real exchanges, we'll need to\n",
    "\n",
    "1. Load the exchange specific libraries, like bitstamp in this example.\n",
    "2. Import the packages for the exchange we want to connect to.\n",
    "\n",
    "Check the XChange website for more details on all the available exchanges. In this example we use Bitstamp"
   ]
  },
  {
   "cell_type": "code",
   "execution_count": null,
   "metadata": {},
   "outputs": [],
   "source": [
    "@file:DependsOn(\"org.knowm.xchange:xchange-bitstamp:5.0.6\")\n",
    "@file:DependsOn(\"org.knowm.xchange:xchange-stream-bitstamp:5.0.6\")\n",
    "\n",
    "import org.roboquant.xchange.*\n",
    "import info.bitrich.xchangestream.bitstamp.v2.BitstampStreamingExchange\n",
    "import info.bitrich.xchangestream.core.StreamingExchangeFactory"
   ]
  },
  {
   "cell_type": "markdown",
   "metadata": {},
   "source": [
    "# Setup\n",
    "We now create, as usual, the strategy we want to test. There is nothing specific to crypto trading that needs to be taken care of."
   ]
  },
  {
   "cell_type": "code",
   "execution_count": null,
   "metadata": {},
   "outputs": [],
   "source": [
    " val strategy = TAStrategy(12)\n",
    "\n",
    "strategy.buy { \n",
    "    (ta.cdlMorningStar(it) || ta.cdlMorningDojiStar(it)) && ta.ema(it.close, 5) > ta.ema(it.close, 9)\n",
    "}\n",
    "\n",
    "strategy.sell { \n",
    "    ta.cdl2Crows(it) && ta.ema(it.close, 3) < ta.ema(it.close, 7)\n",
    "}\n"
   ]
  },
  {
   "cell_type": "markdown",
   "metadata": {},
   "source": [
    "# Feed\n",
    "Now we create an instance of the Bitstamp exchange and connect to it. Then we are fine to use it as a feed and subscribe to one or more currency pairs. We subscribe to ticker info since it contains the OHLC pricing info we need for our strategy."
   ]
  },
  {
   "cell_type": "code",
   "execution_count": null,
   "metadata": {},
   "outputs": [],
   "source": [
    "val exchange = StreamingExchangeFactory.INSTANCE.createExchange(BitstampStreamingExchange::class.java)\n",
    "exchange.connect().blockingAwait()\n",
    "\n",
    "val feed = XChangeFeed(exchange)\n",
    "feed.subscribeTicker(Pair(\"BTC\", \"USD\"))"
   ]
  },
  {
   "cell_type": "code",
   "execution_count": null,
   "metadata": {},
   "outputs": [],
   "source": [
    "val roboquant =  Roboquant(strategy, AccountSummary(), ProgressMetric())"
   ]
  },
  {
   "cell_type": "markdown",
   "metadata": {},
   "source": [
    "# Live Test\n",
    "All that remains, is to start run to roboquant and evaluate the strategy against the feed. We'll run it for 10 minutes. If the time displayed looks funny, don't forget that roboquant uses a timezone independent representation for all internal time processing and not your local timezone."
   ]
  },
  {
   "cell_type": "code",
   "execution_count": null,
   "metadata": {},
   "outputs": [],
   "source": [
    "val timeFrame = TimeFrame.nextMinutes(10)\n",
    "roboquant.run(feed, timeFrame)"
   ]
  },
  {
   "cell_type": "markdown",
   "metadata": {},
   "source": [
    "# Disconnect\n",
    "And we disconnect from the exchnage"
   ]
  },
  {
   "cell_type": "code",
   "execution_count": null,
   "metadata": {},
   "outputs": [],
   "source": [
    "exchange.disconnect().blockingAwait()"
   ]
  },
  {
   "cell_type": "code",
   "execution_count": null,
   "metadata": {},
   "outputs": [],
   "source": [
    "roboquant.broker.account.summary()"
   ]
  },
  {
   "cell_type": "code",
   "execution_count": null,
   "metadata": {},
   "outputs": [],
   "source": [
    "roboquant.logger.summary()"
   ]
  },
  {
   "cell_type": "code",
   "execution_count": null,
   "metadata": {},
   "outputs": [],
   "source": []
  },
  {
   "cell_type": "code",
   "execution_count": null,
   "metadata": {},
   "outputs": [],
   "source": []
  },
  {
   "cell_type": "code",
   "execution_count": null,
   "metadata": {},
   "outputs": [],
   "source": []
  }
 ],
 "metadata": {
  "kernelspec": {
   "display_name": "Kotlin",
   "language": "kotlin",
   "name": "kotlin"
  },
  "language_info": {
   "codemirror_mode": "text/x-kotlin",
   "file_extension": ".kt",
   "mimetype": "text/x-kotlin",
   "name": "kotlin",
   "nbconvert_exporter": "",
   "pygments_lexer": "kotlin",
   "version": "1.6.0-dev-3567"
  }
 },
 "nbformat": 4,
 "nbformat_minor": 4
}
