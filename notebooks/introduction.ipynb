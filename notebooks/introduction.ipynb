{
 "cells": [
  {
   "cell_type": "markdown",
   "metadata": {},
   "source": [
    "# Roboquant\n",
    "\n",
    "Roboquant is a framework written in Kotlin for algoritmic trading. It enables robust back-testing and live trading in a fully automatic way. As an algo-trader, you can use roboquant in two ways:\n",
    "\n",
    "- In a Jupyter Notebook \n",
    "- As a standalone library in your IDE of choice\n",
    "\n",
    "Both share exactly the same code-base, so there is no difference how your strategies behave.\n",
    "\n",
    "The Notebook approach is a great to quickly be up and running and have a more iterative approach to developing new trading strategies. It comes also with some charts that visualize how your strategy is poerformning.\n",
    "\n",
    "And as your strategy grows, you might benefit from the power of a full-fledged IDE like IDEA.\n",
    "\n"
   ]
  },
  {
   "cell_type": "code",
   "execution_count": null,
   "metadata": {},
   "outputs": [],
   "source": [
    "%use roboquant\n",
    "Welcome()"
   ]
  },
  {
   "cell_type": "markdown",
   "metadata": {},
   "source": [
    "# Define an Roboquant\n",
    "An Roboquant is the engine. It ties all the components that make-up a back-test together and runs the actual tests. \n",
    "\n",
    "There several sensible default parameters for a roboquant, so the two main ingredients you need to add are:\n",
    "\n",
    "1. The strategy we want to test. For this example we use a Exponential Moving Average Crossover with its default settings. This comes out-of-the-box with roboquant.\n",
    "2. Any metrics we want to captured to see how our strategy is performing, like an AccountSummary."
   ]
  },
  {
   "cell_type": "code",
   "execution_count": null,
   "metadata": {},
   "outputs": [],
   "source": [
    "val strategy = EMACrossover()\n",
    "val roboquant =  Roboquant(strategy, AccountSummary())"
   ]
  },
  {
   "cell_type": "markdown",
   "metadata": {},
   "source": [
    "# Feed & Run\n",
    "Now we define the data feed we want to use for the run and we are ready to go There are many types of data feeds supported, ranging from simple CSV files to online data providers.\n",
    "\n",
    "When you start a run, by default a progress bar is shown that provides visual feedback how long the run might take."
   ]
  },
  {
   "cell_type": "code",
   "execution_count": null,
   "metadata": {},
   "outputs": [],
   "source": [
    "val feed = AvroFeed.sp500()\n",
    "roboquant.run(feed)"
   ]
  },
  {
   "cell_type": "markdown",
   "metadata": {},
   "source": [
    "# Examine Results\n",
    "\n",
    "Likely the first thing you want to know after the run has finished is how does the account look like. An account contains: \n",
    "\n",
    "- the cash balances\n",
    "- the portfolio with its positions\n",
    "- the orders, both open and closed orders\n",
    "- any trades made, so orders that have been (partially) filled\n",
    "\n",
    "Please note the use of the *summary()* method. Many classes in roboquant support this method and it provides a nice summary of the state on an object, like in this case the account object."
   ]
  },
  {
   "cell_type": "code",
   "execution_count": null,
   "metadata": {},
   "outputs": [],
   "source": [
    "val account = roboquant.broker.account\n",
    "account.summary()"
   ]
  },
  {
   "cell_type": "code",
   "execution_count": null,
   "metadata": {},
   "outputs": [],
   "source": [
    "// You can also get more details, for example about the portfolio\n",
    "account.portfolio.summary()"
   ]
  },
  {
   "cell_type": "code",
   "execution_count": null,
   "metadata": {},
   "outputs": [],
   "source": [
    "account.orders.summary()"
   ]
  },
  {
   "cell_type": "code",
   "execution_count": null,
   "metadata": {},
   "outputs": [],
   "source": [
    "val trades = account.trades\n",
    "trades[0..10].summary()"
   ]
  },
  {
   "cell_type": "markdown",
   "metadata": {},
   "source": [
    "# Metric result\n",
    "The account contains the state at the end of the run. Metrics are more powerful."
   ]
  },
  {
   "cell_type": "code",
   "execution_count": null,
   "metadata": {},
   "outputs": [],
   "source": [
    "roboquant.logger.summary(2)"
   ]
  },
  {
   "cell_type": "code",
   "execution_count": null,
   "metadata": {},
   "outputs": [],
   "source": [
    "roboquant.logger.getMetric(\"account.value\").summary()"
   ]
  },
  {
   "cell_type": "markdown",
   "metadata": {},
   "source": [
    "# More detailed results\n",
    "\n",
    "After a quick scan of the results, you might want to dive into some more details. For example how much profit or loss did the strategy make on Apple?"
   ]
  },
  {
   "cell_type": "code",
   "execution_count": null,
   "metadata": {},
   "outputs": [],
   "source": [
    "val apple = trades.assets.findBySymbol(\"AAPL\")\n",
    "trades.realizedPnL(apple)"
   ]
  },
  {
   "cell_type": "markdown",
   "metadata": {},
   "source": [
    "Or how much profit did we make in each year?"
   ]
  },
  {
   "cell_type": "code",
   "execution_count": null,
   "metadata": {},
   "outputs": [],
   "source": [
    "trades.timeline.split(Period.ofYears(1)).forEach {\n",
    "    val pnl = trades.realizedPnL(it)\n",
    "    println(\"$it profit: $pnl\")\n",
    "}"
   ]
  },
  {
   "cell_type": "code",
   "execution_count": null,
   "metadata": {},
   "outputs": [],
   "source": []
  }
 ],
 "metadata": {
  "kernelspec": {
   "display_name": "Kotlin",
   "language": "kotlin",
   "name": "kotlin"
  },
  "language_info": {
   "codemirror_mode": "text/x-kotlin",
   "file_extension": ".kt",
   "mimetype": "text/x-kotlin",
   "name": "kotlin",
   "nbconvert_exporter": "",
   "pygments_lexer": "kotlin",
   "version": "1.6.0-dev-3567"
  }
 },
 "nbformat": 4,
 "nbformat_minor": 4
}
