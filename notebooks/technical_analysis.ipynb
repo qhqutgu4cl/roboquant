{
 "cells": [
  {
   "cell_type": "markdown",
   "metadata": {},
   "source": [
    "# Technical analysis\n",
    "Roboquant comes out of box with support for 200 technical indicators. These are indicators ranging findicators such as ADX, MACD, RSI, Stochastic, Bollinger Bands to Candlestick pattern recognition. The underlying library that is used is the excellent TA-Lib. TA-Lib can be difficult to use, but roboquant wraps these indicators in a convenient layer, so they are very easy to use in strategies."
   ]
  },
  {
   "cell_type": "code",
   "execution_count": null,
   "metadata": {},
   "outputs": [],
   "source": [
    "%use roboquant\n",
    "Welcome()"
   ]
  },
  {
   "cell_type": "markdown",
   "metadata": {},
   "source": [
    "# Define the strategy\n",
    "We start by defining the actual strategy. There are three essestial steps:\n",
    "\n",
    "1) Create an instance of TAStrategy and define how many days it should collect data. If you choose this period too low, certain indicacators will fail. For example if you want a moving average over 11 days, the days should be at least 11. if you choose it too large, it will take longer before your strategy starts to generate signals.\n",
    "\n",
    "2) Define what you want to use for generating BUY signals. This can be a combination of indicators and you can also include regular Kotlin code. The only restriction is that the last statement return a boolean; true if you want to BUY, false otherwise.\n",
    "\n",
    "3) Define what you want to use for generating SELL signals. The same rules and conditions apply as for the BUY method.\n",
    "\n",
    "Please note, that although not common best practice, the framework doesn't stop you from using bullish indicators to generate a SELL signal and bearish indicators to generate a BUY signal. "
   ]
  },
  {
   "cell_type": "code",
   "execution_count": null,
   "metadata": {},
   "outputs": [],
   "source": [
    "// Define a strategy with maximum of 15 days of history. It is important that these are enough days to calculate the various indicators.\n",
    "val strategy = TAStrategy(15)\n",
    "\n",
    "// We want to generate a BUY signal if we detect a candlestick pattern called Morningstar or 3WhiteSoldiers\n",
    "strategy.buy {\n",
    "    ta.cdlMorningStar(it) || ta.cdl3WhiteSoldiers(it)\n",
    "}\n",
    "\n",
    "// We want to generate a SELL signal if we detect a candlestick pattern called Two Crows and also see that the 5 day weighted average is below the 9 day close\n",
    "strategy.sell {\n",
    "    ta.cdl2Crows(it) && ta.ema(it.close, 5) < ta.ema(it.close, 9)\n",
    "}\n"
   ]
  },
  {
   "cell_type": "markdown",
   "metadata": {},
   "source": [
    "# Create and run the back test\n",
    "Now we can use this strategy just like any other strategy. In this case we use the CSV files for US stocks that come included with this notebook (this is a very small set of stocks) "
   ]
  },
  {
   "cell_type": "code",
   "execution_count": null,
   "metadata": {},
   "outputs": [],
   "source": [
    "val roboquant =  Roboquant(strategy, AccountSummary())\n",
    "\n",
    "val feed = CSVFeed(\"../data/US\")\n",
    "roboquant.run(feed)"
   ]
  },
  {
   "cell_type": "markdown",
   "metadata": {},
   "source": [
    "# Evaluate the results\n",
    "Now lets see what the outcome is. Spoiler alert, this strategy won't make you rich ;) "
   ]
  },
  {
   "cell_type": "code",
   "execution_count": null,
   "metadata": {},
   "outputs": [],
   "source": [
    "roboquant.broker.account.summary()"
   ]
  },
  {
   "cell_type": "code",
   "execution_count": null,
   "metadata": {},
   "outputs": [],
   "source": [
    "roboquant.logger.summary()"
   ]
  },
  {
   "cell_type": "code",
   "execution_count": null,
   "metadata": {},
   "outputs": [],
   "source": []
  }
 ],
 "metadata": {
  "kernelspec": {
   "display_name": "Kotlin",
   "language": "kotlin",
   "name": "kotlin"
  },
  "language_info": {
   "codemirror_mode": "text/x-kotlin",
   "file_extension": ".kt",
   "mimetype": "text/x-kotlin",
   "name": "kotlin",
   "nbconvert_exporter": "",
   "pygments_lexer": "kotlin",
   "version": "1.6.0-dev-3567"
  }
 },
 "nbformat": 4,
 "nbformat_minor": 4
}
