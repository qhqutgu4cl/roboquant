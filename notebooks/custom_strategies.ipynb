{
 "cells": [
  {
   "cell_type": "markdown",
   "metadata": {},
   "source": [
    "# Overview\n",
    "This notebook shows how to create a simple strategy from scratch. "
   ]
  },
  {
   "cell_type": "code",
   "execution_count": null,
   "metadata": {},
   "outputs": [],
   "source": [
    "%use roboquant\n",
    "Welcome()"
   ]
  },
  {
   "cell_type": "markdown",
   "metadata": {},
   "source": [
    "## Werewolf strategy\n",
    "\n",
    "We'll start with creating a very silly but simple strategy that adheres to the following 3 rules: \n",
    "\n",
    "1. If it is a super moon => we buy stocks\n",
    "2. If it is a micro moon => we sell our stocks so we have no more exposure\n",
    "3. Otherwise => we don't do anything.\n",
    "\n",
    "Btw, a supermoon occurs when the moon’s orbit is closest to Earth at the same time it is full. So visually it is a very big moon. \n",
    "\n",
    "The main purpose of this example is obviously not to create a useful strategy that will make you a huge profit. But rather to demonstrate how easy it is to develop your own stategy.\n"
   ]
  },
  {
   "cell_type": "markdown",
   "metadata": {},
   "source": [
    "## Use external libraries\n",
    "We can load any library from external repositories and import the required packages afterwards. If required we can even add repositories to the notebook. In the background the notebook kernel will download the required package and all it declared dependencies. \n",
    "\n",
    "In this case we download the *common-suncalc* package for calculating moon phases."
   ]
  },
  {
   "cell_type": "code",
   "execution_count": null,
   "metadata": {},
   "outputs": [],
   "source": [
    "@file:DependsOn(\"org.shredzone.commons:commons-suncalc:3.4\")\n",
    "import org.shredzone.commons.suncalc.*"
   ]
  },
  {
   "cell_type": "markdown",
   "metadata": {},
   "source": [
    "## Coding our own Strategy\n",
    "\n",
    "We're now ready to develop the custom strategy. In this case we subclass the convenience class *SingleAssetStrategy* that can be used for strategies that are only interested in a single asset at a time. We need to override the method with signature:\n",
    "\n",
    "```kotlin\n",
    "fun generate(priceAction: PriceAction, now: Instant): Signal?\n",
    "```\n",
    "    \n",
    "We get as input the price action for that asset and a timestamp for when the event occured. We return a Signal that indicates if we want to buy or sell that asset. We return *null* if we don't want to do anything."
   ]
  },
  {
   "cell_type": "code",
   "execution_count": null,
   "metadata": {},
   "outputs": [],
   "source": [
    "class WerewolfStrategy(asset: Asset) : SingleAssetStrategy(asset) {\n",
    "\n",
    "    override fun generate(priceAction: PriceAction, now: Instant): Signal? {\n",
    "        val phase = MoonPhase.compute().on(now).execute()\n",
    "        return when {\n",
    "            phase.isSuperMoon -> Signal(asset, Rating.BUY)\n",
    "            phase.isMicroMoon -> Signal(asset, Rating.SELL)\n",
    "            else -> null\n",
    "        }\n",
    "    }\n",
    "    \n",
    "}"
   ]
  },
  {
   "cell_type": "markdown",
   "metadata": {},
   "source": [
    "## Create a new roboquant and evaluate it\n",
    "We are now ready to back-test our strategy. And we decided to test it against Apple stock. So what we need to do is:\n",
    "\n",
    "- Use a data feed that contains historic prices for the Apple stock\n",
    "- Create an instance of our strategy and tell it to use Apple stock\n",
    "- Create an instance of a roboquant and evaluate it against the available data "
   ]
  },
  {
   "cell_type": "code",
   "execution_count": null,
   "metadata": {},
   "outputs": [],
   "source": [
    "val feed = CSVFeed(\"../data/US\")\n",
    "val apple = feed.find(\"AAPL\")\n",
    "val strategy = WerewolfStrategy(apple)\n",
    "val roboquant =  Roboquant(strategy)\n",
    "\n",
    "roboquant.run(feed)"
   ]
  },
  {
   "cell_type": "markdown",
   "metadata": {},
   "source": [
    "## Get some insights\n",
    "Let's start to see how the account looks like after the expirement has run. The account holds the latest state"
   ]
  },
  {
   "cell_type": "code",
   "execution_count": null,
   "metadata": {},
   "outputs": [],
   "source": [
    "val account = roboquant.broker.account\n",
    "account.summary()"
   ]
  },
  {
   "cell_type": "markdown",
   "metadata": {},
   "source": [
    "By default we start a simulated broker account with a default of 1_000_000.00 USD cash. Lets see much realized profit we actually made with out trades:"
   ]
  },
  {
   "cell_type": "code",
   "execution_count": null,
   "metadata": {},
   "outputs": [],
   "source": [
    "account.trades.realizedPnL()"
   ]
  },
  {
   "cell_type": "markdown",
   "metadata": {},
   "source": [
    "## Lessons learned\n",
    "\n",
    "* It is not that hard to develop a new strategy and back-test it. \n",
    "* Even the most silly strategies can **appear** to make a profit if testing is based on unsound assumptions. In this case running our back test solely against Apple stocks and only going long, we were almost sure to make a profit.  "
   ]
  },
  {
   "cell_type": "code",
   "execution_count": null,
   "metadata": {},
   "outputs": [],
   "source": []
  },
  {
   "cell_type": "code",
   "execution_count": null,
   "metadata": {},
   "outputs": [],
   "source": []
  }
 ],
 "metadata": {
  "kernelspec": {
   "display_name": "Kotlin",
   "language": "kotlin",
   "name": "kotlin"
  },
  "language_info": {
   "codemirror_mode": "text/x-kotlin",
   "file_extension": ".kt",
   "mimetype": "text/x-kotlin",
   "name": "kotlin",
   "nbconvert_exporter": "",
   "pygments_lexer": "kotlin",
   "version": "1.6.0-dev-3567"
  }
 },
 "nbformat": 4,
 "nbformat_minor": 4
}
