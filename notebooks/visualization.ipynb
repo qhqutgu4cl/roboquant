{
 "cells": [
  {
   "cell_type": "markdown",
   "metadata": {},
   "source": [
    "# Visualization\n",
    "Roboquant Notebooks come out of the box with support for several types of charts. They will help to better understand what is going on during a run and evaluate the performance of the underlying strategy. \n",
    "\n",
    "Under the hood roboquant leverages the excellent [Apache ECharts](https://echarts.apache.org/en/index.html)  visualization library to render the charts in Notebooks. ECharts was selected because:\n",
    "\n",
    "- it has a very feature rich set of charts\n",
    "- it can handle large data sets\n",
    "- easy to add some interactive behavior like filtering and selection\n",
    "- Apache opensource project and license\n",
    "\n",
    "By default roboquant tries to detect the environment it is running in, either Jupyter-Notebook or Jupyter-Lab. However this detection is not 100% accurate. But you can always invoke *Ouput.lab()* or *Output.notebook()* so roboquant knows the environment and will generate the correct output. "
   ]
  },
  {
   "cell_type": "code",
   "execution_count": null,
   "metadata": {
    "tags": []
   },
   "outputs": [],
   "source": [
    "%use roboquant\n",
    "Welcome()"
   ]
  },
  {
   "cell_type": "markdown",
   "metadata": {
    "tags": []
   },
   "source": [
    "# Price charts\n",
    "\n",
    "A feed represents a stream of events you can use in your strategies. There are several type of feeds supported, like the one for Avro files used here. The file using in this notebook contains 5 years of S&P 500 daily prices (OHLCV).\n",
    "\n",
    "The Avro file format allows to store, access and compress data efficiently and works great for historic prices used in back-testing. This feed implementation also has low memory consumption since it only loads data when required. If you want to find out more about Avro files, check out their [documentation pages](https://avro.apache.org/docs/current/index.html).\n",
    "\n",
    "\n",
    "Roboquant also supports plain CSV files as well as several external sources like Yahoo Finance. More detailed examples can be found in the *Feeds Sample Notebook* and the roboquant documentation."
   ]
  },
  {
   "cell_type": "code",
   "execution_count": null,
   "metadata": {},
   "outputs": [],
   "source": [
    "val feed = AvroFeed.sp500()\n",
    "\n",
    "// Show the first 10 assets in this feed\n",
    "feed.assets.take(10).summary()"
   ]
  },
  {
   "cell_type": "code",
   "execution_count": null,
   "metadata": {},
   "outputs": [],
   "source": [
    "val apple = feed.find(\"AAPL\")\n",
    "PriceChart(feed, apple)"
   ]
  },
  {
   "cell_type": "markdown",
   "metadata": {},
   "source": [
    "## PriceBar Chart\n",
    "Roboqant isn't a technical analysis tool where you draw some support lines in a candlestick chart. But that doesn't mean candlesticks cannot come in handy. For example to validate if the data in a feed is not corrupted or has some other strange anomalies.\n",
    "\n",
    "In this example we'll find Apple stock (symbol name is \"AAPL\") and plot it as a candle-stick chart."
   ]
  },
  {
   "cell_type": "code",
   "execution_count": null,
   "metadata": {
    "tags": []
   },
   "outputs": [],
   "source": [
    "PriceBarChart(feed, apple)"
   ]
  },
  {
   "cell_type": "markdown",
   "metadata": {},
   "source": [
    "# Single Run\n",
    "We run a simple strategy over the feed we just created to get some data to use for the charts. For this notebook we use the EMA crossover strategy with its default settings and capture the AccountSummary metrics. "
   ]
  },
  {
   "cell_type": "code",
   "execution_count": null,
   "metadata": {
    "tags": []
   },
   "outputs": [],
   "source": [
    "val strategy = EMACrossover()\n",
    "val roboquant =  Roboquant(strategy, AccountSummary())\n",
    "roboquant.run(feed)"
   ]
  },
  {
   "cell_type": "markdown",
   "metadata": {},
   "source": [
    "## Asset charts\n",
    "Lets see what assets are in our portfolio at the end of the run. We can plot only the assets (pie chart) or plot the assets per asset-class (sunburst chart). Optionally we can also say if the cash positions in the account should be included in the chart."
   ]
  },
  {
   "cell_type": "code",
   "execution_count": null,
   "metadata": {},
   "outputs": [],
   "source": [
    "val account = roboquant.broker.account\n",
    "\n",
    "AssetAllocationChart(account, includeCash = false, includeAssetClass=false)"
   ]
  },
  {
   "cell_type": "code",
   "execution_count": null,
   "metadata": {},
   "outputs": [],
   "source": [
    "AssetAllocationChart(account, includeCash = true, includeAssetClass=true)"
   ]
  },
  {
   "cell_type": "code",
   "execution_count": null,
   "metadata": {},
   "outputs": [],
   "source": [
    "// You can ofcourse also just print a summary\n",
    "account.portfolio.summary()"
   ]
  },
  {
   "cell_type": "markdown",
   "metadata": {},
   "source": [
    "## Trades\n",
    "Another important aspect is to see which trades has been executed as part of the back-test and how did they perform."
   ]
  },
  {
   "cell_type": "code",
   "execution_count": null,
   "metadata": {},
   "outputs": [],
   "source": [
    "TradeChart(account.trades, skipBuy = true)"
   ]
  },
  {
   "cell_type": "markdown",
   "metadata": {},
   "source": [
    "You can also plot other aspects of a trade, like the amount or fees.  "
   ]
  },
  {
   "cell_type": "code",
   "execution_count": null,
   "metadata": {},
   "outputs": [],
   "source": [
    "TradeChart(account.trades, aspect = \"amount\")"
   ]
  },
  {
   "cell_type": "code",
   "execution_count": null,
   "metadata": {},
   "outputs": [],
   "source": [
    "PriceBarChart(feed, apple, account.trades)"
   ]
  },
  {
   "cell_type": "markdown",
   "metadata": {},
   "source": [
    "##  Orders \n",
    "We can also view the orders that were created as part of the run. This time we don't plot the orders of all assets, but only of AMD."
   ]
  },
  {
   "cell_type": "code",
   "execution_count": null,
   "metadata": {},
   "outputs": [],
   "source": [
    "val orders = account.orders.filter { it.asset.symbol == \"AMD\" }\n",
    "OrderChart(orders)"
   ]
  },
  {
   "cell_type": "markdown",
   "metadata": {},
   "source": [
    "## Metrics\n",
    "\n",
    "Besides charts for account related information, you can also plot the metrics that where captured. We used the AccountSummary metric that keeps track of how our account performs during the back-test. We use the account value (= cash + positions), for this sample"
   ]
  },
  {
   "cell_type": "code",
   "execution_count": null,
   "metadata": {},
   "outputs": [],
   "source": [
    "val logger = roboquant.logger\n",
    "\n",
    "// What metrics are available\n",
    "logger.getMetricNames().summary(\"Metrics Names\")"
   ]
  },
  {
   "cell_type": "code",
   "execution_count": null,
   "metadata": {
    "tags": []
   },
   "outputs": [],
   "source": [
    "val data = logger.getMetric(\"account.value\")\n",
    "MetricChart(data)"
   ]
  },
  {
   "cell_type": "markdown",
   "metadata": {},
   "source": [
    "## Metric Box Chart\n",
    "If you want to inspect how volatile the performance of a strategy is, the metric box chart comes in handy. It provides insights into how a metric is distributed over a period of time. If provides the following info per box:\n",
    "\n",
    "- The minimum\n",
    "- low percentile (default is 25.0)\n",
    "- mid percentile (default is 50.0, aka median)\n",
    "- high percentile (default is 75.0)\n",
    "- the maximum \n",
    "\n",
    "So in this case it shows these statsistics of the **account value change** based on the monthly aggregate of daily values."
   ]
  },
  {
   "cell_type": "code",
   "execution_count": null,
   "metadata": {},
   "outputs": [],
   "source": [
    "val data = logger.getMetric(\"account.change\")\n",
    "MetricBoxChart(data)"
   ]
  },
  {
   "cell_type": "code",
   "execution_count": null,
   "metadata": {},
   "outputs": [],
   "source": [
    "MetricBoxChart(data, period=\"year\", lowPercentile = 10.0, highPercentile = 90.0)"
   ]
  },
  {
   "cell_type": "markdown",
   "metadata": {},
   "source": [
    "## Metric histogram\n",
    "If we want to see the distribution of values over the metric, we can use the MetricHistogram chart. Besides the metric data that needs to be plot, we can also specify the number of bins. On the x-axis the upperbound of each bin are displayed and on the y-axis how many oberservations fit in that bin."
   ]
  },
  {
   "cell_type": "code",
   "execution_count": null,
   "metadata": {},
   "outputs": [],
   "source": [
    "MetricHistogram(data, 15)"
   ]
  },
  {
   "cell_type": "markdown",
   "metadata": {},
   "source": [
    "# Multi Run back-test\n",
    "A good way to back-test your strategy is to run it multiple times over different time-frames. This section shows some charts that come in handy to better understand the results of those type of back-tests. \n",
    "\n",
    "## Walk-forward\n",
    "A commonly used approach in back-testing is the so called walk-forward. The historic data is split in a number of equal periods and then the strategy is run for each period seperately. This shows how the strategy would have performed during these different periods and possible different regimes.\n",
    "\n",
    "In the following code we split the data in periods of 1 year and for each period run it. We then plot again the account value as observed during each run."
   ]
  },
  {
   "cell_type": "code",
   "execution_count": null,
   "metadata": {},
   "outputs": [],
   "source": [
    "roboquant.reset()\n",
    "\n",
    "feed.split(Period.ofYears(1)).forEach { \n",
    "    roboquant.run(feed, it)   \n",
    "}\n",
    "\n",
    "val data = roboquant.logger.getMetric(\"account.value\")\n",
    "MetricChart(data)"
   ]
  },
  {
   "cell_type": "markdown",
   "metadata": {},
   "source": [
    "## Random sampling\n",
    "Another great way to back-test your strategy is to run it for a fixed duration at many random starting points in time. This gives you a good insight what could be a good and bad outcome of your strategy. The following piece of code runs the strategy 25 times, each time for the duration of 250 trading days. Feel free to change the number of runs from 25 to a higher value like 50 or 100. It is kept small so that also people with older or less powerfull computers don't have to wait too long.\n",
    "\n",
    "In this case we plot the *account value* (= cash + positions) again and you can see there are times we do well but there are also periods when we loose money."
   ]
  },
  {
   "cell_type": "code",
   "execution_count": null,
   "metadata": {
    "tags": []
   },
   "outputs": [],
   "source": [
    "roboquant.reset()\n",
    "roboquant.logger.showProgress = false\n",
    "\n",
    "repeat(25) {\n",
    "    val timeFrame = feed.sample(250)\n",
    "    roboquant.run(feed, timeFrame) \n",
    "}\n",
    "\n",
    "val data = roboquant.logger.getMetric(\"account.value\")\n",
    "MetricChart(data, useTime=false)"
   ]
  },
  {
   "cell_type": "markdown",
   "metadata": {},
   "source": [
    "If you want to see the same data, but this time plotted in time, you can use the same MetricChart class and provide the *useTime=true* parameter. This shows in which periods the strategy is performing well and in which periods it is struggeling. It is similar to the walk-forward approach, but provides at each moment in time multiple samples."
   ]
  },
  {
   "cell_type": "code",
   "execution_count": null,
   "metadata": {},
   "outputs": [],
   "source": [
    "MetricChart(data, useTime=true)"
   ]
  },
  {
   "cell_type": "markdown",
   "metadata": {},
   "source": [
    "# Other\n",
    "\n",
    "## Calender chart\n",
    "When evaluating the performance of a strategy, it is key to find out when the strategy was performing good and bad. A calendar charts allows you to plot a metric value per day, so it is easy to find out what days to further investigate. The slider at top of the chart allows for filtering only those days that are of interest.\n",
    "\n",
    "In the example below we plot the unrealized profit and loss to see when the strategy performed good (green) and when bad (red). It also demonstrates how to run it only for a limited timeframe."
   ]
  },
  {
   "cell_type": "code",
   "execution_count": null,
   "metadata": {
    "tags": []
   },
   "outputs": [],
   "source": [
    "val strategy = EMACrossover()\n",
    "val roboquant =  Roboquant(strategy, AccountSummary())\n",
    "roboquant.run(feed, TimeFrame.fromYears(2014, 2016))"
   ]
  },
  {
   "cell_type": "code",
   "execution_count": null,
   "metadata": {
    "tags": []
   },
   "outputs": [],
   "source": [
    "val data = roboquant.logger.getMetric(\"account.change\")\n",
    "val chart = CalendarChart(data)\n",
    "\n",
    "// You can also save charts to a file\n",
    "// chart.toHTMLFile(\"/tmp/calendar_result.html\")\n",
    "chart"
   ]
  },
  {
   "cell_type": "markdown",
   "metadata": {},
   "source": [
    "## Displaying multiple charts\n",
    "\n",
    "By using the *chart.render()* method you can display multiple charts in the output section of a single cell. The following code iterates over the assets in a feed of historic data and renders a candlestick chart for each one of them. It also demonstrates the excellent performance of the chart library, since every charts contains 20 years of daily data."
   ]
  },
  {
   "cell_type": "code",
   "execution_count": null,
   "metadata": {
    "tags": []
   },
   "outputs": [],
   "source": [
    "val assets = feed.assets.random(3)\n",
    "for (asset in assets) PriceBarChart(feed, asset).render()"
   ]
  },
  {
   "cell_type": "code",
   "execution_count": null,
   "metadata": {},
   "outputs": [],
   "source": []
  }
 ],
 "metadata": {
  "kernelspec": {
   "display_name": "Kotlin",
   "language": "kotlin",
   "name": "kotlin"
  },
  "language_info": {
   "codemirror_mode": "text/x-kotlin",
   "file_extension": ".kt",
   "mimetype": "text/x-kotlin",
   "name": "kotlin",
   "nbconvert_exporter": "",
   "pygments_lexer": "kotlin",
   "version": "1.6.0-dev-3567"
  }
 },
 "nbformat": 4,
 "nbformat_minor": 4
}
