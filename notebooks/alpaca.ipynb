{
 "cells": [
  {
   "cell_type": "markdown",
   "metadata": {},
   "source": [
    "# Introduction\n",
    "This notebook shows how to connect to Alpaca and receive live price data from it. We run a strategy using this live data feed for 10 minutes and then show some results.  "
   ]
  },
  {
   "cell_type": "code",
   "execution_count": 1,
   "metadata": {},
   "outputs": [
    {
     "data": {
      "text/html": [
       "            <div id=\"kotlin_out_0\"/>\n",
       "            <script type=\"text/javascript\">\n",
       "                            if(!window.kotlinQueues) {\n",
       "                window.kotlinQueues = {};\n",
       "            }\n",
       "            if(!window.kotlinQueues[\"echarts\"]) {\n",
       "                var resQueue = [];\n",
       "                window.kotlinQueues[\"echarts\"] = resQueue;\n",
       "                window[\"call_echarts\"] = function(f) {\n",
       "                    resQueue.push(f);\n",
       "                }\n",
       "            }\n",
       "            (function (){\n",
       "                var modifiers = [(function(script) {\n",
       "    script.src = \"https://cdn.jsdelivr.net/npm/echarts@5.1.2/dist/echarts.min.js\"\n",
       "})]\n",
       "                var e = document.getElementById(\"kotlin_out_0\");\n",
       "                modifiers.forEach(function (gen) {\n",
       "                    var script = document.createElement(\"script\");\n",
       "                    gen(script)\n",
       "                    script.onload = function() {\n",
       "                        window[\"call_echarts\"] = function(f) {f();};\n",
       "                        window.kotlinQueues[\"echarts\"].forEach(function(f) {f();});\n",
       "                        window.kotlinQueues[\"echarts\"] = [];\n",
       "                    };\n",
       "                    script.onerror = function() {\n",
       "                        window[\"call_echarts\"] = function(f) {};\n",
       "                        window.kotlinQueues[\"echarts\"] = [];\n",
       "                        var div = document.createElement(\"div\");\n",
       "                        div.style.color = 'darkred';\n",
       "                        div.textContent = 'Error loading resource echarts';\n",
       "                        document.getElementById(\"kotlin_out_0\").appendChild(div);\n",
       "                    };\n",
       "                    \n",
       "                    e.appendChild(script);\n",
       "                })\n",
       "            })()\n",
       "            </script>"
      ]
     },
     "metadata": {},
     "output_type": "display_data"
    },
    {
     "data": {
      "text/html": [
       "<img src=\"https://roboquant.org/img/avatar.png\" alt=\"roboquant logo\" align=\"left\" style=\"margin-right: 20px; max-height:150px;\"/>\n",
       "<span>\n",
       "    <b style=\"color: rgb(50,150,200);\"> roboquant </b> (version 0.8-SNAPSHOT)<br>\n",
       "    <b> home:</b> /home/peter/.roboquant<br>\n",
       "    <b> os:</b> Linux 5.13.14-200.fc34.x86_64<br>\n",
       "    <b> jvm:</b> OpenJDK 64-Bit Server VM 11.0.12<br>\n",
       "    <b> memory:</b> 7946 MB<br>\n",
       "    <b> env: </b> LAB\n",
       "</span>"
      ]
     },
     "execution_count": 1,
     "metadata": {},
     "output_type": "execute_result"
    }
   ],
   "source": [
    "%use roboquant\n",
    "Welcome()"
   ]
  },
  {
   "cell_type": "markdown",
   "metadata": {},
   "source": [
    "By default the Alpaca feed classes are not imported, so we need to do that first."
   ]
  },
  {
   "cell_type": "code",
   "execution_count": 2,
   "metadata": {},
   "outputs": [],
   "source": [
    "import org.roboquant.feeds.alpaca.*"
   ]
  },
  {
   "cell_type": "markdown",
   "metadata": {},
   "source": [
    "# Setup\n",
    "We now create, as usual, the strategy we want to test. There is nothing specific to Alapca that the strategy needs to be aware of. \n",
    "And we create an instance of Roboquant with the strategy we just defined and some metrics to later see how we have done. Again this is all independent of the data feed we are going to use."
   ]
  },
  {
   "cell_type": "code",
   "execution_count": 3,
   "metadata": {},
   "outputs": [],
   "source": [
    "val strategy = EMACrossover.shortTerm()\n",
    "val roboquant =  Roboquant(strategy, AccountSummary(), ProgressMetric())"
   ]
  },
  {
   "cell_type": "markdown",
   "metadata": {},
   "source": [
    "# Feed\n",
    "Now we create an instance of the AlpacaFeed and subscribe to one or more assets. We need to provide the API Key and Secret to authenticate against the Alpaca API. We can do this by:\n",
    "\n",
    "* Setting the environment or JVM variables APCA_API_KEY_ID and APCA_API_SECRET_KEY\n",
    "* Or pass them as parameters to the *AlpacaFeed* constructor. If you take this approach, make sure you don't accidentally share your notebook with anyone.\n",
    "\n",
    "Also if you are going to test this yourself, make sure you use KEY/SECRET for papertrading.\n"
   ]
  },
  {
   "cell_type": "code",
   "execution_count": 4,
   "metadata": {},
   "outputs": [],
   "source": [
    "// val feed = AlpacaFeed(\"your api key\", \"you secret\")\n",
    "\n",
    "val feed = AlpacaFeed()"
   ]
  },
  {
   "cell_type": "markdown",
   "metadata": {},
   "source": [
    "Alpaca offers the prices for many stocks. For this notebook we're going to limit that a bit, we just get all the stocks who's symboal name starts with \"AA\" and then subscribe to them. Alpaca has a generous API rate limit, so it is possible for example to subscribe to all S&P 500 assets."
   ]
  },
  {
   "cell_type": "code",
   "execution_count": 5,
   "metadata": {},
   "outputs": [
    {
     "data": {
      "text/plain": [
       "\u001b[34mAssets\u001b[0m\n",
       "├── STOCK AAA \n",
       "├── STOCK AAAU \n",
       "├── STOCK AAC.U \n",
       "├── STOCK AAL \n",
       "├── STOCK AAMC \n",
       "├── STOCK AAME \n",
       "├── STOCK AAN \n",
       "├── STOCK AAON \n",
       "├── STOCK AAP \n",
       "├── STOCK AAPL \n",
       "├── STOCK AAQC \n",
       "├── STOCK AAQC.U \n",
       "├── STOCK AAT \n",
       "├── STOCK AAU \n",
       "├── STOCK AAWW \n",
       "├── STOCK AAXJ \n",
       "├── STOCK AAC \n",
       "├── STOCK AACG \n",
       "├── STOCK AAIN \n",
       "├── STOCK AAOI \n",
       "├── STOCK AATC \n",
       "├── STOCK AACIU \n",
       "├── STOCK AADI \n",
       "├── STOCK AADR \n",
       "├── STOCK AAIC \n",
       "└── STOCK AA \n"
      ]
     },
     "execution_count": 5,
     "metadata": {},
     "output_type": "execute_result"
    }
   ],
   "source": [
    "val assets = feed.assets.filter { it.symbol.startsWith(\"AA\") }\n",
    "assets.summary()"
   ]
  },
  {
   "cell_type": "code",
   "execution_count": 6,
   "metadata": {},
   "outputs": [],
   "source": [
    "feed.subscribe(assets)"
   ]
  },
  {
   "cell_type": "markdown",
   "metadata": {},
   "source": [
    "# Run\n",
    "We have all the components we need to start the test. All that remains, is to start the run and evaluate the strategy against the feed. \n",
    "\n",
    "We'll run it for 10 minutes. If the time displayed looks wrong, don't forget that roboquant uses a timezone independent representation for all internal time processing (same as UTC)."
   ]
  },
  {
   "cell_type": "code",
   "execution_count": 7,
   "metadata": {},
   "outputs": [
    {
     "name": "stdout",
     "output_type": "stream",
     "text": [
      "2021-09-17 09:15:38 - 2021-09-17 09:25:38 | 100% |████████████████████████████████████████| Roboquant-0 | run=1 | phase=MAIN |\n"
     ]
    }
   ],
   "source": [
    "val timeFrame = TimeFrame.nextMinutes(10)\n",
    "roboquant.run(feed, timeFrame)\n",
    "feed.disconnect()"
   ]
  },
  {
   "cell_type": "markdown",
   "metadata": {},
   "source": [
    "# Results\n",
    "Lets see a few result"
   ]
  },
  {
   "cell_type": "code",
   "execution_count": 8,
   "metadata": {},
   "outputs": [
    {
     "data": {
      "text/plain": [
       "\u001b[34mAccount\u001b[0m\n",
       "├── last update: 2021-09-17T09:25:28.108537Z\n",
       "├── base currency: USD\n",
       "├── buying power: 1,000,000.00\n",
       "├── total value: 1,000,000.00\n",
       "├── \u001b[34mTrades\u001b[0m\n",
       "│   ├── total: 0\n",
       "│   ├── realized p&l: 0.00\n",
       "│   ├── assets: 0\n",
       "│   └── fee: 0.00\n",
       "├── \u001b[34mOrders\u001b[0m\n",
       "│   ├── total: 0\n",
       "│   ├── open: 0\n",
       "│   └── closed: 0\n",
       "├── \u001b[34mPortfolio\u001b[0m\n",
       "│   ├── open positions: 0\n",
       "│   ├── long positions: 0\n",
       "│   ├── short positions: 0\n",
       "│   ├── estimated value: 0.00\n",
       "│   └── unrealized p&l: 0.00\n",
       "└── \u001b[34mCash\u001b[0m\n",
       "    └── USD: 1,000,000.00\n"
      ]
     },
     "execution_count": 8,
     "metadata": {},
     "output_type": "execute_result"
    }
   ],
   "source": [
    "roboquant.broker.account.summary()"
   ]
  },
  {
   "cell_type": "code",
   "execution_count": 12,
   "metadata": {},
   "outputs": [
    {
     "name": "stdout",
     "output_type": "stream",
     "text": [
      "\u001b[34mMetrics\u001b[0m\n",
      "└── \u001b[34m2021-09-17T09:25:28.108537Z\u001b[0m\n",
      "    ├── account.orders: 0\n",
      "    ├── account.orders.open: 0\n",
      "    ├── account.trades: 0\n",
      "    ├── account.portfolio.assets: 0\n",
      "    ├── account.cash.currencies: 1\n",
      "    ├── account.cash.total: 1000000.000\n",
      "    ├── account.buyingPower: 1000000.000\n",
      "    ├── account.value: 1000000.000\n",
      "    ├── account.change: .000\n",
      "    ├── progress.actions: 0\n",
      "    ├── progress.steps: 59\n",
      "    ├── progress.trades: 0\n",
      "    ├── progress.orders: 0\n",
      "    └── progress.wallTime: 590043\n"
     ]
    }
   ],
   "source": [
    "val logger = roboquant.logger\n",
    "logger.summary().print()"
   ]
  },
  {
   "cell_type": "code",
   "execution_count": 13,
   "metadata": {},
   "outputs": [
    {
     "data": {
      "text/plain": [
       "\u001b[34mValues\u001b[0m\n",
       "├── account.orders\n",
       "├── account.orders.open\n",
       "├── account.trades\n",
       "├── account.portfolio.assets\n",
       "├── account.cash.currencies\n",
       "├── account.cash.total\n",
       "├── account.buyingPower\n",
       "├── account.value\n",
       "├── account.change\n",
       "├── progress.actions\n",
       "├── progress.steps\n",
       "├── progress.trades\n",
       "├── progress.orders\n",
       "└── progress.wallTime\n"
      ]
     },
     "execution_count": 13,
     "metadata": {},
     "output_type": "execute_result"
    }
   ],
   "source": [
    "logger.getMetricNames().summary()"
   ]
  },
  {
   "cell_type": "code",
   "execution_count": 10,
   "metadata": {},
   "outputs": [
    {
     "data": {
      "text/html": [
       "        <div style=\"width:100%;height:500px;\" class=\"rqcharts\"></div>\n",
       "\n",
       "        <script type=\"text/javascript\">\n",
       "            (function () {\n",
       "                let elem = document.currentScript.previousElementSibling;\n",
       "                let fn = function(a) {\n",
       "                    var myChart = echarts.init(elem, 'light');\n",
       "                    var option = {\n",
       "                xAxis: {\n",
       "                    type: 'time',\n",
       "                    scale: true\n",
       "                },\n",
       "                yAxis: {\n",
       "                    type: 'value',\n",
       "                    scale: true\n",
       "                },\n",
       "                 title: {\n",
       "                    text: 'Metric account value'\n",
       "                },\n",
       "                tooltip: {\n",
       "                    trigger: 'axis'\n",
       "                },\n",
       "                dataZoom: [{ type: 'inside'}, {}],\n",
       "                toolbox: {\n",
       "    feature: {\n",
       "        dataZoom: {\n",
       "            yAxisIndex: 'none'\n",
       "        },\n",
       "        dataView: {readOnly: true},\n",
       "        magicType: {type: ['line', 'bar']},\n",
       "        restore: {},\n",
       "        saveAsImage: {}\n",
       "    }\n",
       "},\n",
       "                \n",
       "            grid: {\n",
       "                left: '3%',\n",
       "                right: '3%',\n",
       "                containLabel: true\n",
       "            }\n",
       "        ,  \n",
       "                series : [\n",
       "                {\n",
       "                    name: '1/1',\n",
       "                    type: 'line',\n",
       "                    showSymbol: false,\n",
       "                    lineStyle: {\n",
       "                        width: 1\n",
       "                    },\n",
       "                    data : [[\"2021-09-17T09:15:48.071487Z\",1000000.00],[\"2021-09-17T09:15:58.073367Z\",1000000.00],[\"2021-09-17T09:16:08.073992Z\",1000000.00],[\"2021-09-17T09:16:18.074642Z\",1000000.00],[\"2021-09-17T09:16:28.075253Z\",1000000.00],[\"2021-09-17T09:16:38.075829Z\",1000000.00],[\"2021-09-17T09:16:48.076517Z\",1000000.00],[\"2021-09-17T09:16:58.077153Z\",1000000.00],[\"2021-09-17T09:17:08.077726Z\",1000000.00],[\"2021-09-17T09:17:18.078380Z\",1000000.00],[\"2021-09-17T09:17:28.079040Z\",1000000.00],[\"2021-09-17T09:17:38.079635Z\",1000000.00],[\"2021-09-17T09:17:48.080297Z\",1000000.00],[\"2021-09-17T09:17:58.080924Z\",1000000.00],[\"2021-09-17T09:18:08.081554Z\",1000000.00],[\"2021-09-17T09:18:18.082224Z\",1000000.00],[\"2021-09-17T09:18:28.082912Z\",1000000.00],[\"2021-09-17T09:18:38.083585Z\",1000000.00],[\"2021-09-17T09:18:48.084234Z\",1000000.00],[\"2021-09-17T09:18:58.084944Z\",1000000.00],[\"2021-09-17T09:19:08.085545Z\",1000000.00],[\"2021-09-17T09:19:18.086091Z\",1000000.00],[\"2021-09-17T09:19:28.086832Z\",1000000.00],[\"2021-09-17T09:19:38.087464Z\",1000000.00],[\"2021-09-17T09:19:48.088159Z\",1000000.00],[\"2021-09-17T09:19:58.088855Z\",1000000.00],[\"2021-09-17T09:20:08.089449Z\",1000000.00],[\"2021-09-17T09:20:18.090092Z\",1000000.00],[\"2021-09-17T09:20:28.090703Z\",1000000.00],[\"2021-09-17T09:20:38.091306Z\",1000000.00],[\"2021-09-17T09:20:48.091881Z\",1000000.00],[\"2021-09-17T09:20:58.092607Z\",1000000.00],[\"2021-09-17T09:21:08.093200Z\",1000000.00],[\"2021-09-17T09:21:18.093782Z\",1000000.00],[\"2021-09-17T09:21:28.094349Z\",1000000.00],[\"2021-09-17T09:21:38.094788Z\",1000000.00],[\"2021-09-17T09:21:48.095390Z\",1000000.00],[\"2021-09-17T09:21:58.095979Z\",1000000.00],[\"2021-09-17T09:22:08.096585Z\",1000000.00],[\"2021-09-17T09:22:18.097285Z\",1000000.00],[\"2021-09-17T09:22:28.097937Z\",1000000.00],[\"2021-09-17T09:22:38.098533Z\",1000000.00],[\"2021-09-17T09:22:48.099053Z\",1000000.00],[\"2021-09-17T09:22:58.099684Z\",1000000.00],[\"2021-09-17T09:23:08.100324Z\",1000000.00],[\"2021-09-17T09:23:18.100899Z\",1000000.00],[\"2021-09-17T09:23:28.101320Z\",1000000.00],[\"2021-09-17T09:23:38.101903Z\",1000000.00],[\"2021-09-17T09:23:48.102404Z\",1000000.00],[\"2021-09-17T09:23:58.102958Z\",1000000.00],[\"2021-09-17T09:24:08.103642Z\",1000000.00],[\"2021-09-17T09:24:18.104353Z\",1000000.00],[\"2021-09-17T09:24:28.104982Z\",1000000.00],[\"2021-09-17T09:24:38.105564Z\",1000000.00],[\"2021-09-17T09:24:48.106145Z\",1000000.00],[\"2021-09-17T09:24:58.106772Z\",1000000.00],[\"2021-09-17T09:25:08.107381Z\",1000000.00],[\"2021-09-17T09:25:18.107963Z\",1000000.00],[\"2021-09-17T09:25:28.108537Z\",1000000.00]]\n",
       "                },\n",
       "            ]\n",
       "            }\n",
       "       \n",
       "                    option && myChart.setOption(option);\n",
       "                    elem.ondblclick = function () { myChart.resize() };\n",
       "                    console.log('rendered new chart');     \n",
       "                }\n",
       "                call_echarts(fn)        \n",
       "            })()\n",
       "        </script>"
      ]
     },
     "execution_count": 10,
     "metadata": {},
     "output_type": "execute_result"
    }
   ],
   "source": [
    "val accountValue = logger.getMetric(\"account.value\")\n",
    "MetricChart(accountValue)"
   ]
  },
  {
   "cell_type": "code",
   "execution_count": null,
   "metadata": {},
   "outputs": [],
   "source": []
  },
  {
   "cell_type": "code",
   "execution_count": null,
   "metadata": {},
   "outputs": [],
   "source": []
  }
 ],
 "metadata": {
  "kernelspec": {
   "display_name": "Kotlin",
   "language": "kotlin",
   "name": "kotlin"
  },
  "language_info": {
   "codemirror_mode": "text/x-kotlin",
   "file_extension": ".kt",
   "mimetype": "text/x-kotlin",
   "name": "kotlin",
   "nbconvert_exporter": "",
   "pygments_lexer": "kotlin",
   "version": "1.6.0-dev-3567"
  }
 },
 "nbformat": 4,
 "nbformat_minor": 4
}
