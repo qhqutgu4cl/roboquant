{
 "cells": [
  {
   "cell_type": "markdown",
   "metadata": {},
   "source": [
    "# Introduction\n",
    "This notebook shows how to connect to Alpaca and receive live price data from it. We run a strategy using this live data feed for 10 minutes and then show some results.  "
   ]
  },
  {
   "cell_type": "code",
   "execution_count": null,
   "metadata": {},
   "outputs": [],
   "source": [
    "@file:Repository(\"https://roboquant.jfrog.io/artifactory/roboquant\")\n",
    "@file:DependsOn(\"org.roboquant:roboquant-extra:0.8-SNAPSHOT\")"
   ]
  },
  {
   "cell_type": "code",
   "execution_count": null,
   "metadata": {},
   "outputs": [],
   "source": [
    "Welcome()"
   ]
  },
  {
   "cell_type": "markdown",
   "metadata": {},
   "source": [
    "By default the Alpaca feed classes are not imported, so we need to do that first."
   ]
  },
  {
   "cell_type": "code",
   "execution_count": null,
   "metadata": {},
   "outputs": [],
   "source": [
    "import org.roboquant.feeds.alpaca.*"
   ]
  },
  {
   "cell_type": "markdown",
   "metadata": {},
   "source": [
    "# Setup\n",
    "We now create, as usual, the strategy we want to test. There is nothing specific to Alapca that the strategy needs to be aware of. "
   ]
  },
  {
   "cell_type": "code",
   "execution_count": null,
   "metadata": {},
   "outputs": [],
   "source": [
    "val strategy = TAStrategy(12)\n",
    "\n",
    "strategy.buy { \n",
    "    (ta.cdlMorningStar(it) || ta.cdlMorningDojiStar(it)) && ta.ema(it.close, 5) > ta.ema(it.close, 9)\n",
    "}\n",
    "\n",
    "strategy.sell { \n",
    "    ta.cdl2Crows(it) && ta.ema(it.close, 3) < ta.ema(it.close, 7)\n",
    "}\n",
    "\n"
   ]
  },
  {
   "cell_type": "markdown",
   "metadata": {},
   "source": [
    "We create an instance of Roboquant with the strategy we just defined and some metrics to later see how we have done. Again this is all independent of the data feed we are going to use"
   ]
  },
  {
   "cell_type": "code",
   "execution_count": null,
   "metadata": {},
   "outputs": [],
   "source": [
    "val roboquant =  Roboquant(strategy, AccountSummary(), ProgressMetric())"
   ]
  },
  {
   "cell_type": "markdown",
   "metadata": {},
   "source": [
    "# Feed\n",
    "Now we create an instance of the AlpacaFeed and subscribe to one or more assets. We need to provide the API Key and Secret to authenticate against the Alpaca API. We can do this by:\n",
    "\n",
    "* Setting the environment or JVM variables APCA_API_KEY_ID and APCA_API_SECRET_KEY\n",
    "* Or pass them as parameters to the *AlpacaFeed* constructor. If you take this approach, make sure you don't accidentally share your notebook with anyone.\n",
    "\n",
    "Also if you are going to test this yourself, make sure you use KEY/SECRET for papertrading.\n"
   ]
  },
  {
   "cell_type": "code",
   "execution_count": null,
   "metadata": {},
   "outputs": [],
   "source": [
    "val feed = AlpacaFeed(\"your api key\", \"you secret\")"
   ]
  },
  {
   "cell_type": "markdown",
   "metadata": {},
   "source": [
    "Alpaca offers the prices for many stocks. For this notebook we're going to limit that a bit, we just get all the stocks who's symboal name starts with \"AA\" and then subscribe to them. Alpaca has a generous API rate limit, so it is possible for example to subscribe to all S&P 500 assets."
   ]
  },
  {
   "cell_type": "code",
   "execution_count": null,
   "metadata": {},
   "outputs": [],
   "source": [
    "val assets = feed.assets.filter { it.symbol.startsWith(\"AA\") }\n",
    "assets.summary()"
   ]
  },
  {
   "cell_type": "code",
   "execution_count": null,
   "metadata": {},
   "outputs": [],
   "source": [
    "feed.subscribe(assets)"
   ]
  },
  {
   "cell_type": "markdown",
   "metadata": {},
   "source": [
    "# Run\n",
    "We have all the components we need to start the test. All that remains, is to start the run and evaluate the strategy against the feed. \n",
    "\n",
    "We'll run it for 10 minutes. If the time displayed looks wrong, don't forget that roboquant uses a timezone independent representation for all internal time processing (same as UTC)."
   ]
  },
  {
   "cell_type": "code",
   "execution_count": null,
   "metadata": {},
   "outputs": [],
   "source": [
    "val timeFrame = TimeFrame.nextMinutes(10)\n",
    "roboquant.run(feed, timeFrame)"
   ]
  },
  {
   "cell_type": "markdown",
   "metadata": {},
   "source": [
    "# Disconnect\n",
    "And we disconnect from the exchnage"
   ]
  },
  {
   "cell_type": "code",
   "execution_count": null,
   "metadata": {},
   "outputs": [],
   "source": [
    "feed.disconnect()"
   ]
  },
  {
   "cell_type": "code",
   "execution_count": null,
   "metadata": {},
   "outputs": [],
   "source": [
    "roboquant.broker.account.summary()"
   ]
  },
  {
   "cell_type": "code",
   "execution_count": null,
   "metadata": {},
   "outputs": [],
   "source": [
    "roboquant.logger.summary()"
   ]
  },
  {
   "cell_type": "code",
   "execution_count": null,
   "metadata": {},
   "outputs": [],
   "source": []
  },
  {
   "cell_type": "code",
   "execution_count": null,
   "metadata": {},
   "outputs": [],
   "source": []
  },
  {
   "cell_type": "code",
   "execution_count": null,
   "metadata": {},
   "outputs": [],
   "source": []
  }
 ],
 "metadata": {
  "kernelspec": {
   "display_name": "Kotlin",
   "language": "kotlin",
   "name": "kotlin"
  },
  "language_info": {
   "codemirror_mode": "text/x-kotlin",
   "file_extension": ".kt",
   "mimetype": "text/x-kotlin",
   "name": "kotlin",
   "nbconvert_exporter": "",
   "pygments_lexer": "kotlin",
   "version": "1.6.0-dev-3567"
  }
 },
 "nbformat": 4,
 "nbformat_minor": 4
}
