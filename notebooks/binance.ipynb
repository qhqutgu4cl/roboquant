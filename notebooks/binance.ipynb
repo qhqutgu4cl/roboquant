{
 "cells": [
  {
   "cell_type": "markdown",
   "metadata": {},
   "source": [
    "# Introduction\n",
    "\n",
    "\n",
    "This notebook shows how to run a strategy against a live feed coming from the Binance crypto exchange. Roboquant includes a dedicated module for crypto trading, including the support for Binance that we'll use in this notebook"
   ]
  },
  {
   "cell_type": "code",
   "execution_count": null,
   "metadata": {},
   "outputs": [],
   "source": [
    "%use roboquant\n",
    "Welcome()"
   ]
  },
  {
   "cell_type": "code",
   "execution_count": null,
   "metadata": {},
   "outputs": [],
   "source": [
    "import org.roboquant.binance.*"
   ]
  },
  {
   "cell_type": "markdown",
   "metadata": {},
   "source": [
    "# Setup\n",
    "We now create, as usual, the components we want to use. We start with defining a simple strategy that uses moving average. Because we won't be using USD as a base currency, we create a new Simbroker instance with an initial deposit of 1_000.000,- Binance USD (BUSD)."
   ]
  },
  {
   "cell_type": "code",
   "execution_count": null,
   "metadata": {},
   "outputs": [],
   "source": [
    "val strategy = EMACrossover(3, 5)\n",
    "val broker = SimBroker.withDeposit(1_000_000.00, \"BUSD\")\n",
    "val roboquant =  Roboquant(strategy, ProgressMetric(), broker = broker)"
   ]
  },
  {
   "cell_type": "markdown",
   "metadata": {},
   "source": [
    "# Binance Historic Feed\n",
    "We start with retrieving historic data from Binance. Please note how to define a currency-pair: CURRENCY1-CURRENCY2"
   ]
  },
  {
   "cell_type": "code",
   "execution_count": null,
   "metadata": {},
   "outputs": [],
   "source": [
    "val feed = BinanceHistoricFeed()\n",
    "val tf = TimeFrame.pastPeriod(500)\n",
    "feed.retrieve(\"BTC-BUSD\", timeFrame = tf)\n",
    "feed.timeFrame"
   ]
  },
  {
   "cell_type": "code",
   "execution_count": null,
   "metadata": {},
   "outputs": [],
   "source": [
    "PriceBarChart(feed, feed.assets.first())"
   ]
  },
  {
   "cell_type": "code",
   "execution_count": null,
   "metadata": {},
   "outputs": [],
   "source": [
    "roboquant.run(feed)"
   ]
  },
  {
   "cell_type": "code",
   "execution_count": null,
   "metadata": {},
   "outputs": [],
   "source": [
    "roboquant.logger.summary()"
   ]
  },
  {
   "cell_type": "code",
   "execution_count": null,
   "metadata": {},
   "outputs": [],
   "source": [
    "PriceChart(feed, feed.assets.first(), broker.account.trades)"
   ]
  },
  {
   "cell_type": "markdown",
   "metadata": {},
   "source": [
    "# Binance Live Feed\n",
    "Now we create an instance of the BinanceFeed and subscribe to pricebar events (candlesticks) of the the BTC/BUSD currency pair. It is also possible to subscribe to multiple currency pairs by adding additional parameters to the same *subscribePriceBar* method."
   ]
  },
  {
   "cell_type": "code",
   "execution_count": null,
   "metadata": {},
   "outputs": [],
   "source": [
    "val feed = BinanceFeed()\n",
    "feed.subscribePriceBar(\"BTC-BUSD\")"
   ]
  },
  {
   "cell_type": "markdown",
   "metadata": {},
   "source": [
    "Because we won't be using USD as a base currency, we create a new Simbroker instance with an initial deposit of 100.000,- Binance USD (BUSD). We also define some metrics that will help afterwards to check some statistics:\n",
    "\n",
    "1) ProgressMetric: overall progress of the run\n",
    "2) PriceMetric: capture the recorded prices for an asset"
   ]
  },
  {
   "cell_type": "code",
   "execution_count": null,
   "metadata": {},
   "outputs": [],
   "source": [
    "val strategy = EMACrossover(3, 5)\n",
    "val broker = SimBroker.withDeposit(1_000_000.00, \"BUSD\")\n",
    "val priceMetric = PriceMetric(feed.assets.first())\n",
    "val roboquant =  Roboquant(strategy, ProgressMetric(), priceMetric, broker = broker)"
   ]
  },
  {
   "cell_type": "markdown",
   "metadata": {},
   "source": [
    "All that remains is to start the run. Because it is a live feed we have to specify for how long we want to run it otherwise it would run forever or you interrupt the execution. In this case we run it for 30 minutes, but you can run it of course for any duration. If you run it for a short time, it is less likely that the used strategy would generate signals."
   ]
  },
  {
   "cell_type": "code",
   "execution_count": null,
   "metadata": {},
   "outputs": [],
   "source": [
    "val timeFrame = TimeFrame.nextMinutes(30)\n",
    "roboquant.run(feed, timeFrame)"
   ]
  },
  {
   "cell_type": "code",
   "execution_count": null,
   "metadata": {},
   "outputs": [],
   "source": [
    "roboquant.logger.summary()"
   ]
  },
  {
   "cell_type": "code",
   "execution_count": null,
   "metadata": {},
   "outputs": [],
   "source": [
    "PriceBarChart(priceMetric, priceMetric.asset)"
   ]
  },
  {
   "cell_type": "code",
   "execution_count": null,
   "metadata": {},
   "outputs": [],
   "source": [
    "PriceChart(priceMetric, priceMetric.asset, roboquant.broker.account.trades)"
   ]
  },
  {
   "cell_type": "markdown",
   "metadata": {},
   "source": [
    "# Binance Trading\n",
    "This is still work in progress and is currently not yet available. However the goal is that in the end you can also place orders on Binance using roboquant. There is already some ground work done, so have a look at the roboquant source code if you want to see what is already there and perhaps contribute some code. "
   ]
  },
  {
   "cell_type": "code",
   "execution_count": null,
   "metadata": {},
   "outputs": [],
   "source": []
  }
 ],
 "metadata": {
  "kernelspec": {
   "display_name": "Kotlin",
   "language": "kotlin",
   "name": "kotlin"
  },
  "language_info": {
   "codemirror_mode": "text/x-kotlin",
   "file_extension": ".kt",
   "mimetype": "text/x-kotlin",
   "name": "kotlin",
   "nbconvert_exporter": "",
   "pygments_lexer": "kotlin",
   "version": "1.6.0-dev-3567"
  }
 },
 "nbformat": 4,
 "nbformat_minor": 4
}
