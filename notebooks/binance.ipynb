{
 "cells": [
  {
   "cell_type": "markdown",
   "metadata": {},
   "source": [
    "# Introduction\n",
    "\n",
    "\n",
    "This notebook shows how to run a technical indicator strategy against a live feed coming from the Binance crypto exchange. In this example we're not interested in actually back-testing of the strategy, just the signals it produces.\n",
    "\n",
    "Whenever there is a new signal, whether it is a BUY or SELL, we get an notfication so we can react to it.\n",
    "\n",
    "Roboquant includes a dedicated module for crypto support, including Binance that we'll use in this notebook. Since this module already has dependencies declared on the core module, we don't need to inlcude that one also."
   ]
  },
  {
   "cell_type": "code",
   "execution_count": null,
   "metadata": {},
   "outputs": [],
   "source": [
    "%use roboquant\n",
    "Welcome()"
   ]
  },
  {
   "cell_type": "code",
   "execution_count": null,
   "metadata": {},
   "outputs": [],
   "source": [
    "import org.roboquant.feeds.binance.*"
   ]
  },
  {
   "cell_type": "markdown",
   "metadata": {},
   "source": [
    "# Setup\n",
    "We now create, as usual, the components we want to use. We start with defining a strategy that uses a few technical analysis indicators to detects candlechart patterns and trends in moving averages. This might not be a very useful combination of indicators and just serves to demonstrate how to combine multiple ones."
   ]
  },
  {
   "cell_type": "code",
   "execution_count": null,
   "metadata": {},
   "outputs": [],
   "source": [
    "val strategy = TAStrategy(15)\n",
    "\n",
    "strategy.buy {\n",
    "    ta.cdlMorningStar(it) || ta.ema(it.close, 3) > ta.ema(it.close, 5)\n",
    "}\n",
    "\n",
    "strategy.sell {\n",
    "    ta.cdl2Crows(it) && ta.ema(it.close, 3) < ta.ema(it.close, 5)\n",
    "}"
   ]
  },
  {
   "cell_type": "markdown",
   "metadata": {},
   "source": [
    "# Feed\n",
    "Now we create an instance of the BinanceFeed and subscribe to pricebar events (candlesticks) of the the BTC/BUSD currency pair. It is also possible to subscribe to multiple currency pairs by adding additional parameters to the same *subscribePriceBar* method."
   ]
  },
  {
   "cell_type": "code",
   "execution_count": null,
   "metadata": {},
   "outputs": [],
   "source": [
    "val feed = BinanceFeed()\n",
    "feed.subscribePriceBar(Pair(\"BTCBUSD\",\"BUSD\"))"
   ]
  },
  {
   "cell_type": "markdown",
   "metadata": {},
   "source": [
    "# Policy\n",
    "\n",
    "In this case we are only interested in the generated signals and not the actual testing. We can use the NotificationPolicy for this. This policy will send an email notification everytime it receives one or more signals from the strategy. But it will not generate any orders and thus the account stays unchanged. \n",
    "\n",
    "It is good practice not to use visible passwords in your notebook, so we rely here on that password being available through system or environment property. "
   ]
  },
  {
   "cell_type": "code",
   "execution_count": null,
   "metadata": {},
   "outputs": [],
   "source": [
    "val notifier = ConsoleNotifier()\n",
    "\n",
    "// Can also use email as a notifier. However this needs to be enabled at GMail account otherwise username/password authentication not allowed.\n",
    "// val notifier = EmailNotifier.usingGmail(\"username@gmail.com\", \"your_password\", \"to_email_address\")\n",
    "\n",
    "val policy = NotificationPolicy(notifier)"
   ]
  },
  {
   "cell_type": "markdown",
   "metadata": {},
   "source": [
    "Because we won't be using USD as a base currency, we create a non-default Simbroker with an initial deposit of 100.000,- Binance USD (BUSD). We also define some metrics that will help afterwards to check some statistics:\n",
    "\n",
    "1) ProgressMetric: overall progress of the run\n",
    "2) PriceMetric: capture the recorded prices for an asset"
   ]
  },
  {
   "cell_type": "code",
   "execution_count": null,
   "metadata": {},
   "outputs": [],
   "source": [
    "val broker = SimBroker.withDeposit(1_000_000.00, \"BUSD\")\n",
    "val priceMetric = PriceMetric(feed.assets.first())\n",
    "val roboquant =  Roboquant(strategy, ProgressMetric(), priceMetric, broker = broker)"
   ]
  },
  {
   "cell_type": "markdown",
   "metadata": {},
   "source": [
    "# Live Test\n",
    "All that remains is to start the run. We run it for 60 minutes, but you can run it of course for any duration."
   ]
  },
  {
   "cell_type": "code",
   "execution_count": null,
   "metadata": {},
   "outputs": [],
   "source": [
    "val timeFrame = TimeFrame.nextMinutes(60)\n",
    "roboquant.run(feed, timeFrame)"
   ]
  },
  {
   "cell_type": "markdown",
   "metadata": {},
   "source": [
    "# Results"
   ]
  },
  {
   "cell_type": "code",
   "execution_count": null,
   "metadata": {},
   "outputs": [],
   "source": [
    "roboquant.logger.summary()"
   ]
  },
  {
   "cell_type": "code",
   "execution_count": null,
   "metadata": {},
   "outputs": [],
   "source": [
    "PriceBarChart(priceMetric, priceMetric.asset)"
   ]
  },
  {
   "cell_type": "code",
   "execution_count": null,
   "metadata": {},
   "outputs": [],
   "source": []
  }
 ],
 "metadata": {
  "kernelspec": {
   "display_name": "Kotlin",
   "language": "kotlin",
   "name": "kotlin"
  },
  "language_info": {
   "codemirror_mode": "text/x-kotlin",
   "file_extension": ".kt",
   "mimetype": "text/x-kotlin",
   "name": "kotlin",
   "nbconvert_exporter": "",
   "pygments_lexer": "kotlin",
   "version": "1.6.0-dev-3567"
  }
 },
 "nbformat": 4,
 "nbformat_minor": 4
}
