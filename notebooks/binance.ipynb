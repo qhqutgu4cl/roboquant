{
 "cells": [
  {
   "cell_type": "markdown",
   "metadata": {},
   "source": [
    "# Introduction\n",
    "\n",
    "\n",
    "This notebook shows how to run a technical indicator strategy against a live feed coming from the Binance crypto exchange. In this example we're not interested in actually back-testing of the strategy, just the signals it produces.\n",
    "\n",
    "Whenever there is a new signal, whether it is a BUY or SELL, we get an notfication so we can react to it.\n",
    "\n",
    "Roboquant includes a dedicated module for crypto support, including Binance that we'll use in this notebook. Since this module already has dependencies declared on the core module, we don't need to inlcude that one also."
   ]
  },
  {
   "cell_type": "code",
   "execution_count": 1,
   "metadata": {},
   "outputs": [
    {
     "data": {
      "text/html": [
       "            <div id=\"kotlin_out_0\"/>\n",
       "            <script type=\"text/javascript\">\n",
       "                            if(!window.kotlinQueues) {\n",
       "                window.kotlinQueues = {};\n",
       "            }\n",
       "            if(!window.kotlinQueues[\"echarts\"]) {\n",
       "                var resQueue = [];\n",
       "                window.kotlinQueues[\"echarts\"] = resQueue;\n",
       "                window[\"call_echarts\"] = function(f) {\n",
       "                    resQueue.push(f);\n",
       "                }\n",
       "            }\n",
       "            (function (){\n",
       "                var modifiers = [(function(script) {\n",
       "    script.src = \"https://cdn.jsdelivr.net/npm/echarts@5/dist/echarts.min.js\"\n",
       "})]\n",
       "                var e = document.getElementById(\"kotlin_out_0\");\n",
       "                modifiers.forEach(function (gen) {\n",
       "                    var script = document.createElement(\"script\");\n",
       "                    gen(script)\n",
       "                    script.onload = function() {\n",
       "                        window[\"call_echarts\"] = function(f) {f();};\n",
       "                        window.kotlinQueues[\"echarts\"].forEach(function(f) {f();});\n",
       "                        window.kotlinQueues[\"echarts\"] = [];\n",
       "                    };\n",
       "                    script.onerror = function() {\n",
       "                        window[\"call_echarts\"] = function(f) {};\n",
       "                        window.kotlinQueues[\"echarts\"] = [];\n",
       "                        var div = document.createElement(\"div\");\n",
       "                        div.style.color = 'darkred';\n",
       "                        div.textContent = 'Error loading resource echarts';\n",
       "                        document.getElementById(\"kotlin_out_0\").appendChild(div);\n",
       "                    };\n",
       "                    \n",
       "                    e.appendChild(script);\n",
       "                })\n",
       "            })()\n",
       "            </script>"
      ]
     },
     "metadata": {},
     "output_type": "display_data"
    },
    {
     "data": {
      "text/html": [
       "<img src=\"https://roboquant.org/img/avatar.png\" alt=\"roboquant logo\" align=\"left\" style=\"margin-right: 20px; max-height:150px;\"/>\n",
       "<span>\n",
       "    <b style=\"color: rgb(50,150,200);\"> roboquant </b> (version 0.8-SNAPSHOT)<br>\n",
       "    <b> home:</b> /home/peter/.roboquant<br>\n",
       "    <b> os:</b> Linux 5.13.14-200.fc34.x86_64<br>\n",
       "    <b> jvm:</b> OpenJDK 64-Bit Server VM 11.0.12<br>\n",
       "    <b> memory:</b> 7946 MB<br>\n",
       "    <b> env: </b> LAB\n",
       "</span>"
      ]
     },
     "execution_count": 1,
     "metadata": {},
     "output_type": "execute_result"
    }
   ],
   "source": [
    "%use roboquant\n",
    "Welcome()"
   ]
  },
  {
   "cell_type": "code",
   "execution_count": 2,
   "metadata": {},
   "outputs": [],
   "source": [
    "import org.roboquant.feeds.binance.*"
   ]
  },
  {
   "cell_type": "markdown",
   "metadata": {},
   "source": [
    "# Setup\n",
    "We now create, as usual, the components we want to use. We start with defining a strategy that uses a few technical analysis indicators to detects candlechart patterns and trends in moving averages. This might not be a very useful combination of indicators and just serves to demonstrate how to combine multiple ones."
   ]
  },
  {
   "cell_type": "code",
   "execution_count": 3,
   "metadata": {},
   "outputs": [],
   "source": [
    "val strategy = EMACrossover(3, 5, minEvents = 3)"
   ]
  },
  {
   "cell_type": "markdown",
   "metadata": {},
   "source": [
    "# Feed\n",
    "Now we create an instance of the BinanceFeed and subscribe to pricebar events (candlesticks) of the the BTC/BUSD currency pair. It is also possible to subscribe to multiple currency pairs by adding additional parameters to the same *subscribePriceBar* method."
   ]
  },
  {
   "cell_type": "code",
   "execution_count": 4,
   "metadata": {},
   "outputs": [],
   "source": [
    "val feed = BinanceFeed()\n",
    "feed.subscribePriceBar(Pair(\"BTCBUSD\",\"BUSD\"))"
   ]
  },
  {
   "cell_type": "markdown",
   "metadata": {},
   "source": [
    "Because we won't be using USD as a base currency, we create a non-default Simbroker with an initial deposit of 100.000,- Binance USD (BUSD). We also define some metrics that will help afterwards to check some statistics:\n",
    "\n",
    "1) ProgressMetric: overall progress of the run\n",
    "2) PriceMetric: capture the recorded prices for an asset"
   ]
  },
  {
   "cell_type": "code",
   "execution_count": 11,
   "metadata": {},
   "outputs": [],
   "source": [
    "val broker = SimBroker.withDeposit(1_000_000.00, \"BUSD\")\n",
    "val priceMetric = PriceMetric(feed.assets.first())\n",
    "val roboquant =  Roboquant(strategy, ProgressMetric(), priceMetric, broker = broker)"
   ]
  },
  {
   "cell_type": "markdown",
   "metadata": {},
   "source": [
    "# Live Test\n",
    "All that remains is to start the run. We run it for 30 minutes, but you can run it of course for any duration."
   ]
  },
  {
   "cell_type": "code",
   "execution_count": 16,
   "metadata": {},
   "outputs": [
    {
     "name": "stdout",
     "output_type": "stream",
     "text": [
      "2021-09-19 18:44:35 - 2021-09-19 19:14:35 | 100% |████████████████████████████████████████| Roboquant-1 | run=2 | phase=MAIN |\n"
     ]
    }
   ],
   "source": [
    "val timeFrame = TimeFrame.nextMinutes(30)\n",
    "roboquant.run(feed, timeFrame)"
   ]
  },
  {
   "cell_type": "markdown",
   "metadata": {},
   "source": [
    "# Results"
   ]
  },
  {
   "cell_type": "code",
   "execution_count": 13,
   "metadata": {},
   "outputs": [
    {
     "data": {
      "text/plain": [
       "\u001b[34mMetrics\u001b[0m\n",
       "└── \u001b[34m2021-09-19T17:56:50.338698Z\u001b[0m\n",
       "    ├── progress.actions: 30\n",
       "    ├── progress.steps: 209\n",
       "    ├── progress.trades: 0\n",
       "    ├── progress.orders: 0\n",
       "    └── progress.wallTime: 1790088\n"
      ]
     },
     "execution_count": 13,
     "metadata": {},
     "output_type": "execute_result"
    }
   ],
   "source": [
    "roboquant.logger.summary()"
   ]
  },
  {
   "cell_type": "code",
   "execution_count": 14,
   "metadata": {},
   "outputs": [
    {
     "data": {
      "text/html": [
       "        <div style=\"width:100%;height:700px;\" class=\"rqcharts\"></div>\n",
       "\n",
       "        <script type=\"text/javascript\">\n",
       "            (function () {\n",
       "                let elem = document.currentScript.previousElementSibling;\n",
       "                let fn = function(a) {\n",
       "                    var myChart = echarts.init(elem, 'light');\n",
       "                    var option = {\n",
       "                dataset: {\n",
       "                    source: [[\"2021-09-19T17:27:00.926730Z\",47631.53,47631.53,47605.02,47610.5,5.48532,-1],[\"2021-09-19T17:28:01.122609Z\",47610.5,47614.68,47605.81,47611.77,2.24797,1],[\"2021-09-19T17:29:00.152992Z\",47611.77,47615.02,47387.94,47422.48,42.06655,-1],[\"2021-09-19T17:30:00.514445Z\",47422.49,47507.5,47412.4,47507.48,28.51178,1],[\"2021-09-19T17:31:00.286329Z\",47507.48,47507.48,47449.27,47449.27,5.36513,-1],[\"2021-09-19T17:32:00.233054Z\",47449.27,47449.27,47410.08,47424.46,4.38359,-1],[\"2021-09-19T17:33:00.189502Z\",47424.46,47424.46,47367.34,47391.56,10.78456,-1],[\"2021-09-19T17:34:00.203710Z\",47391.56,47429.1,47381.36,47423.13,4.78916,1],[\"2021-09-19T17:35:00.152984Z\",47422.13,47422.14,47396.43,47412.06,1.38565,-1],[\"2021-09-19T17:36:01.280909Z\",47412.06,47426.12,47411.46,47421.92,4.9359,1],[\"2021-09-19T17:37:00.403985Z\",47421.92,47438.77,47409.64,47422.56,10.34681,1],[\"2021-09-19T17:38:01.014129Z\",47422.56,47422.57,47400.53,47401.9,3.30083,-1],[\"2021-09-19T17:39:01.699479Z\",47401.89,47424.96,47400.02,47411.64,5.03525,1],[\"2021-09-19T17:40:00.289047Z\",47411.63,47411.64,47378.81,47378.81,7.71016,-1],[\"2021-09-19T17:41:01.442600Z\",47378.81,47396.96,47373.06,47384.52,3.53367,1],[\"2021-09-19T17:42:00.268445Z\",47387.29,47420.66,47379.28,47397.0,4.48994,1],[\"2021-09-19T17:43:00.721696Z\",47396.98,47402.93,47379.29,47384.79,2.75237,-1],[\"2021-09-19T17:44:01.145329Z\",47384.33,47392.52,47379.29,47392.52,3.39412,1],[\"2021-09-19T17:45:01.121611Z\",47392.53,47392.64,47346.0,47346.0,8.319,-1],[\"2021-09-19T17:46:01.011901Z\",47346.0,47360.3,47338.65,47338.66,6.50208,-1],[\"2021-09-19T17:47:00.545872Z\",47338.66,47381.53,47338.66,47349.78,9.57834,1],[\"2021-09-19T17:48:00.509864Z\",47350.67,47403.9,47350.67,47385.06,21.64372,1],[\"2021-09-19T17:49:00.617117Z\",47385.06,47391.5,47346.93,47346.94,5.76806,-1],[\"2021-09-19T17:50:01.446225Z\",47346.94,47355.48,47325.22,47325.27,5.3249,-1],[\"2021-09-19T17:51:00.638483Z\",47325.27,47346.8,47301.01,47312.38,9.32876,-1],[\"2021-09-19T17:52:02.379972Z\",47312.38,47318.84,47301.01,47317.81,6.76211,1],[\"2021-09-19T17:53:00.595295Z\",47315.64,47340.81,47312.3,47324.82,9.15442,1],[\"2021-09-19T17:54:00.224243Z\",47324.83,47364.75,47324.83,47361.57,4.34189,1],[\"2021-09-19T17:55:00.206999Z\",47361.58,47364.75,47343.23,47352.3,3.78649,-1],[\"2021-09-19T17:56:00.310805Z\",47352.3,47418.97,47352.22,47394.68,6.4848,1]]\n",
       "                },\n",
       "                title: {\n",
       "                    text: 'BTCBUSD 2021-09-19 17:27:00 - 2021-09-19 17:56:00'\n",
       "                },\n",
       "                tooltip: {\n",
       "                    trigger: 'axis',\n",
       "                    axisPointer: {\n",
       "                        type: 'line'\n",
       "                    }\n",
       "                },\n",
       "                toolbox: {\n",
       "    feature: {\n",
       "        dataZoom: {\n",
       "            yAxisIndex: 'none'\n",
       "        },\n",
       "        dataView: {readOnly: true},\n",
       "        magicType: {type: ['line', 'bar']},\n",
       "        restore: {},\n",
       "        saveAsImage: {}\n",
       "    }\n",
       "},\n",
       "                grid: [\n",
       "                    {\n",
       "                        left: 80,\n",
       "                        right: '3%',\n",
       "                        bottom: 200\n",
       "                    },\n",
       "                    {\n",
       "                        left: 80,\n",
       "                        right: '3%',\n",
       "                        height: 80,\n",
       "                        bottom: 80\n",
       "                    }\n",
       "                ],\n",
       "                xAxis: [\n",
       "                    {\n",
       "                        type: 'category',\n",
       "                        scale: true,\n",
       "                        boundaryGap: true,\n",
       "                        axisLine: {onZero: false},\n",
       "                        splitLine: {show: false},\n",
       "                        splitNumber: 20,\n",
       "                        min: 'dataMin',\n",
       "                        max: 'dataMax'\n",
       "                    },\n",
       "                    {\n",
       "                        type: 'category',\n",
       "                        gridIndex: 1,\n",
       "                        scale: true,\n",
       "                        boundaryGap: true,\n",
       "                        axisLine: {onZero: false},\n",
       "                        axisTick: {show: false},\n",
       "                        splitLine: {show: false},\n",
       "                        axisLabel: {show: false},\n",
       "                        splitNumber: 20,\n",
       "                        min: 'dataMin',\n",
       "                        max: 'dataMax'\n",
       "                    }\n",
       "                ],\n",
       "                yAxis: [\n",
       "                    {\n",
       "                        scale: true,\n",
       "                        splitArea: {\n",
       "                            show: true\n",
       "                        }\n",
       "                    },\n",
       "                    {\n",
       "                        scale: true,\n",
       "                        gridIndex: 1,\n",
       "                        splitNumber: 2,\n",
       "                        axisLabel: {show: false},\n",
       "                        axisLine: {show: false},\n",
       "                        axisTick: {show: false},\n",
       "                        splitLine: {show: false}\n",
       "                    }\n",
       "                ],\n",
       "                dataZoom: [\n",
       "                    {\n",
       "                        type: 'inside',\n",
       "                        xAxisIndex: [0, 1],\n",
       "                        start: 10,\n",
       "                        end: 100\n",
       "                    },\n",
       "                    {\n",
       "                        show: true,\n",
       "                        xAxisIndex: [0, 1],\n",
       "                        type: 'slider',\n",
       "                        bottom: 10,\n",
       "                        start: 10,\n",
       "                        end: 100\n",
       "                    }\n",
       "                ],\n",
       "                visualMap: {\n",
       "                    show: false,\n",
       "                    seriesIndex: 1,\n",
       "                    dimension: 6,\n",
       "                    pieces: [{\n",
       "                        value: 1,\n",
       "                        color: 'green'\n",
       "                    }, {\n",
       "                        value: -1,\n",
       "                        color: 'red'\n",
       "                    }]\n",
       "                },\n",
       "                series: [\n",
       "                    {\n",
       "                        type: 'candlestick',\n",
       "                        name: 'BTCBUSD',\n",
       "                        itemStyle: {\n",
       "                            color: 'green',\n",
       "                            color0: 'red',\n",
       "                            borderColor: 'green',\n",
       "                            borderColor0: 'red'\n",
       "                        },\n",
       "                         markPoint: {\n",
       "                                data: []\n",
       "                        },\n",
       "                        encode: {\n",
       "                            x: 0,\n",
       "                            y: [1, 4, 3, 2]\n",
       "                        },\n",
       "                          \n",
       "                    },\n",
       "                    {\n",
       "                        name: 'Volume',\n",
       "                        type: 'bar',\n",
       "                        xAxisIndex: 1,\n",
       "                        yAxisIndex: 1,\n",
       "                        itemStyle: {\n",
       "                            color: '#7fbe9e'\n",
       "                        },\n",
       "                        large: true,\n",
       "                        encode: {\n",
       "                            x: 0,\n",
       "                            y: 5\n",
       "                        }\n",
       "                    }\n",
       "                ]\n",
       "            };\n",
       "    \n",
       "                    option && myChart.setOption(option);\n",
       "                    elem.ondblclick = function () { myChart.resize() };\n",
       "                    console.log('rendered new chart');     \n",
       "                }\n",
       "                call_echarts(fn)        \n",
       "            })()\n",
       "        </script>"
      ]
     },
     "execution_count": 14,
     "metadata": {},
     "output_type": "execute_result"
    }
   ],
   "source": [
    "PriceBarChart(priceMetric, priceMetric.asset)"
   ]
  },
  {
   "cell_type": "code",
   "execution_count": 15,
   "metadata": {},
   "outputs": [
    {
     "data": {
      "text/html": [
       "        <div style=\"width:100%;height:500px;\" class=\"rqcharts\"></div>\n",
       "\n",
       "        <script type=\"text/javascript\">\n",
       "            (function () {\n",
       "                let elem = document.currentScript.previousElementSibling;\n",
       "                let fn = function(a) {\n",
       "                    var myChart = echarts.init(elem, 'light');\n",
       "                    var option = {\n",
       "                xAxis: {\n",
       "                    type: 'time',\n",
       "                    scale: true\n",
       "                },\n",
       "                yAxis: {\n",
       "                    type: 'value',\n",
       "                    scale: true\n",
       "                },\n",
       "                 title: {\n",
       "                    text: 'BTCBUSD 2021-09-19 17:27:00 - 2021-09-19 17:56:00'\n",
       "                },\n",
       "                tooltip: {\n",
       "                    trigger: 'axis'\n",
       "                },\n",
       "                dataZoom: [{ type: 'inside'}, {}],\n",
       "                toolbox: {\n",
       "    feature: {\n",
       "        dataZoom: {\n",
       "            yAxisIndex: 'none'\n",
       "        },\n",
       "        dataView: {readOnly: true},\n",
       "        magicType: {type: ['line', 'bar']},\n",
       "        restore: {},\n",
       "        saveAsImage: {}\n",
       "    }\n",
       "},\n",
       "                \n",
       "            grid: {\n",
       "                left: '3%',\n",
       "                right: '3%',\n",
       "                containLabel: true\n",
       "            }\n",
       "        ,  \n",
       "                series : [\n",
       "            {\n",
       "                name: 'BTCBUSD',\n",
       "                type: 'line',\n",
       "                showSymbol: false,\n",
       "                lineStyle: {\n",
       "                    width: 1\n",
       "                },\n",
       "                data : [[\"2021-09-19T17:27:00.926730Z\",47610.50],[\"2021-09-19T17:28:01.122609Z\",47611.77],[\"2021-09-19T17:29:00.152992Z\",47422.48],[\"2021-09-19T17:30:00.514445Z\",47507.48],[\"2021-09-19T17:31:00.286329Z\",47449.27],[\"2021-09-19T17:32:00.233054Z\",47424.46],[\"2021-09-19T17:33:00.189502Z\",47391.56],[\"2021-09-19T17:34:00.203710Z\",47423.13],[\"2021-09-19T17:35:00.152984Z\",47412.06],[\"2021-09-19T17:36:01.280909Z\",47421.92],[\"2021-09-19T17:37:00.403985Z\",47422.56],[\"2021-09-19T17:38:01.014129Z\",47401.90],[\"2021-09-19T17:39:01.699479Z\",47411.64],[\"2021-09-19T17:40:00.289047Z\",47378.81],[\"2021-09-19T17:41:01.442600Z\",47384.52],[\"2021-09-19T17:42:00.268445Z\",47397.00],[\"2021-09-19T17:43:00.721696Z\",47384.79],[\"2021-09-19T17:44:01.145329Z\",47392.52],[\"2021-09-19T17:45:01.121611Z\",47346.00],[\"2021-09-19T17:46:01.011901Z\",47338.66],[\"2021-09-19T17:47:00.545872Z\",47349.78],[\"2021-09-19T17:48:00.509864Z\",47385.06],[\"2021-09-19T17:49:00.617117Z\",47346.94],[\"2021-09-19T17:50:01.446225Z\",47325.27],[\"2021-09-19T17:51:00.638483Z\",47312.38],[\"2021-09-19T17:52:02.379972Z\",47317.81],[\"2021-09-19T17:53:00.595295Z\",47324.82],[\"2021-09-19T17:54:00.224243Z\",47361.57],[\"2021-09-19T17:55:00.206999Z\",47352.30],[\"2021-09-19T17:56:00.310805Z\",47394.68]],\n",
       "                markPoint: {\n",
       "                    data: []\n",
       "                },\n",
       "            },\n",
       "        ]\n",
       "            }\n",
       "       \n",
       "                    option && myChart.setOption(option);\n",
       "                    elem.ondblclick = function () { myChart.resize() };\n",
       "                    console.log('rendered new chart');     \n",
       "                }\n",
       "                call_echarts(fn)        \n",
       "            })()\n",
       "        </script>"
      ]
     },
     "execution_count": 15,
     "metadata": {},
     "output_type": "execute_result"
    }
   ],
   "source": [
    "PriceChart(priceMetric, priceMetric.asset, roboquant.broker.account.trades)"
   ]
  },
  {
   "cell_type": "code",
   "execution_count": null,
   "metadata": {},
   "outputs": [],
   "source": []
  },
  {
   "cell_type": "code",
   "execution_count": null,
   "metadata": {},
   "outputs": [],
   "source": []
  }
 ],
 "metadata": {
  "kernelspec": {
   "display_name": "Kotlin",
   "language": "kotlin",
   "name": "kotlin"
  },
  "language_info": {
   "codemirror_mode": "text/x-kotlin",
   "file_extension": ".kt",
   "mimetype": "text/x-kotlin",
   "name": "kotlin",
   "nbconvert_exporter": "",
   "pygments_lexer": "kotlin",
   "version": "1.6.0-dev-3567"
  }
 },
 "nbformat": 4,
 "nbformat_minor": 4
}
